{
  "cells": [
    {
      "cell_type": "markdown",
      "metadata": {
        "id": "view-in-github",
        "colab_type": "text"
      },
      "source": [
        "<a href=\"https://colab.research.google.com/github/AminFathollahi/NMA_DL/blob/main/tutorials/W2D1_Macrocircuits/student/W2D1_Tutorial1.ipynb\" target=\"_parent\"><img src=\"https://colab.research.google.com/assets/colab-badge.svg\" alt=\"Open In Colab\"/></a>"
      ]
    },
    {
      "cell_type": "markdown",
      "metadata": {
        "execution": {},
        "id": "taxIMOgERTl2"
      },
      "source": [
        "# Tutorial 1: Depth vs width\n",
        "\n",
        "**Week 2, Day 1: Macrocircuits**\n",
        "\n",
        "**By Neuromatch Academy**\n",
        "\n",
        "__Content creators:__ Gabriel Mel de Fontenay\n",
        "\n",
        "__Content reviewers:__ Surya Ganguli, Xaq Pitkow, Hlib Solodzhuk, Aakash Agrawal, Alish Dipani, Hossein Rezaei, Yousef Ghanbari, Mostafa Abdollahi, Patrick Mineault, Alex Murphy\n",
        "\n",
        "__Production editors:__ Konstantine Tsafatinos, Ella Batty, Spiros Chavlis, Samuele Bolotta, Hlib Solodzhuk, Alex Murphy\n"
      ]
    },
    {
      "cell_type": "markdown",
      "metadata": {
        "execution": {},
        "id": "oninpDCiRTl9"
      },
      "source": [
        "___\n",
        "\n",
        "\n",
        "# Tutorial Objectives\n",
        "\n",
        "*Estimated timing of tutorial: 1 hour*\n",
        "\n",
        "In this tutorial we will take a closer look at the **expressivity** of neural networks, the ability of neural networks to model a wide range of functions. We will make the following observations:\n",
        "\n",
        "- The **universal approximator theorem** guarantees that we can approximate any complex function using a network with a single hidden layer. The catch is that the approximating network might need to be extremely *wide* and the theorem only states the existence of such a model (not exactly how neurons are required per task)\n",
        "- We will explore this issue by constructing a complex function and attempting to fit it with shallow networks of varying widths\n",
        "- To create this complex function, we'll build a random deep neural network. This is an example of the **student-teacher setting**, where we attempt to fit a known *teacher* function (the deep network) using a *student* model (the shallow/wide network)\n",
        "- We will see that it can be either very easy or very difficult to learn from the deep (teacher) network and this difficulty is related to a form of **chaos** in the network activations\n",
        "- Each layer of a neural network can effectively expand and fold the input it receives from the previous layer. This repeated expansion and folding grants deep neural networks models high **expressivity** - ie. allows them to capture the behavior of a large number of different functions\n",
        "\n",
        "Let's get started!"
      ]
    },
    {
      "cell_type": "code",
      "execution_count": null,
      "metadata": {
        "cellView": "form",
        "execution": {},
        "id": "k73ro4Z7RTl_"
      },
      "outputs": [],
      "source": [
        "# @title Tutorial slides\n",
        "# @markdown These are the slides for the videos in all tutorials today\n",
        "\n",
        "from IPython.display import IFrame\n",
        "link_id = \"9n4fj\"\n",
        "print(f\"If you want to download the slides: https://osf.io/download/{link_id}/\")\n",
        "IFrame(src=f\"https://mfr.ca-1.osf.io/render?url=https://osf.io/download/{link_id}/?direct%26mode=render\", width=854, height=480)"
      ]
    },
    {
      "cell_type": "markdown",
      "metadata": {
        "execution": {},
        "id": "Fvo-E9TURTmB"
      },
      "source": [
        "---\n",
        "# Setup\n",
        "\n"
      ]
    },
    {
      "cell_type": "code",
      "execution_count": 1,
      "metadata": {
        "cellView": "form",
        "execution": {},
        "id": "h3hQ68LQRTmC",
        "outputId": "40562fb8-2619-4a43-f1e7-e40ac74fc870",
        "colab": {
          "base_uri": "https://localhost:8080/"
        }
      },
      "outputs": [
        {
          "output_type": "stream",
          "name": "stdout",
          "text": [
            "  Preparing metadata (setup.py) ... \u001b[?25l\u001b[?25hdone\n",
            "  Preparing metadata (setup.py) ... \u001b[?25l\u001b[?25hdone\n",
            "\u001b[2K   \u001b[90m━━━━━━━━━━━━━━━━━━━━━━━━━━━━━━━━━━━━━━━━\u001b[0m \u001b[32m1.6/1.6 MB\u001b[0m \u001b[31m19.6 MB/s\u001b[0m eta \u001b[36m0:00:00\u001b[0m\n",
            "\u001b[?25h  Building wheel for vibecheck (setup.py) ... \u001b[?25l\u001b[?25hdone\n",
            "  Building wheel for datatops (setup.py) ... \u001b[?25l\u001b[?25hdone\n"
          ]
        }
      ],
      "source": [
        "# @title Install and import feedback gadget\n",
        "\n",
        "!pip install vibecheck datatops --quiet\n",
        "\n",
        "from vibecheck import DatatopsContentReviewContainer\n",
        "def content_review(notebook_section: str):\n",
        "    return DatatopsContentReviewContainer(\n",
        "        \"\",  # No text prompt\n",
        "        notebook_section,\n",
        "        {\n",
        "            \"url\": \"https://pmyvdlilci.execute-api.us-east-1.amazonaws.com/klab\",\n",
        "            \"name\": \"neuromatch_neuroai\",\n",
        "            \"user_key\": \"wb2cxze8\",\n",
        "        },\n",
        "    ).render()\n",
        "\n",
        "\n",
        "feedback_prefix = \"W2D1_T1\""
      ]
    },
    {
      "cell_type": "code",
      "execution_count": 2,
      "metadata": {
        "cellView": "form",
        "execution": {},
        "id": "WMZBCi33RTmD"
      },
      "outputs": [],
      "source": [
        "# @title Imports\n",
        "\n",
        "#working with data\n",
        "import numpy as np\n",
        "\n",
        "#plotting\n",
        "import matplotlib.pyplot as plt\n",
        "import logging\n",
        "import matplotlib.patheffects as path_effects\n",
        "\n",
        "#interactive display\n",
        "import ipywidgets as widgets\n",
        "from tqdm.notebook import tqdm as tqdm\n",
        "\n",
        "#modeling\n",
        "import torch\n",
        "import torch.nn as nn"
      ]
    },
    {
      "cell_type": "code",
      "execution_count": 3,
      "metadata": {
        "cellView": "form",
        "execution": {},
        "id": "GGmPskgmRTmE"
      },
      "outputs": [],
      "source": [
        "# @title Figure settings\n",
        "\n",
        "logging.getLogger('matplotlib.font_manager').disabled = True\n",
        "\n",
        "%matplotlib inline\n",
        "%config InlineBackend.figure_format = 'retina' # perfrom high definition rendering for images and plots\n",
        "plt.style.use(\"https://raw.githubusercontent.com/NeuromatchAcademy/course-content/main/nma.mplstyle\")"
      ]
    },
    {
      "cell_type": "code",
      "execution_count": 4,
      "metadata": {
        "cellView": "form",
        "execution": {},
        "id": "hkMbPct5RTmF"
      },
      "outputs": [],
      "source": [
        "# @title Plotting functions\n",
        "\n",
        "def plot_loss(Es):\n",
        "    \"\"\"\n",
        "    Plot loss progression over time.\n",
        "\n",
        "    Inputs:\n",
        "    - Es (np.ndarray): sequence of loss values during training.\n",
        "    \"\"\"\n",
        "    with plt.xkcd():\n",
        "        plt.semilogy(Es_deep)\n",
        "        plt.xlabel('Epochs')\n",
        "        plt.ylabel('Error')\n",
        "    plt.title(\"Loss\")\n",
        "    plt.show()\n",
        "\n",
        "def plot_loss_as_function_of_width(Ws_student, Es_test, Es_train):\n",
        "    \"\"\"\n",
        "    Plot final loss of training as the function of the width of the network.\n",
        "    \"\"\"\n",
        "    with plt.xkcd():\n",
        "        plt.loglog(Ws_student, Es_test, '.-')\n",
        "        plt.loglog(Ws_student, Es_train[:,-1], '.-')\n",
        "        plt.legend(['Test', 'Train'])\n",
        "        plt.xlabel('Width')\n",
        "        plt.ylabel('Error')\n",
        "    plt.title(\"Loss\")\n",
        "    plt.show()\n",
        "\n",
        "def plot_students_predictions_vs_teacher_values(Es_train, X_test, y_test):\n",
        "    \"\"\"\n",
        "    Plot loss progression over the time and predicted values of student after training versus true ones generated from teacher.\n",
        "\n",
        "    Inputs:\n",
        "    - Es_train (np.ndarray): loss values.\n",
        "    - X_test (np.ndarray): test input data.\n",
        "    - y_test (np.ndarray): test outpu data.\n",
        "    \"\"\"\n",
        "    with plt.xkcd():\n",
        "        fig, axes = plt.subplots(1,2,figsize=(10,5))\n",
        "        plt.locator_params(nbins=3)\n",
        "\n",
        "        axes[0].semilogy(Es_train/float(y_test.var()))\n",
        "        axes[0].set_xlabel('Epochs')\n",
        "        axes[0].set_ylabel('Error')\n",
        "\n",
        "        axes[1].scatter(y_test.detach(),student(X_test).detach())\n",
        "        axes[1].set_xlabel('Teacher')\n",
        "        axes[1].set_ylabel('Student')\n",
        "\n",
        "        axes[1].tick_params(axis='y', labelrotation=90)\n",
        "        axes[1].set_yticks([-0.01,0,0.01])\n",
        "        axes[1].set_xticks([-0.01,0,0.01])\n",
        "\n",
        "def expressivity_visualization(layer, projected_traj_1, projected_traj_2, colors):\n",
        "    \"\"\"\n",
        "    Plot projected trajectories for points in the given layer for two different networks.\n",
        "\n",
        "    Inputs:\n",
        "    - layer (int): layer of networks to visualize.\n",
        "    - projected_traj_1 (np.ndarray): standard network projections.\n",
        "    - projected_traj_2 (np.ndarray): quasilinear network projections.\n",
        "    - colors (np.ndarray): colors to use in plotting.\n",
        "    \"\"\"\n",
        "\n",
        "    with plt.xkcd():\n",
        "\n",
        "        fig = plt.figure()\n",
        "        fig.suptitle(f'Layer {layer}', fontsize=16)\n",
        "\n",
        "        #standard net\n",
        "        ax1 = fig.add_subplot(121, projection='3d')\n",
        "        specific_layer_1 = projected_traj_1[layer]\n",
        "\n",
        "        for i in range(len(specific_layer_1) - 1):\n",
        "            ax1.plot([specific_layer_1[i, 0], specific_layer_1[i + 1, 0]], [specific_layer_1[i, 1], specific_layer_1[i + 1, 1]], [specific_layer_1[i, 2], specific_layer_1[i + 1, 2]], color=colors[i])\n",
        "\n",
        "        for line in ax1.get_lines():\n",
        "            line.set_path_effects([path_effects.Normal()])\n",
        "\n",
        "        ax1.set_title('Standard Net')\n",
        "        ax1.set_xlabel('X')\n",
        "        ax1.set_ylabel('Y')\n",
        "        ax1.set_zlabel('Z')\n",
        "\n",
        "        ax2 = fig.add_subplot(122, projection='3d')\n",
        "        specific_layer_2 = projected_traj_2[layer]\n",
        "\n",
        "        for i in range(len(specific_layer_2) - 1):\n",
        "            ax2.plot([specific_layer_2[i, 0], specific_layer_2[i + 1, 0]], [specific_layer_2[i, 1], specific_layer_2[i + 1, 1]], [specific_layer_2[i, 2], specific_layer_2[i + 1, 2]], color=colors[i])\n",
        "\n",
        "        for line in ax2.get_lines():\n",
        "            line.set_path_effects([path_effects.Normal()])\n",
        "\n",
        "        ax2.set_title('Quasi-Linear Net')\n",
        "        ax2.set_xlabel('X')\n",
        "        ax2.set_ylabel('Y')\n",
        "        ax2.set_zlabel('Z')\n",
        "\n",
        "        plt.tight_layout()\n",
        "        plt.show()"
      ]
    },
    {
      "cell_type": "code",
      "execution_count": 5,
      "metadata": {
        "cellView": "form",
        "execution": {},
        "id": "SbRTK7z9RTmG"
      },
      "outputs": [],
      "source": [
        "# @title Helper functions\n",
        "\n",
        "def generate_trajectories(W, D, P, sigma_1, sigma_2):\n",
        "    \"\"\"\n",
        "    Generate trajectories for evenly spaced points from unit circle through networks and project them to 3D space.\n",
        "\n",
        "    Inputs:\n",
        "    - W (int): width of each layer.\n",
        "    - D (int): depth of each layer.\n",
        "    - P (int): number of points from unit circle.\n",
        "    - sigma_1 (float): standard net standard deviation.\n",
        "    - sigma_2 (float): quasi-linear net standard deviation.\n",
        "    \"\"\"\n",
        "    #initialize nets\n",
        "    standard_net = make_MLP(2, W, D)\n",
        "    initialize_layers(standard_net, sigma_1)\n",
        "\n",
        "    quasilinear_net = make_MLP(2, W, D)\n",
        "    initialize_layers(quasilinear_net, sigma_2)\n",
        "\n",
        "    #sample points from unit circle\n",
        "    theta = np.linspace(0, 2 * np.pi, P)\n",
        "    points = np.array([np.cos(theta), np.sin(theta)]).T\n",
        "\n",
        "    #generate trajectories for first net\n",
        "    parameters = [param for param in standard_net.parameters()]\n",
        "\n",
        "    for index in range(len(parameters)):\n",
        "        if not index:\n",
        "            traj_1 = [np.tanh(points @ parameters[index].detach().numpy().T)]\n",
        "        else:\n",
        "            traj_1.append(np.tanh(traj_1[-1] @ parameters[index].detach().numpy().T))\n",
        "\n",
        "    #generate trajectories for second net\n",
        "    parameters = [param for param in quasilinear_net.parameters()]\n",
        "\n",
        "    for index in range(0, len(parameters)):\n",
        "        if not index:\n",
        "            traj_2 = [np.tanh(points @ parameters[index].detach().numpy().T)]\n",
        "        else:\n",
        "            traj_2.append(np.tanh(traj_2[-1] @ parameters[index].detach().numpy().T))\n",
        "\n",
        "    return np.array(traj_1[:-1]), np.array(traj_2[:-1])"
      ]
    },
    {
      "cell_type": "code",
      "execution_count": 6,
      "metadata": {
        "cellView": "form",
        "execution": {},
        "id": "jMchIjgIRTmI"
      },
      "outputs": [],
      "source": [
        "# @title Set random seed\n",
        "\n",
        "import random\n",
        "import numpy as np\n",
        "\n",
        "def set_seed(seed=None, seed_torch=True):\n",
        "  if seed is None:\n",
        "    seed = np.random.choice(2 ** 32)\n",
        "  random.seed(seed)\n",
        "  np.random.seed(seed)\n",
        "  if seed_torch:\n",
        "    torch.manual_seed(seed)\n",
        "    torch.cuda.manual_seed_all(seed)\n",
        "    torch.cuda.manual_seed(seed)\n",
        "    torch.backends.cudnn.benchmark = False\n",
        "    torch.backends.cudnn.deterministic = True\n",
        "\n",
        "set_seed(seed = 42)"
      ]
    },
    {
      "cell_type": "markdown",
      "metadata": {
        "execution": {},
        "id": "rpncin7zRTmJ"
      },
      "source": [
        "---\n",
        "\n",
        "# Section 1: Introduction\n",
        "\n",
        "In this section we will write some Python functions to help build some neural networks that will allow us to effectively examine the expressiity of shallow versus deep networks. We will specifically look at this issue through the lens of the universal approximation theorem and ask ourselves what deeper neural networks give us in terms of the ability of those models to capture a wide range of functions. As you will recall from today's introduction video, the idea of each layer being able to fold activations via an activation function increases the ability to model nonlinear functions much more effectively. After going through this tutorial, this idea will hopefully be much clearer.\n",
        "\n",
        "By **shallow network**, we mean one with a very small number of layers (e.g. one). A shallow networks can be **wide** if it has many, many neurons in this layer, or it can be smaller, having only a limited number of neurons. In contrast, by **deep networks**, we refer to the number of layers in the network. It's important to keep in mind that the term **wide** in the terminology we will use specifically refers to *the number of neurons in a layer, not the number of layers in a network*. If we take a single layer in a shallow or a deep network, we can describe it as being **wide** if it has a very large number of neurons."
      ]
    },
    {
      "cell_type": "code",
      "execution_count": null,
      "metadata": {
        "cellView": "form",
        "execution": {},
        "id": "Djn6kihuRTmL"
      },
      "outputs": [],
      "source": [
        "# @title Video 1: Introduction\n",
        "\n",
        "from ipywidgets import widgets\n",
        "from IPython.display import YouTubeVideo\n",
        "from IPython.display import IFrame\n",
        "from IPython.display import display\n",
        "\n",
        "class PlayVideo(IFrame):\n",
        "  def __init__(self, id, source, page=1, width=400, height=300, **kwargs):\n",
        "    self.id = id\n",
        "    if source == 'Bilibili':\n",
        "      src = f'https://player.bilibili.com/player.html?bvid={id}&page={page}'\n",
        "    elif source == 'Osf':\n",
        "      src = f'https://mfr.ca-1.osf.io/render?url=https://osf.io/download/{id}/?direct%26mode=render'\n",
        "    super(PlayVideo, self).__init__(src, width, height, **kwargs)\n",
        "\n",
        "def display_videos(video_ids, W=400, H=300, fs=1):\n",
        "  tab_contents = []\n",
        "  for i, video_id in enumerate(video_ids):\n",
        "    out = widgets.Output()\n",
        "    with out:\n",
        "      if video_ids[i][0] == 'Youtube':\n",
        "        video = YouTubeVideo(id=video_ids[i][1], width=W,\n",
        "                             height=H, fs=fs, rel=0)\n",
        "        print(f'Video available at https://youtube.com/watch?v={video.id}')\n",
        "      else:\n",
        "        video = PlayVideo(id=video_ids[i][1], source=video_ids[i][0], width=W,\n",
        "                          height=H, fs=fs, autoplay=False)\n",
        "        if video_ids[i][0] == 'Bilibili':\n",
        "          print(f'Video available at https://www.bilibili.com/video/{video.id}')\n",
        "        elif video_ids[i][0] == 'Osf':\n",
        "          print(f'Video available at https://osf.io/{video.id}')\n",
        "      display(video)\n",
        "    tab_contents.append(out)\n",
        "  return tab_contents\n",
        "\n",
        "video_ids = [('Youtube', 'KgsFMiF1Uh0'), ('Bilibili', 'BV1YD421M78R')]\n",
        "tab_contents = display_videos(video_ids, W=854, H=480)\n",
        "tabs = widgets.Tab()\n",
        "tabs.children = tab_contents\n",
        "for i in range(len(tab_contents)):\n",
        "  tabs.set_title(i, video_ids[i][0])\n",
        "display(tabs)"
      ]
    },
    {
      "cell_type": "markdown",
      "metadata": {
        "execution": {},
        "id": "5FqswBEYRTmM"
      },
      "source": [
        "\n",
        "The [universal approximator theorem](https://en.wikipedia.org/wiki/Universal_approximation_theorem) (UAT) guarantees that we can approximate any function arbitrarily well using a shallow network - ie. a network with a single hidden layer (figure below, left). So why do we need depth? The *catch* in the UAT is that approximating a complex function with a shallow network can require a very large number of hidden units - ie. the network must be very wide. The inability of shallow networks to efficiently implement certain functions suggests that network depth may be one of the brain's computational *secret sauces*.\n",
        "\n",
        "<img src=\"https://github.com/neuromatch/NeuroAI_Course/blob/main/tutorials/W2D1_Macrocircuits/static/nets.png?raw=true\" width=\"500\" alt=\"Shallow vs deep networks expressivity\">\n",
        "\n",
        "To illustrate this fact, we'll create a complex function and then attempt to fit it with single-hidden-layer neural networks of different widths. What we'll find is that although the UAT guarantees that sufficiently wide networks can approximate our function, the performance will actually not be very good for our shallow nets of modest width.\n",
        "\n",
        "One easy way to create a complex function is to build a random deep neural network (figure above, right), which serves as a teacher network (generating the ground truth outputs), and we'll also have a student network, whose goal is to learn the function defined by the teacher network. This approach - known as the **student-teacher setting** - is useful for both the computational and mathematical study of neural networks since it gives us complete control of the data generation process. Unlike with real-world data, we know the exact distribution of inputs and correct outputs. This means we aren't restricted by having to factor in any *noisy* signals that are not connected to our inputs.\n",
        "\n",
        "Finally, we will show that depending on the distribution of the weights, a random deep neural network can be either very difficult or very easy to approximate with a shallow network. The *complexity* of the function computed by a random deep network thus depends crucially on the weight distribution. One can actually understand the boundary between hard and easy cases as a kind of boundary between **chaos** and **non-chaos** in a certain dynamical system. We will confirm that on the non-chaotic side, a random deep neural network can be effectively approximated by a shallow net. This demonstration will be based on ideas from the following paper:\n",
        "\n",
        "[*Exponential expressivity in deep neural networks through transient chaos*](https://papers.nips.cc/paper_files/paper/2016/hash/148510031349642de5ca0c544f31b2ef-Abstract.html) (Poole et al., 2016)."
      ]
    },
    {
      "cell_type": "code",
      "execution_count": null,
      "metadata": {
        "cellView": "form",
        "execution": {},
        "id": "a2IVt8g0RTmN"
      },
      "outputs": [],
      "source": [
        "# @title Submit your feedback\n",
        "content_review(f\"{feedback_prefix}_introduction\")"
      ]
    },
    {
      "cell_type": "code",
      "execution_count": null,
      "metadata": {
        "cellView": "form",
        "execution": {},
        "id": "BJ50cGkzRTmO"
      },
      "outputs": [],
      "source": [
        "# @title Video 2: Setup\n",
        "\n",
        "from ipywidgets import widgets\n",
        "from IPython.display import YouTubeVideo\n",
        "from IPython.display import IFrame\n",
        "from IPython.display import display\n",
        "\n",
        "class PlayVideo(IFrame):\n",
        "  def __init__(self, id, source, page=1, width=400, height=300, **kwargs):\n",
        "    self.id = id\n",
        "    if source == 'Bilibili':\n",
        "      src = f'https://player.bilibili.com/player.html?bvid={id}&page={page}'\n",
        "    elif source == 'Osf':\n",
        "      src = f'https://mfr.ca-1.osf.io/render?url=https://osf.io/download/{id}/?direct%26mode=render'\n",
        "    super(PlayVideo, self).__init__(src, width, height, **kwargs)\n",
        "\n",
        "def display_videos(video_ids, W=400, H=300, fs=1):\n",
        "  tab_contents = []\n",
        "  for i, video_id in enumerate(video_ids):\n",
        "    out = widgets.Output()\n",
        "    with out:\n",
        "      if video_ids[i][0] == 'Youtube':\n",
        "        video = YouTubeVideo(id=video_ids[i][1], width=W,\n",
        "                             height=H, fs=fs, rel=0)\n",
        "        print(f'Video available at https://youtube.com/watch?v={video.id}')\n",
        "      else:\n",
        "        video = PlayVideo(id=video_ids[i][1], source=video_ids[i][0], width=W,\n",
        "                          height=H, fs=fs, autoplay=False)\n",
        "        if video_ids[i][0] == 'Bilibili':\n",
        "          print(f'Video available at https://www.bilibili.com/video/{video.id}')\n",
        "        elif video_ids[i][0] == 'Osf':\n",
        "          print(f'Video available at https://osf.io/{video.id}')\n",
        "      display(video)\n",
        "    tab_contents.append(out)\n",
        "  return tab_contents\n",
        "\n",
        "video_ids = [('Youtube', 'skw2TLi9oa8'), ('Bilibili', 'BV1yi421v72o')]\n",
        "tab_contents = display_videos(video_ids, W=854, H=480)\n",
        "tabs = widgets.Tab()\n",
        "tabs.children = tab_contents\n",
        "for i in range(len(tab_contents)):\n",
        "  tabs.set_title(i, video_ids[i][0])\n",
        "display(tabs)"
      ]
    },
    {
      "cell_type": "code",
      "execution_count": null,
      "metadata": {
        "cellView": "form",
        "execution": {},
        "id": "jNTRLHaqRTmP"
      },
      "outputs": [],
      "source": [
        "# @title Submit your feedback\n",
        "content_review(f\"{feedback_prefix}_setup\")"
      ]
    },
    {
      "cell_type": "markdown",
      "metadata": {
        "execution": {},
        "id": "fR6q4OHRRTmQ"
      },
      "source": [
        "## Coding Exercise 1: Create an MLP\n",
        "\n",
        "The code below implements a function that takes in an input dimension, a layer width, and a number of layers and creates a simple MLP in pytorch where each layer has the same width. In between each layer, we insert a hyperbolic tangent nonlinearity layer (`nn.Tanh()`).\n",
        "\n",
        "Convention: Because we will count the input as a layer, a depth of 2 will mean a network with just one hidden layer, followed by the output neuron. A depth of 3 will mean 2 hidden layers, and so on."
      ]
    },
    {
      "cell_type": "code",
      "execution_count": 7,
      "metadata": {
        "cellView": "form",
        "execution": {},
        "id": "TKyRaDCVRTmR"
      },
      "outputs": [],
      "source": [
        "# @title Network Implementation\n",
        "\n",
        "def make_MLP(n_in, W, D, nonlin = 'tanh'):\n",
        "    \"\"\"\n",
        "    Create `nn.Sequnetial()` fully-connected model in pytorch with the given parameters.\n",
        "\n",
        "    Inputs:\n",
        "    - n_in (int): input dimension.\n",
        "    - W (int): width of the network.\n",
        "    - D (int): depth if the network.\n",
        "    - nonlin (str, default = \"tanh\"): activation function to use.\n",
        "\n",
        "    Outputs:\n",
        "    - net (nn.Sequential): network.\n",
        "    \"\"\"\n",
        "\n",
        "    #activation function\n",
        "    if nonlin == 'tanh':\n",
        "        nonlin = nn.Tanh()\n",
        "    elif nonlin == 'relu':\n",
        "        nonlin == nn.ReLU()\n",
        "    else:\n",
        "        assert(False)\n",
        "\n",
        "    # Assemble D-1 hidden layers and one output layer\n",
        "\n",
        "    # input layer\n",
        "    layers = [nn.Linear(n_in, W, bias = False), nonlin]\n",
        "    for i in range(D - 2):\n",
        "        # linear layer\n",
        "        layers.append(nn.Linear(W, W, bias = False))\n",
        "        # activation function\n",
        "        layers.append(nonlin)\n",
        "    # output layer\n",
        "    layers.append(nn.Linear(W, 1, bias = False))\n",
        "\n",
        "    return nn.Sequential(*layers)\n",
        "\n",
        "net = make_MLP(n_in = 10, W = 3, D = 2)"
      ]
    },
    {
      "cell_type": "markdown",
      "metadata": {
        "execution": {},
        "id": "WSDPZbYzRTmR"
      },
      "source": [
        "Now, we implement an auxiliary function which calculates the number of parameters in the MLP."
      ]
    },
    {
      "cell_type": "code",
      "execution_count": 9,
      "metadata": {
        "execution": {},
        "id": "ORp2iqLORTmR",
        "outputId": "1dff0330-e9a1-405c-8f0c-6f74be2a0ab6",
        "colab": {
          "base_uri": "https://localhost:8080/",
          "height": 525
        }
      },
      "outputs": [
        {
          "output_type": "error",
          "ename": "AssertionError",
          "evalue": "\nNot equal to tolerance rtol=1e-07, atol=0\nExpected value of parameters number is different!\nMismatched elements: 1 / 1 (100%)\nMax absolute difference among violations: 16\nMax relative difference among violations: 0.48484848\n ACTUAL: array(49)\n DESIRED: array(33)",
          "traceback": [
            "\u001b[0;31m---------------------------------------------------------------------------\u001b[0m",
            "\u001b[0;31mAssertionError\u001b[0m                            Traceback (most recent call last)",
            "\u001b[0;32m/tmp/ipython-input-9-572014396.py\u001b[0m in \u001b[0;36m<cell line: 0>\u001b[0;34m()\u001b[0m\n\u001b[1;32m     21\u001b[0m     \u001b[0;32mreturn\u001b[0m \u001b[0minput_params\u001b[0m \u001b[0;34m+\u001b[0m \u001b[0mhidden_layers_params\u001b[0m \u001b[0;34m+\u001b[0m \u001b[0moutput_params\u001b[0m\u001b[0;34m\u001b[0m\u001b[0;34m\u001b[0m\u001b[0m\n\u001b[1;32m     22\u001b[0m \u001b[0;34m\u001b[0m\u001b[0m\n\u001b[0;32m---> 23\u001b[0;31m \u001b[0mnp\u001b[0m\u001b[0;34m.\u001b[0m\u001b[0mtesting\u001b[0m\u001b[0;34m.\u001b[0m\u001b[0massert_allclose\u001b[0m\u001b[0;34m(\u001b[0m\u001b[0mget_num_params\u001b[0m\u001b[0;34m(\u001b[0m\u001b[0;36m10\u001b[0m\u001b[0;34m,\u001b[0m \u001b[0;36m3\u001b[0m\u001b[0;34m,\u001b[0m \u001b[0;36m2\u001b[0m\u001b[0;34m)\u001b[0m\u001b[0;34m,\u001b[0m \u001b[0;36m33\u001b[0m\u001b[0;34m,\u001b[0m \u001b[0merr_msg\u001b[0m \u001b[0;34m=\u001b[0m \u001b[0;34m\"Expected value of parameters number is different!\"\u001b[0m\u001b[0;34m)\u001b[0m\u001b[0;34m\u001b[0m\u001b[0;34m\u001b[0m\u001b[0m\n\u001b[0m",
            "    \u001b[0;31m[... skipping hidden 1 frame]\u001b[0m\n",
            "\u001b[0;32m/usr/lib/python3.11/contextlib.py\u001b[0m in \u001b[0;36minner\u001b[0;34m(*args, **kwds)\u001b[0m\n\u001b[1;32m     79\u001b[0m         \u001b[0;32mdef\u001b[0m \u001b[0minner\u001b[0m\u001b[0;34m(\u001b[0m\u001b[0;34m*\u001b[0m\u001b[0margs\u001b[0m\u001b[0;34m,\u001b[0m \u001b[0;34m**\u001b[0m\u001b[0mkwds\u001b[0m\u001b[0;34m)\u001b[0m\u001b[0;34m:\u001b[0m\u001b[0;34m\u001b[0m\u001b[0;34m\u001b[0m\u001b[0m\n\u001b[1;32m     80\u001b[0m             \u001b[0;32mwith\u001b[0m \u001b[0mself\u001b[0m\u001b[0;34m.\u001b[0m\u001b[0m_recreate_cm\u001b[0m\u001b[0;34m(\u001b[0m\u001b[0;34m)\u001b[0m\u001b[0;34m:\u001b[0m\u001b[0;34m\u001b[0m\u001b[0;34m\u001b[0m\u001b[0m\n\u001b[0;32m---> 81\u001b[0;31m                 \u001b[0;32mreturn\u001b[0m \u001b[0mfunc\u001b[0m\u001b[0;34m(\u001b[0m\u001b[0;34m*\u001b[0m\u001b[0margs\u001b[0m\u001b[0;34m,\u001b[0m \u001b[0;34m**\u001b[0m\u001b[0mkwds\u001b[0m\u001b[0;34m)\u001b[0m\u001b[0;34m\u001b[0m\u001b[0;34m\u001b[0m\u001b[0m\n\u001b[0m\u001b[1;32m     82\u001b[0m         \u001b[0;32mreturn\u001b[0m \u001b[0minner\u001b[0m\u001b[0;34m\u001b[0m\u001b[0;34m\u001b[0m\u001b[0m\n\u001b[1;32m     83\u001b[0m \u001b[0;34m\u001b[0m\u001b[0m\n",
            "\u001b[0;32m/usr/local/lib/python3.11/dist-packages/numpy/testing/_private/utils.py\u001b[0m in \u001b[0;36massert_array_compare\u001b[0;34m(comparison, x, y, err_msg, verbose, header, precision, equal_nan, equal_inf, strict, names)\u001b[0m\n\u001b[1;32m    883\u001b[0m                                 \u001b[0mnames\u001b[0m\u001b[0;34m=\u001b[0m\u001b[0mnames\u001b[0m\u001b[0;34m,\u001b[0m\u001b[0;34m\u001b[0m\u001b[0;34m\u001b[0m\u001b[0m\n\u001b[1;32m    884\u001b[0m                                 precision=precision)\n\u001b[0;32m--> 885\u001b[0;31m             \u001b[0;32mraise\u001b[0m \u001b[0mAssertionError\u001b[0m\u001b[0;34m(\u001b[0m\u001b[0mmsg\u001b[0m\u001b[0;34m)\u001b[0m\u001b[0;34m\u001b[0m\u001b[0;34m\u001b[0m\u001b[0m\n\u001b[0m\u001b[1;32m    886\u001b[0m     \u001b[0;32mexcept\u001b[0m \u001b[0mValueError\u001b[0m\u001b[0;34m:\u001b[0m\u001b[0;34m\u001b[0m\u001b[0;34m\u001b[0m\u001b[0m\n\u001b[1;32m    887\u001b[0m         \u001b[0;32mimport\u001b[0m \u001b[0mtraceback\u001b[0m\u001b[0;34m\u001b[0m\u001b[0;34m\u001b[0m\u001b[0m\n",
            "\u001b[0;31mAssertionError\u001b[0m: \nNot equal to tolerance rtol=1e-07, atol=0\nExpected value of parameters number is different!\nMismatched elements: 1 / 1 (100%)\nMax absolute difference among violations: 16\nMax relative difference among violations: 0.48484848\n ACTUAL: array(49)\n DESIRED: array(33)"
          ]
        }
      ],
      "source": [
        "def get_num_params(n_in,W,D):\n",
        "    \"\"\"\n",
        "    Simple function to compute number of learned parameters in an MLP with given dimensions.\n",
        "\n",
        "    Inputs:\n",
        "    - n_in (int): input dimension.\n",
        "    - W (int): width of the network.\n",
        "    - D (int): depth if the network.\n",
        "\n",
        "    Outputs:\n",
        "    - num_params (int): number of parameters in the network.\n",
        "    \"\"\"\n",
        "    ###################################################################\n",
        "    ## Fill out the following then remove\n",
        "    # raise NotImplementedError(\"Student exercise: complete function which calculates the number of parameters in the defined architecture of MLP.\")\n",
        "    ###################################################################\n",
        "\n",
        "    input_params = n_in * W + W\n",
        "    hidden_layers_params = (D-1) * (W**2 + W)\n",
        "    output_params = W*1 +1\n",
        "    return input_params + hidden_layers_params + output_params\n",
        "\n",
        "np.testing.assert_allclose(get_num_params(10, 3, 2), 33, err_msg = \"Expected value of parameters number is different!\")"
      ]
    },
    {
      "cell_type": "markdown",
      "metadata": {
        "execution": {},
        "id": "2riQv3MlRTmT"
      },
      "source": [
        "[*Click for solution*](https://github.com/neuromatch/NeuroAI_Course/tree/main/tutorials/W2D1_Macrocircuits/solutions/W2D1_Tutorial1_Solution_bc99a7f9.py)\n",
        "\n"
      ]
    },
    {
      "cell_type": "code",
      "execution_count": null,
      "metadata": {
        "cellView": "form",
        "execution": {},
        "id": "YO3OvGb5RTmT"
      },
      "outputs": [],
      "source": [
        "# @title Submit your feedback\n",
        "content_review(f\"{feedback_prefix}_create_mlp\")"
      ]
    },
    {
      "cell_type": "markdown",
      "metadata": {
        "execution": {},
        "id": "2jmugqobRTmU"
      },
      "source": [
        "## Coding Exercise 2: Initialize model weights\n",
        "\n",
        "Write a function that, given a model and $\\sigma$, initializes all weights in the model according to a normal (Gaussian) distribution with mean $0$ and standard deviation\n",
        "\n",
        " $$\\frac{\\sigma}{\\sqrt{n_{in}}},$$\n",
        "\n",
        " where $n_{in}$ is the number of inputs to the layer."
      ]
    },
    {
      "cell_type": "code",
      "execution_count": 17,
      "metadata": {
        "execution": {},
        "id": "N7z6ybEERTmU"
      },
      "outputs": [],
      "source": [
        "set_seed(42)\n",
        "\n",
        "def initialize_layers(net,sigma):\n",
        "    \"\"\"\n",
        "    Set weight to each of the parameters in the model of value sigma/sqrt(n_in), where n_in is the number of inputs to the layer.\n",
        "\n",
        "    Inputs:\n",
        "    - net (nn.Sequential): network.\n",
        "    - sigma (float): standard deviation.\n",
        "    \"\"\"\n",
        "    ###################################################################\n",
        "    ## Fill out the following then remove\n",
        "    # raise NotImplementedError(\"Student exercise: set initial values to the weights of MLP.\")\n",
        "    ###################################################################\n",
        "    for param in net.parameters():\n",
        "        n_in = param.shape[1]\n",
        "        nn.init.normal_(param, std = sigma/np.sqrt(n_in))\n",
        "\n",
        "initialize_layers(net, 1)\n",
        "np.testing.assert_allclose(next(net.parameters())[0][0].item(), 0.609, err_msg = \"Expected value of parameter is different!\", atol = 1e-3)"
      ]
    },
    {
      "cell_type": "markdown",
      "metadata": {
        "execution": {},
        "id": "pgNBA53dRTmV"
      },
      "source": [
        "[*Click for solution*](https://github.com/neuromatch/NeuroAI_Course/tree/main/tutorials/W2D1_Macrocircuits/solutions/W2D1_Tutorial1_Solution_8c945e68.py)\n",
        "\n"
      ]
    },
    {
      "cell_type": "code",
      "execution_count": null,
      "metadata": {
        "cellView": "form",
        "execution": {},
        "id": "4U-_jeW-RTmV"
      },
      "outputs": [],
      "source": [
        "# @title Submit your feedback\n",
        "content_review(f\"{feedback_prefix}_initialize_model_weights\")"
      ]
    },
    {
      "cell_type": "markdown",
      "metadata": {
        "execution": {},
        "id": "H4V2AbhsRTmW"
      },
      "source": [
        "## Coding Exercise 3: Generate a dataset"
      ]
    },
    {
      "cell_type": "markdown",
      "metadata": {
        "execution": {},
        "id": "40ZdQ0-xRTmW"
      },
      "source": [
        "Given a network, generate the input data by sampling from a multivariate Gaussian distribution and output data by passing the inputs through the network. Don't forget to `.detach()` the outputs - otherwise, gradients will be computed for these (with respect to the teacher weights, which we don't want)."
      ]
    },
    {
      "cell_type": "code",
      "execution_count": 18,
      "metadata": {
        "execution": {},
        "id": "1YFqQIibRTmX"
      },
      "outputs": [],
      "source": [
        "set_seed(42)\n",
        "\n",
        "def make_data(net, n_in, n_examples):\n",
        "    \"\"\"\n",
        "    Generate data by sampling from a multivariate gaussian distribution, and output data by passing the inputs through the network.\n",
        "\n",
        "    Inputs:\n",
        "    - net (nn.Sequential): network.\n",
        "    - n_in (int): input dimension.\n",
        "    - n_examples (int): number of data examples to generate.\n",
        "\n",
        "    Outputs:\n",
        "    - X (torch.tensor): input data.\n",
        "    - y (torch.tensor): output data.\n",
        "    \"\"\"\n",
        "    ###################################################################\n",
        "    ## Fill out the following then remove\n",
        "    # raise NotImplementedError(\"Student exercise: complete data generation.\")\n",
        "    ###################################################################\n",
        "    X = torch.randn(n_examples,n_in)\n",
        "    y = net(X).detach()\n",
        "    return X, y\n",
        "\n",
        "X, y = make_data(net, 10, 10000000)\n",
        "np.testing.assert_allclose(X[0][0].item(), 1.927, err_msg = \"Expected value of data is different!\", atol = 1e-3)"
      ]
    },
    {
      "cell_type": "markdown",
      "metadata": {
        "execution": {},
        "id": "8RhEuzziRTmY"
      },
      "source": [
        "[*Click for solution*](https://github.com/neuromatch/NeuroAI_Course/tree/main/tutorials/W2D1_Macrocircuits/solutions/W2D1_Tutorial1_Solution_6b3d3e34.py)\n",
        "\n"
      ]
    },
    {
      "cell_type": "code",
      "execution_count": null,
      "metadata": {
        "cellView": "form",
        "execution": {},
        "id": "woqymKoqRTmY"
      },
      "outputs": [],
      "source": [
        "# @title Submit your feedback\n",
        "content_review(f\"{feedback_prefix}_generate_dataset\")"
      ]
    },
    {
      "cell_type": "markdown",
      "metadata": {
        "execution": {},
        "id": "pu5N_WZ4RTmY"
      },
      "source": [
        "## Coding Exercise 4: Train model and compute loss"
      ]
    },
    {
      "cell_type": "markdown",
      "metadata": {
        "execution": {},
        "id": "SFJMO8q_RTmZ"
      },
      "source": [
        "In this coding exercise, write a function that will train a given net on a given dataset. Function parameters include:\n",
        "\n",
        "* the network (`net`)\n",
        "* training inputs (`X`)\n",
        "* the outputs (`y`)\n",
        "* the number of steps (`n_epochs`)\n",
        "* the learning rate (`lr`)\n",
        "\n",
        "Use the mean-squared error (MSE) loss function in the learning algorithm. You might need to check the pytorch documentation to see the exact layer name you will need to call for this."
      ]
    },
    {
      "cell_type": "code",
      "execution_count": 27,
      "metadata": {
        "execution": {},
        "id": "YED_N23jRTmZ",
        "outputId": "f75bed3c-850f-4c27-982b-719e73843851",
        "colab": {
          "base_uri": "https://localhost:8080/",
          "height": 49,
          "referenced_widgets": [
            "c259e532c154493c9983004914faf426",
            "abd7530d9d454408b11673b6bc5f903b",
            "17608f7b7dc94542b6177032b2ab14cd",
            "041eb54869324487a07a33461abea00d",
            "1cd054ce0fbf468f8663e55bc548fe4c",
            "03b97d077019430d984c76e4013b4ee8",
            "b53cc81107014ff48d5e510ddf1ce2b9",
            "f180a5f2785c4e139387159c5f9bc51b",
            "7849f2533e8140cf8889adf248421e62",
            "38f287262b3b485ea1891690babd0a5f",
            "5e91c7dae37e42ae9ba512177a93e739"
          ]
        }
      },
      "outputs": [
        {
          "output_type": "display_data",
          "data": {
            "text/plain": [
              "  0%|          | 0/10 [00:00<?, ?it/s]"
            ],
            "application/vnd.jupyter.widget-view+json": {
              "version_major": 2,
              "version_minor": 0,
              "model_id": "c259e532c154493c9983004914faf426"
            }
          },
          "metadata": {}
        }
      ],
      "source": [
        "set_seed(42)\n",
        "\n",
        "def train_model(net, X, y, n_epochs, lr, progressbar=True):\n",
        "    \"\"\"\n",
        "    Perform training of the network.\n",
        "\n",
        "    Inputs:\n",
        "    - net (nn.Sequential): network.\n",
        "    - X (torch.tensor): input data.\n",
        "    - y (torch.tensor): output data.\n",
        "    - n_epochs (int): number of epochs to train the model for.\n",
        "    - lr (float): learning rate for optimizer (we will use `Adam` by default).\n",
        "    - progressbar (bool, default = True): whether to use additional bar for displaying training progress.\n",
        "\n",
        "    Outputs:\n",
        "    - Es (np.ndarray): array which contains loss for each epoch.\n",
        "    \"\"\"\n",
        "    ###################################################################\n",
        "    ## Fill out the following then remove\n",
        "    # raise NotImplementedError(\"Student exercise: complete training of the network.\")\n",
        "    ###################################################################\n",
        "\n",
        "    # Set up optimizer\n",
        "    loss_fn = nn.MSELoss()\n",
        "    optimizer = torch.optim.Adam(net.parameters(), lr = 1e-3)\n",
        "\n",
        "    # Run training loop\n",
        "    Es = np.zeros(n_epochs)\n",
        "    for n in (tqdm(range(n_epochs)) if progressbar else range(n_epochs)):\n",
        "        y_pred = net(X)\n",
        "        loss = loss_fn(y_pred, y)\n",
        "        optimizer.zero_grad()\n",
        "        loss.backward()\n",
        "        optimizer.step()\n",
        "        Es[n] = float(loss)\n",
        "\n",
        "    return Es\n",
        "\n",
        "Es = train_model(net, X, y, 10, 1e-3)\n",
        "np.testing.assert_allclose(Es[0], 0.0, err_msg = \"Expected value of loss is different!\", atol = 1e-3)"
      ]
    },
    {
      "cell_type": "code",
      "source": [
        "plt.figure()\n",
        "plt.plot(np.arange(1,10+1) ,Es )"
      ],
      "metadata": {
        "id": "ElU6lK2Wzoy3",
        "outputId": "150c01b2-3e1b-4640-8f67-85867afb110c",
        "colab": {
          "base_uri": "https://localhost:8080/",
          "height": 611
        }
      },
      "execution_count": 28,
      "outputs": [
        {
          "output_type": "execute_result",
          "data": {
            "text/plain": [
              "[<matplotlib.lines.Line2D at 0x7e1c575a2f10>]"
            ]
          },
          "metadata": {},
          "execution_count": 28
        },
        {
          "output_type": "display_data",
          "data": {
            "text/plain": [
              "<Figure size 800x600 with 1 Axes>"
            ],
            "image/png": "[encoded data removed]"
          },
          "metadata": {
            "image/png": {
              "width": 775,
              "height": 575
            }
          }
        }
      ]
    },
    {
      "cell_type": "markdown",
      "metadata": {
        "execution": {},
        "id": "axQxYaqNRTma"
      },
      "source": [
        "[*Click for solution*](https://github.com/neuromatch/NeuroAI_Course/tree/main/tutorials/W2D1_Macrocircuits/solutions/W2D1_Tutorial1_Solution_c3274cd4.py)\n",
        "\n"
      ]
    },
    {
      "cell_type": "markdown",
      "metadata": {
        "execution": {},
        "id": "Ih75O4lJRTmb"
      },
      "source": [
        "### Coding Exercise 4 Discussion\n",
        "\n",
        "Why do you think we obtain zero error right away (on the first epoch)?"
      ]
    },
    {
      "cell_type": "markdown",
      "metadata": {
        "execution": {},
        "id": "JHxHdqfcRTmc"
      },
      "source": [
        "[*Click for solution*](https://github.com/neuromatch/NeuroAI_Course/tree/main/tutorials/W2D1_Macrocircuits/solutions/W2D1_Tutorial1_Solution_a955337c.py)\n",
        "\n"
      ]
    },
    {
      "cell_type": "markdown",
      "metadata": {
        "execution": {},
        "id": "LfOkJH4bRTmc"
      },
      "source": [
        "Now, write a helper function that computes the loss of a net on a dataset. It takes the following parameters:\n",
        "\n",
        "* the network (`net`)\n",
        "* the dataset inputs (`X`)\n",
        "* the dataset outputs (`y`)"
      ]
    },
    {
      "cell_type": "code",
      "execution_count": 32,
      "metadata": {
        "execution": {},
        "id": "B-nNkep1RTmd"
      },
      "outputs": [],
      "source": [
        "def compute_loss(net, X, y):\n",
        "    \"\"\"\n",
        "    Calculate loss on given network and data.\n",
        "\n",
        "    Inputs:\n",
        "    - net (nn.Sequential): network.\n",
        "    - X (torch.tensor): input data.\n",
        "    - y (torch.tensor): output data.\n",
        "\n",
        "    Outputs:\n",
        "    - loss (float): computed loss.\n",
        "    \"\"\"\n",
        "    ###################################################################\n",
        "    ## Fill out the following then remove\n",
        "    # raise NotImplementedError(\"Student exercise: complete loss calculation.\")\n",
        "    ###################################################################\n",
        "    loss_fn = nn.MSELoss()\n",
        "\n",
        "    y_pred = net(X)\n",
        "    loss = loss_fn(y_pred, y)\n",
        "    loss = float(loss)\n",
        "    return loss\n",
        "\n",
        "loss = compute_loss(net, X, y)\n",
        "np.testing.assert_allclose(loss, 0.0, err_msg = \"Expected value of loss is different!\", atol = 1e-3)"
      ]
    },
    {
      "cell_type": "markdown",
      "metadata": {
        "execution": {},
        "id": "cv7ndZlKRTme"
      },
      "source": [
        "[*Click for solution*](https://github.com/neuromatch/NeuroAI_Course/tree/main/tutorials/W2D1_Macrocircuits/solutions/W2D1_Tutorial1_Solution_6fa930a8.py)\n",
        "\n"
      ]
    },
    {
      "cell_type": "code",
      "execution_count": null,
      "metadata": {
        "cellView": "form",
        "execution": {},
        "id": "kgDfs8GcRTmf"
      },
      "outputs": [],
      "source": [
        "# @title Submit your feedback\n",
        "content_review(f\"{feedback_prefix}_train_model_and_compute_loss\")"
      ]
    },
    {
      "cell_type": "markdown",
      "metadata": {
        "execution": {},
        "id": "iI3xRKfcRTmg"
      },
      "source": [
        "---\n",
        "\n",
        "# Section 2: Fitting a deep network with a shallow network\n",
        "\n",
        "Estimated timing to here from start of tutorial: 20 minutes\n",
        "\n",
        "We will now use the functions we created to experiment with fitting various student models to our complex function (which we defined earlier to be a randomly initialized deep neural network, what we defined as the teacher network). In particular, we will see to what extent it is possible to fit a deep net using a shallow net. We will freeze a deep teacher network and then fit it with a single-hidden-layer net with varying width sizes. In principle, if the number of hidden units is large enough, the error should be low (according to the universal approximation theorem)\n",
        "\n",
        "Let's see if that's the case!"
      ]
    },
    {
      "cell_type": "code",
      "execution_count": null,
      "metadata": {
        "cellView": "form",
        "execution": {},
        "id": "_79bWkjPRTmh"
      },
      "outputs": [],
      "source": [
        "# @title Video 3: Deep network fit with a shallow network\n",
        "\n",
        "from ipywidgets import widgets\n",
        "from IPython.display import YouTubeVideo\n",
        "from IPython.display import IFrame\n",
        "from IPython.display import display\n",
        "\n",
        "class PlayVideo(IFrame):\n",
        "  def __init__(self, id, source, page=1, width=400, height=300, **kwargs):\n",
        "    self.id = id\n",
        "    if source == 'Bilibili':\n",
        "      src = f'https://player.bilibili.com/player.html?bvid={id}&page={page}'\n",
        "    elif source == 'Osf':\n",
        "      src = f'https://mfr.ca-1.osf.io/render?url=https://osf.io/download/{id}/?direct%26mode=render'\n",
        "    super(PlayVideo, self).__init__(src, width, height, **kwargs)\n",
        "\n",
        "def display_videos(video_ids, W=400, H=300, fs=1):\n",
        "  tab_contents = []\n",
        "  for i, video_id in enumerate(video_ids):\n",
        "    out = widgets.Output()\n",
        "    with out:\n",
        "      if video_ids[i][0] == 'Youtube':\n",
        "        video = YouTubeVideo(id=video_ids[i][1], width=W,\n",
        "                             height=H, fs=fs, rel=0)\n",
        "        print(f'Video available at https://youtube.com/watch?v={video.id}')\n",
        "      else:\n",
        "        video = PlayVideo(id=video_ids[i][1], source=video_ids[i][0], width=W,\n",
        "                          height=H, fs=fs, autoplay=False)\n",
        "        if video_ids[i][0] == 'Bilibili':\n",
        "          print(f'Video available at https://www.bilibili.com/video/{video.id}')\n",
        "        elif video_ids[i][0] == 'Osf':\n",
        "          print(f'Video available at https://osf.io/{video.id}')\n",
        "      display(video)\n",
        "    tab_contents.append(out)\n",
        "  return tab_contents\n",
        "\n",
        "video_ids = [('Youtube', 'blzAxXqh1EU'), ('Bilibili', 'BV13i421e73V')]\n",
        "tab_contents = display_videos(video_ids, W=854, H=480)\n",
        "tabs = widgets.Tab()\n",
        "tabs.children = tab_contents\n",
        "for i in range(len(tab_contents)):\n",
        "  tabs.set_title(i, video_ids[i][0])\n",
        "display(tabs)"
      ]
    },
    {
      "cell_type": "code",
      "execution_count": null,
      "metadata": {
        "cellView": "form",
        "execution": {},
        "id": "BJ04-qOHRTmi"
      },
      "outputs": [],
      "source": [
        "# @title Submit your feedback\n",
        "content_review(f\"{feedback_prefix}_deep_network_fit_with_a_shallow_network\")"
      ]
    },
    {
      "cell_type": "markdown",
      "metadata": {
        "execution": {},
        "id": "W7CF2coQRTmj"
      },
      "source": [
        "## Coding Exercise 5: Create learning problem\n",
        "\n",
        "Create a *deep* teacher network that accepts inputs of size `5`. Give the network a width of `5` and a depth of `5`. Use this to generate both a training and test set with 4,000 examples for training and 1,000 for testing. Initialize weights with a standard deviation of `2.0`."
      ]
    },
    {
      "cell_type": "code",
      "execution_count": 36,
      "metadata": {
        "execution": {},
        "id": "n6CNFpqNRTmj"
      },
      "outputs": [],
      "source": [
        "###################################################################\n",
        "# Fill out the following then remove\n",
        "# raise NotImplementedError(\"Student exercise: complete set up.\")\n",
        "###################################################################\n",
        "torch.manual_seed(-1)\n",
        "\n",
        "# Create teacher\n",
        "n_in = 5     # input dimension\n",
        "W_teacher, D_teacher = 5, 5  # teacher width, depth\n",
        "sigma_teacher = 2.0     # teacher weight variance\n",
        "teacher = make_MLP(n_in,W_teacher, D_teacher)\n",
        "initialize_layers(teacher, sigma_teacher)\n",
        "\n",
        "# generate train and test set\n",
        "N_train, N_test = 4000, 1000\n",
        "X_train, y_train = make_data(teacher,n_in, N_train)\n",
        "X_test, y_test = make_data(teacher, n_in, N_test)\n",
        "\n",
        "np.testing.assert_allclose(X_test[0][0].item(), 0.19076240062713623, err_msg = \"Expected value of data is different!\")"
      ]
    },
    {
      "cell_type": "markdown",
      "metadata": {
        "execution": {},
        "id": "rtHl7ccjRTmk"
      },
      "source": [
        "[*Click for solution*](https://github.com/neuromatch/NeuroAI_Course/tree/main/tutorials/W2D1_Macrocircuits/solutions/W2D1_Tutorial1_Solution_8817495d.py)\n",
        "\n"
      ]
    },
    {
      "cell_type": "markdown",
      "metadata": {
        "execution": {},
        "id": "6nUfOQ-SRTmk"
      },
      "source": [
        "### Coding Exercise 5 Discussion\n",
        "\n",
        "1. What is the minimum error achievable by an MLP on the generated problem?\n",
        "2. What is the minimum error achievable by a 1-hidden-layer MLP?"
      ]
    },
    {
      "cell_type": "markdown",
      "metadata": {
        "execution": {},
        "id": "tlQ0ug_kRTml"
      },
      "source": [
        "[*Click for solution*](https://github.com/neuromatch/NeuroAI_Course/tree/main/tutorials/W2D1_Macrocircuits/solutions/W2D1_Tutorial1_Solution_166f0c8a.py)\n",
        "\n"
      ]
    },
    {
      "cell_type": "code",
      "execution_count": null,
      "metadata": {
        "cellView": "form",
        "execution": {},
        "id": "AQ_gxTC9RTml"
      },
      "outputs": [],
      "source": [
        "# @title Submit your feedback\n",
        "content_review(f\"{feedback_prefix}_create_learning_problem\")"
      ]
    },
    {
      "cell_type": "markdown",
      "metadata": {
        "execution": {},
        "id": "_NCWg4GeRTmm"
      },
      "source": [
        "## Coding Exercise 6: Train net with the same architecture\n",
        "\n",
        "Create a student network with the same architecture as the teacher network - that is, the same width and depth. Train it and confirm that a network with the same architecture can indeed achieve low test error. You may need to train for a large number of iterations, and you may need to adjust the learning rate as learning proceeds.\n",
        "\n",
        "First, let's confirm that the number of training examples is greater than 3 times the number of parameters, so we have enough data to train the network."
      ]
    },
    {
      "cell_type": "code",
      "execution_count": 37,
      "metadata": {
        "execution": {},
        "id": "0YuxNWuhRTmn"
      },
      "outputs": [],
      "source": [
        "n_in = 5\n",
        "W_student, D_student = 5, 5\n",
        "student = make_MLP(n_in, W_student, D_student)\n",
        "\n",
        "# make sure we have enough data\n",
        "P = get_num_params(n_in, W_student, D_student)\n",
        "assert(N_train > 3*P)"
      ]
    },
    {
      "cell_type": "markdown",
      "metadata": {
        "execution": {},
        "id": "p41toKXgRTmn"
      },
      "source": [
        "Now, let's train the student and observe the loss on a semi-log plot (the y-axis is logarithmic)! Your task is to complete the missing parts of the code. While the model is being trained, you can go to the next coding exercise and return back to observe the results shortly. It will take approximately 5 minutes for the model to complete its training call."
      ]
    },
    {
      "cell_type": "code",
      "execution_count": 38,
      "metadata": {
        "execution": {},
        "id": "Nzl1nPC2RTmo",
        "outputId": "ca3b94ad-9cb9-4abc-b730-de2e3e6a0c89",
        "colab": {
          "base_uri": "https://localhost:8080/",
          "height": 739,
          "referenced_widgets": [
            "d838f563da1044dd99ad4130295a4c29",
            "88e7571252bd48b8a7e317f0dfc63577",
            "4d08acef6fa84e36aacd0bc9b5cf89bd",
            "a492d400721447698079c332e76f6d1a",
            "faf01d9654024fd0926b43015104dfd0",
            "d0e01e9a4ec24da3a2642e88ee8c8120",
            "5afc8aca22804103a826ce6351e8b02c",
            "400d006962e1492d9ba7445ab4617150",
            "4d26103a58ad43a0bb291c0d3e68f387",
            "d88c5f3e961046d4b7cd35a0fc98b484",
            "be2c282d1d1c4ae893e4122fbcf2d738",
            "d2ef208f1e244f0a92124629cf4eafdc",
            "1a18f60e214544bc99ddf3b6bf913a1c",
            "ddf689f2cf5f47d3b01661cba075461f",
            "60347d09bf264e26a9fa48e535a0216e",
            "8c9ba075da0e4fa59b26f9895af0a1cb",
            "fb4ab07901d74f1c8a0b2853e236eb85",
            "6579c69097e04610a3bb1cf570e975ec",
            "521b627379b94ac997bb67028cbbe144",
            "3a91575a5e3b4299941cfd57337922be",
            "0b185c6fd4db4393a34ae73091f208ed",
            "bd01e8dac2114246bf7fed8eb6edac28",
            "c6d169065874487ebafd4b4513e08075",
            "eeeac1c9d1c540bbb59d1536b33ff31a",
            "80337b873f484b83b385267f9ee0546d",
            "41d298b5aae74210a3adfbc1aa9f306c",
            "783e489739734fbdb4a3d2edcd9a558f",
            "3aadadfbd0c64dabb387451dea6df54a",
            "4062c2ec643349489486d1ae3c2c2dff",
            "07aa358a59dd45709eb43336fde7537f",
            "fb8224f3d8474e969171e2943e2f989f",
            "a90755fc16904a7db6c5a099d3c7ab81",
            "5925d6c8a76b487c89bb016a257d5205",
            "dd4e6a2bcc7246d79fcc8c19c7c033e7",
            "e3c6087e9602436190a1718a33188141",
            "0730a118f2b34431917352841e2855b6",
            "3132d7771e8c468a98730a041e82e992",
            "e7c221ff900c4261aa7ec3b18b5cbea8",
            "e9f13e713fa24c3a91216c5772825a75",
            "ab4c9be2f6274f638a9949aca59d9fa3",
            "d2b3a2d518fb48929616e47687133396",
            "0c5914387def4a42acb4768792546fb6",
            "394886a115e34f139d0f4fab102b40b3",
            "01e71a6ad12a4e668c5cb63008797d4b"
          ]
        }
      },
      "outputs": [
        {
          "output_type": "display_data",
          "data": {
            "text/plain": [
              "  0%|          | 0/50000 [00:00<?, ?it/s]"
            ],
            "application/vnd.jupyter.widget-view+json": {
              "version_major": 2,
              "version_minor": 0,
              "model_id": "d838f563da1044dd99ad4130295a4c29"
            }
          },
          "metadata": {}
        },
        {
          "output_type": "display_data",
          "data": {
            "text/plain": [
              "  0%|          | 0/50000 [00:00<?, ?it/s]"
            ],
            "application/vnd.jupyter.widget-view+json": {
              "version_major": 2,
              "version_minor": 0,
              "model_id": "d2ef208f1e244f0a92124629cf4eafdc"
            }
          },
          "metadata": {}
        },
        {
          "output_type": "display_data",
          "data": {
            "text/plain": [
              "  0%|          | 0/50000 [00:00<?, ?it/s]"
            ],
            "application/vnd.jupyter.widget-view+json": {
              "version_major": 2,
              "version_minor": 0,
              "model_id": "c6d169065874487ebafd4b4513e08075"
            }
          },
          "metadata": {}
        },
        {
          "output_type": "display_data",
          "data": {
            "text/plain": [
              "  0%|          | 0/50000 [00:00<?, ?it/s]"
            ],
            "application/vnd.jupyter.widget-view+json": {
              "version_major": 2,
              "version_minor": 0,
              "model_id": "dd4e6a2bcc7246d79fcc8c19c7c033e7"
            }
          },
          "metadata": {}
        },
        {
          "output_type": "stream",
          "name": "stdout",
          "text": [
            "Loss of deep student:  9.597437864892844e-08\n"
          ]
        },
        {
          "output_type": "display_data",
          "data": {
            "text/plain": [
              "<Figure size 800x600 with 1 Axes>"
            ],
            "image/png": "[encoded data removed]"
          },
          "metadata": {
            "image/png": {
              "width": 772,
              "height": 575
            }
          }
        }
      ],
      "source": [
        "###################################################################\n",
        "## Fill out the following then remove\n",
        "# raise NotImplementedError(\"Student exercise: train student on the generated data from teacher.\")\n",
        "###################################################################\n",
        "lr = 0.003\n",
        "Es_deep = []\n",
        "for i in range(4):\n",
        "    Es_deep.append(train_model(student, X_train, y_train, 50000, lr))\n",
        "    #observe we reduce learning rate\n",
        "    lr /= 3\n",
        "Es_deep = np.array(Es_deep)\n",
        "Es_deep = Es_deep.ravel()\n",
        "\n",
        "# evaluate test error\n",
        "loss_deep = compute_loss(student, X_test, y_test) / float(y_test.var())\n",
        "print(\"Loss of deep student: \",loss_deep)\n",
        "plot_loss(Es_deep)"
      ]
    },
    {
      "cell_type": "markdown",
      "metadata": {
        "execution": {},
        "id": "oVYVs_AORTmo"
      },
      "source": [
        "[*Click for solution*](https://github.com/neuromatch/NeuroAI_Course/tree/main/tutorials/W2D1_Macrocircuits/solutions/W2D1_Tutorial1_Solution_a5e90b35.py)\n",
        "\n",
        "*Example output:*\n",
        "\n",
        "<img alt='Solution hint' align='left' width=772.0 height=575.0 src=https://raw.githubusercontent.com/neuromatch/NeuroAI_Course/main/tutorials/W2D1_Macrocircuits/static/W2D1_Tutorial1_Solution_a5e90b35_5.png>\n",
        "\n"
      ]
    },
    {
      "cell_type": "code",
      "execution_count": null,
      "metadata": {
        "cellView": "form",
        "execution": {},
        "id": "09enAZs7RTmp"
      },
      "outputs": [],
      "source": [
        "# @title Submit your feedback\n",
        "content_review(f\"{feedback_prefix}_train_net_with_the_same_architecture\")"
      ]
    },
    {
      "cell_type": "markdown",
      "metadata": {
        "execution": {},
        "id": "TK7WoLI8RTmp"
      },
      "source": [
        "## Coding Exercise 7: Train a 2 layer neural net with varying widths"
      ]
    },
    {
      "cell_type": "markdown",
      "metadata": {
        "execution": {},
        "id": "39pQjHN2RTmq"
      },
      "source": [
        "Let us now try to fit the deep teacher network with a shallow student network. Let's give the student a single hidden layer, and let's study the error as a function of the student width $W_s$. For a range of widths between, say, 5 and 200, create a student network, train it on the training set, and compute its test error. The training time will take approximately 2 minutes.\n",
        "\n",
        "Then, plot the training and testing errors as a function of width on a log-log plot. How does the error of the shallow network compare to that of the deep network?"
      ]
    },
    {
      "cell_type": "code",
      "execution_count": 42,
      "metadata": {
        "execution": {},
        "id": "RiuAvn-KRTmr",
        "outputId": "02f0eb6f-2082-4ae6-ae6c-5aecdfb4f385",
        "colab": {
          "base_uri": "https://localhost:8080/",
          "height": 681,
          "referenced_widgets": [
            "6d1340b535c44c1b834ae4d148e1e770",
            "90ca3088aef540c989e10ad81c886181",
            "9d1a15e4a1804501a5af36e8310e5c44",
            "5d1531cf407440608c89de7fa7e7c7f0",
            "eb49c8199f594607a9ca35532e98bc8c",
            "f7849af3232c4654a63b562f2c6c846e",
            "eb79f63e775a4ad9aa6c91282bddb382",
            "cd32af20011f4c1e9d213b25d59a47e3",
            "2b01f28e18954f9295faffb8e7751a7a",
            "7074273d2c1741d3b26f500fca69c799",
            "2283e5648c6f405b870965d71801a6b3"
          ]
        }
      },
      "outputs": [
        {
          "output_type": "display_data",
          "data": {
            "text/plain": [
              "  0%|          | 0/4 [00:00<?, ?it/s]"
            ],
            "application/vnd.jupyter.widget-view+json": {
              "version_major": 2,
              "version_minor": 0,
              "model_id": "6d1340b535c44c1b834ae4d148e1e770"
            }
          },
          "metadata": {}
        },
        {
          "output_type": "stream",
          "name": "stderr",
          "text": [
            "/tmp/ipython-input-42-1373692115.py:24: DeprecationWarning: __array__ implementation doesn't accept a copy keyword, so passing copy=False failed. __array__ must implement 'dtype' and 'copy' keyword arguments.\n",
            "  Es_shallow_train[index] /= y_test.var()\n"
          ]
        },
        {
          "output_type": "display_data",
          "data": {
            "text/plain": [
              "<Figure size 800x600 with 1 Axes>"
            ],
            "image/png": "[encoded data removed]"
          },
          "metadata": {
            "image/png": {
              "width": 775,
              "height": 575
            }
          }
        }
      ],
      "source": [
        "D_student = 2  # student depth\n",
        "Ws_student = np.array([5, 15, 45, 135]) # widths\n",
        "\n",
        "lr = 1e-3\n",
        "n_epochs = 20000\n",
        "Es_shallow_train = np.zeros((len(Ws_student), n_epochs))\n",
        "Es_shallow_test = np.zeros(len(Ws_student))\n",
        "\n",
        "###################################################################\n",
        "## Fill out the following then remove\n",
        "# raise NotImplementedError(\"Student exercise: train different students on the already generated data from teacher.\")\n",
        "###################################################################\n",
        "\n",
        "for index, W_student in enumerate(tqdm(Ws_student)):\n",
        "\n",
        "    student = make_MLP(n_in, W_student, D_student)\n",
        "\n",
        "    # make sure we have enough data\n",
        "    P = get_num_params(n_in, W_student, D_student)\n",
        "    # assert(N_train > 3*P)\n",
        "\n",
        "    # train\n",
        "    Es_shallow_train[index] = train_model(student, X_train, y_train,n_epochs, lr, progressbar=False)\n",
        "    Es_shallow_train[index] /= y_test.var()\n",
        "\n",
        "    # evaluate test error\n",
        "    loss = compute_loss(student, X_test, y_test) / float(y_test.var())\n",
        "    Es_shallow_test[index] = float(loss)\n",
        "\n",
        "plot_loss_as_function_of_width(Ws_student, Es_shallow_test, Es_shallow_train)"
      ]
    },
    {
      "cell_type": "markdown",
      "metadata": {
        "execution": {},
        "id": "-5CJElmlRTms"
      },
      "source": [
        "[*Click for solution*](https://github.com/neuromatch/NeuroAI_Course/tree/main/tutorials/W2D1_Macrocircuits/solutions/W2D1_Tutorial1_Solution_dcafefea.py)\n",
        "\n",
        "*Example output:*\n",
        "\n",
        "<img alt='Solution hint' align='left' width=775.0 height=575.0 src=https://raw.githubusercontent.com/neuromatch/NeuroAI_Course/main/tutorials/W2D1_Macrocircuits/static/W2D1_Tutorial1_Solution_dcafefea_1.png>\n",
        "\n"
      ]
    },
    {
      "cell_type": "code",
      "execution_count": null,
      "metadata": {
        "cellView": "form",
        "execution": {},
        "id": "pdNly4VMRTms"
      },
      "outputs": [],
      "source": [
        "# @title Submit your feedback\n",
        "content_review(f\"{feedback_prefix}_train_two_layer_net_with_varying_width\")"
      ]
    },
    {
      "cell_type": "markdown",
      "metadata": {
        "execution": {},
        "id": "P8PbuXRmRTmt"
      },
      "source": [
        "## Coding Exercise 8: Network size prediction"
      ]
    },
    {
      "cell_type": "markdown",
      "metadata": {
        "execution": {},
        "id": "AZ1ziRkqRTmt"
      },
      "source": [
        "Let's suppose that the test error will continue to improve with increasing width according to the same trend in the previous plot - which is probably too optimistic but will let us do some back-of-the-envelope calculations. Specifically, let us assume there is a linear relationship\n",
        "\n",
        "$$ \\log E=m \\log W+b$$\n",
        "between the log of the width and the log of the error. Fit this linear model from our experiment and use it to predict the number of hidden units needed to achieve a relative error of, say, $10^{-6}$."
      ]
    },
    {
      "cell_type": "code",
      "execution_count": 51,
      "metadata": {
        "execution": {},
        "id": "tKgzCB8MRTmu",
        "outputId": "54a77826-67a3-4047-d7bd-05c94ccd7827",
        "colab": {
          "base_uri": "https://localhost:8080/",
          "height": 334
        }
      },
      "outputs": [
        {
          "output_type": "error",
          "ename": "TypeError",
          "evalue": "expected 1D or 2D array for y",
          "traceback": [
            "\u001b[0;31m---------------------------------------------------------------------------\u001b[0m",
            "\u001b[0;31mTypeError\u001b[0m                                 Traceback (most recent call last)",
            "\u001b[0;32m/tmp/ipython-input-51-535587928.py\u001b[0m in \u001b[0;36m<cell line: 0>\u001b[0;34m()\u001b[0m\n\u001b[1;32m      6\u001b[0m \u001b[0;31m###################################################################\u001b[0m\u001b[0;34m\u001b[0m\u001b[0;34m\u001b[0m\u001b[0m\n\u001b[1;32m      7\u001b[0m \u001b[0;34m\u001b[0m\u001b[0m\n\u001b[0;32m----> 8\u001b[0;31m \u001b[0mm\u001b[0m\u001b[0;34m,\u001b[0m\u001b[0mb\u001b[0m \u001b[0;34m=\u001b[0m \u001b[0mnp\u001b[0m\u001b[0;34m.\u001b[0m\u001b[0mpolyfit\u001b[0m\u001b[0;34m(\u001b[0m\u001b[0mnp\u001b[0m\u001b[0;34m.\u001b[0m\u001b[0mlog\u001b[0m\u001b[0;34m(\u001b[0m\u001b[0mWs_student\u001b[0m\u001b[0;34m)\u001b[0m\u001b[0;34m,\u001b[0m \u001b[0mnp\u001b[0m\u001b[0;34m.\u001b[0m\u001b[0mlog\u001b[0m\u001b[0;34m(\u001b[0m\u001b[0mEs_shallow_test\u001b[0m\u001b[0;34m)\u001b[0m\u001b[0;34m,\u001b[0m \u001b[0;36m1\u001b[0m\u001b[0;34m)\u001b[0m\u001b[0;34m\u001b[0m\u001b[0;34m\u001b[0m\u001b[0m\n\u001b[0m\u001b[1;32m      9\u001b[0m \u001b[0mprint\u001b[0m\u001b[0;34m(\u001b[0m\u001b[0;34m'Predicted width: '\u001b[0m\u001b[0;34m,\u001b[0m \u001b[0mnp\u001b[0m\u001b[0;34m.\u001b[0m\u001b[0mexp\u001b[0m\u001b[0;34m(\u001b[0m\u001b[0;34m(\u001b[0m\u001b[0mnp\u001b[0m\u001b[0;34m.\u001b[0m\u001b[0mlog\u001b[0m\u001b[0;34m(\u001b[0m\u001b[0merror_target\u001b[0m\u001b[0;34m)\u001b[0m \u001b[0;34m-\u001b[0m \u001b[0mb\u001b[0m\u001b[0;34m)\u001b[0m \u001b[0;34m/\u001b[0m \u001b[0mm\u001b[0m\u001b[0;34m)\u001b[0m\u001b[0;34m)\u001b[0m\u001b[0;34m\u001b[0m\u001b[0;34m\u001b[0m\u001b[0m\n",
            "\u001b[0;32m/usr/local/lib/python3.11/dist-packages/numpy/lib/_polynomial_impl.py\u001b[0m in \u001b[0;36mpolyfit\u001b[0;34m(x, y, deg, rcond, full, w, cov)\u001b[0m\n\u001b[1;32m    628\u001b[0m         \u001b[0;32mraise\u001b[0m \u001b[0mTypeError\u001b[0m\u001b[0;34m(\u001b[0m\u001b[0;34m\"expected non-empty vector for x\"\u001b[0m\u001b[0;34m)\u001b[0m\u001b[0;34m\u001b[0m\u001b[0;34m\u001b[0m\u001b[0m\n\u001b[1;32m    629\u001b[0m     \u001b[0;32mif\u001b[0m \u001b[0my\u001b[0m\u001b[0;34m.\u001b[0m\u001b[0mndim\u001b[0m \u001b[0;34m<\u001b[0m \u001b[0;36m1\u001b[0m \u001b[0;32mor\u001b[0m \u001b[0my\u001b[0m\u001b[0;34m.\u001b[0m\u001b[0mndim\u001b[0m \u001b[0;34m>\u001b[0m \u001b[0;36m2\u001b[0m\u001b[0;34m:\u001b[0m\u001b[0;34m\u001b[0m\u001b[0;34m\u001b[0m\u001b[0m\n\u001b[0;32m--> 630\u001b[0;31m         \u001b[0;32mraise\u001b[0m \u001b[0mTypeError\u001b[0m\u001b[0;34m(\u001b[0m\u001b[0;34m\"expected 1D or 2D array for y\"\u001b[0m\u001b[0;34m)\u001b[0m\u001b[0;34m\u001b[0m\u001b[0;34m\u001b[0m\u001b[0m\n\u001b[0m\u001b[1;32m    631\u001b[0m     \u001b[0;32mif\u001b[0m \u001b[0mx\u001b[0m\u001b[0;34m.\u001b[0m\u001b[0mshape\u001b[0m\u001b[0;34m[\u001b[0m\u001b[0;36m0\u001b[0m\u001b[0;34m]\u001b[0m \u001b[0;34m!=\u001b[0m \u001b[0my\u001b[0m\u001b[0;34m.\u001b[0m\u001b[0mshape\u001b[0m\u001b[0;34m[\u001b[0m\u001b[0;36m0\u001b[0m\u001b[0;34m]\u001b[0m\u001b[0;34m:\u001b[0m\u001b[0;34m\u001b[0m\u001b[0;34m\u001b[0m\u001b[0m\n\u001b[1;32m    632\u001b[0m         \u001b[0;32mraise\u001b[0m \u001b[0mTypeError\u001b[0m\u001b[0;34m(\u001b[0m\u001b[0;34m\"expected x and y to have same length\"\u001b[0m\u001b[0;34m)\u001b[0m\u001b[0;34m\u001b[0m\u001b[0;34m\u001b[0m\u001b[0m\n",
            "\u001b[0;31mTypeError\u001b[0m: expected 1D or 2D array for y"
          ]
        }
      ],
      "source": [
        "error_target = 1e-6\n",
        "\n",
        "###################################################################\n",
        "## Fill out the following then remove\n",
        "# raise NotImplementedError(\"Student exercise: fit linear model and predict the number of hidden units.\")\n",
        "###################################################################\n",
        "\n",
        "m,b = np.polyfit(np.log(Ws_student), np.log(Es_shallow_test), 1)\n",
        "print('Predicted width: ', np.exp((np.log(error_target) - b) / m))"
      ]
    },
    {
      "cell_type": "markdown",
      "metadata": {
        "execution": {},
        "id": "HprFYhN0RTmv"
      },
      "source": [
        "[*Click for solution*](https://github.com/neuromatch/NeuroAI_Course/tree/main/tutorials/W2D1_Macrocircuits/solutions/W2D1_Tutorial1_Solution_a3e6ddda.py)\n",
        "\n"
      ]
    },
    {
      "cell_type": "markdown",
      "metadata": {
        "execution": {},
        "id": "IxhOynh0RTmw"
      },
      "source": [
        "Based on this, do you think that a reasonably sized shallow network could learn this task with low error?"
      ]
    },
    {
      "cell_type": "code",
      "execution_count": null,
      "metadata": {
        "cellView": "form",
        "execution": {},
        "id": "3b6OwKmZRTmx"
      },
      "outputs": [],
      "source": [
        "# @title Submit your feedback\n",
        "content_review(f\"{feedback_prefix}_network_size_prediction\")"
      ]
    },
    {
      "cell_type": "markdown",
      "metadata": {
        "execution": {},
        "id": "WYrX1bLcRTmx"
      },
      "source": [
        "---\n",
        "\n",
        "# Section 3: Deep networks in the quasi-linear regime\n",
        "\n",
        "*Estimated timing to here from start of tutorial: 45 minutes*\n",
        "\n",
        "We've just shown that certain deep networks are difficult to fit. In this section, we will discuss a regime in which a shallow network is able to approximate a deep teacher relatively well."
      ]
    },
    {
      "cell_type": "code",
      "execution_count": null,
      "metadata": {
        "cellView": "form",
        "execution": {},
        "id": "Rip1wZaoRTmx"
      },
      "outputs": [],
      "source": [
        "# @title Video 4: Deep networks in the quasilinear regime\n",
        "\n",
        "from ipywidgets import widgets\n",
        "from IPython.display import YouTubeVideo\n",
        "from IPython.display import IFrame\n",
        "from IPython.display import display\n",
        "\n",
        "class PlayVideo(IFrame):\n",
        "  def __init__(self, id, source, page=1, width=400, height=300, **kwargs):\n",
        "    self.id = id\n",
        "    if source == 'Bilibili':\n",
        "      src = f'https://player.bilibili.com/player.html?bvid={id}&page={page}'\n",
        "    elif source == 'Osf':\n",
        "      src = f'https://mfr.ca-1.osf.io/render?url=https://osf.io/download/{id}/?direct%26mode=render'\n",
        "    super(PlayVideo, self).__init__(src, width, height, **kwargs)\n",
        "\n",
        "def display_videos(video_ids, W=400, H=300, fs=1):\n",
        "  tab_contents = []\n",
        "  for i, video_id in enumerate(video_ids):\n",
        "    out = widgets.Output()\n",
        "    with out:\n",
        "      if video_ids[i][0] == 'Youtube':\n",
        "        video = YouTubeVideo(id=video_ids[i][1], width=W,\n",
        "                             height=H, fs=fs, rel=0)\n",
        "        print(f'Video available at https://youtube.com/watch?v={video.id}')\n",
        "      else:\n",
        "        video = PlayVideo(id=video_ids[i][1], source=video_ids[i][0], width=W,\n",
        "                          height=H, fs=fs, autoplay=False)\n",
        "        if video_ids[i][0] == 'Bilibili':\n",
        "          print(f'Video available at https://www.bilibili.com/video/{video.id}')\n",
        "        elif video_ids[i][0] == 'Osf':\n",
        "          print(f'Video available at https://osf.io/{video.id}')\n",
        "      display(video)\n",
        "    tab_contents.append(out)\n",
        "  return tab_contents\n",
        "\n",
        "video_ids = [('Youtube', 'XuAcOiqJuDs'), ('Bilibili', 'BV1CT421e7Q7')]\n",
        "tab_contents = display_videos(video_ids, W=854, H=480)\n",
        "tabs = widgets.Tab()\n",
        "tabs.children = tab_contents\n",
        "for i in range(len(tab_contents)):\n",
        "  tabs.set_title(i, video_ids[i][0])\n",
        "display(tabs)"
      ]
    },
    {
      "cell_type": "code",
      "execution_count": null,
      "metadata": {
        "cellView": "form",
        "execution": {},
        "id": "rsiwUll3RTmy"
      },
      "outputs": [],
      "source": [
        "# @title Submit your feedback\n",
        "content_review(f\"{feedback_prefix}_deep_networks_in_the_quasilinear_regime\")"
      ]
    },
    {
      "cell_type": "markdown",
      "metadata": {
        "execution": {},
        "id": "38b_-iozRTmz"
      },
      "source": [
        "One of the reasons that shallow nets cannot fit deep nets, in general, is that random deep nets, in certain regimes, behave like chaotic systems: each layer can be thought of as a single step of a dynamical system, and the number of layers plays the role of the number of time steps. A deep network, therefore, effectively subjects its input to long-time chaotic dynamics, which are, almost by definition, very difficult to predict accurately. In particular, *shallow* nets simply cannot capture the complex mapping implemented by deeper networks without resorting to an astronomical number of hidden units. Another way to interpret this behavior is that the many layers of a deep network repeatedly stretch and fold their inputs, allowing the network to implement a large number of complex functions - an idea known as **expressivity** ([Poole et al. 2016](https://papers.nips.cc/paper_files/paper/2016/hash/148510031349642de5ca0c544f31b2ef-Abstract.html)).\n",
        "\n",
        "However, in other regimes, for example, when the weights of the teacher network are small, the dynamics implemented by the teacher network are no longer chaotic. In fact, for small enough weights, they are nearly linear. In this regime, we'd expect a shallow network to be able to approximate a deep teacher relatively well. This is what we mean by neural networks in a **quasi-linear** regime.\n",
        "\n",
        "For more on these ideas, see the paper:\n",
        "\n",
        "[*Exponential expressivity in deep neural networks through transient chaos*](https://papers.nips.cc/paper_files/paper/2016/hash/148510031349642de5ca0c544f31b2ef-Abstract.html) (Poole et al., 2016).\n",
        "\n",
        "To test this idea, we'll repeat the exercise above, this time initializing the teacher weights with a small $\\sigma$, say, $0.4$, so that the teacher network is in the so-called quasi-linear regime."
      ]
    },
    {
      "cell_type": "markdown",
      "metadata": {
        "execution": {},
        "id": "Irl-FxfwRTm0"
      },
      "source": [
        "## Coding Exercise 9: Create Dataset & Train a Student Network\n",
        "\n",
        "Create training and test sets. Initialize the teacher network with $\\sigma_{t} = 0.4$."
      ]
    },
    {
      "cell_type": "code",
      "execution_count": 44,
      "metadata": {
        "execution": {},
        "id": "-BvqKGcORTm1"
      },
      "outputs": [],
      "source": [
        "###################################################################\n",
        "## Fill out the following then remove\n",
        "# raise NotImplementedError(\"Student exercise: complete set up.\")\n",
        "###################################################################\n",
        "torch.manual_seed(-1)\n",
        "\n",
        "# Create teacher\n",
        "n_in = 5     # input dimension\n",
        "W_teacher, D_teacher = 5, 5  # teacher width, depth\n",
        "sigma_teacher = 0.2     # teacher weight variance\n",
        "teacher = make_MLP(n_in, W_teacher, D_teacher)\n",
        "initialize_layers(teacher, sigma_teacher)\n",
        "\n",
        "# generate train and test set\n",
        "N_train, N_test = 4000, 1000\n",
        "X_train, y_train = make_data(teacher, n_in, N_train)\n",
        "X_test, y_test = make_data(teacher, n_in, N_test)"
      ]
    },
    {
      "cell_type": "markdown",
      "metadata": {
        "execution": {},
        "id": "u4mHBp28RTm1"
      },
      "source": [
        "[*Click for solution*](https://github.com/neuromatch/NeuroAI_Course/tree/main/tutorials/W2D1_Macrocircuits/solutions/W2D1_Tutorial1_Solution_44d1308a.py)\n",
        "\n"
      ]
    },
    {
      "cell_type": "markdown",
      "metadata": {
        "execution": {},
        "id": "dfcOagfURTm2"
      },
      "source": [
        "Give the student network a single hidden layer with $10$ units. Train it for a similar amount of time as before. Determine the relative MSE."
      ]
    },
    {
      "cell_type": "code",
      "execution_count": 50,
      "metadata": {
        "execution": {},
        "id": "S3TZhdHsRTm2",
        "outputId": "965e0b2e-1af6-4af3-9b33-27631873b4bb",
        "colab": {
          "base_uri": "https://localhost:8080/",
          "height": 542,
          "referenced_widgets": [
            "8e2ca43b28124539a77df0c198c59f7d",
            "d59acd8f5f8f45daa5f6cb720f2b0a65",
            "fbffc5860dc24889af26d7556a813ca5",
            "9286b5ad00e54f37b89251b57107b88f",
            "f20ea18034d140b6a145af4e3ef1de44",
            "fce594c0f3964a6692ade334e4793865",
            "e2bc5d66c4d54ee3a7ad12298f44108d",
            "860c9494edcb431eb73c47c95f04524e",
            "10a7b06ba3f84787a6d78cf6c9cf026e",
            "85d4697076ec4887a93d5bde6932a5c0",
            "62106eceda654da3b96dc65f5363024d"
          ]
        }
      },
      "outputs": [
        {
          "output_type": "display_data",
          "data": {
            "text/plain": [
              "  0%|          | 0/20000 [00:00<?, ?it/s]"
            ],
            "application/vnd.jupyter.widget-view+json": {
              "version_major": 2,
              "version_minor": 0,
              "model_id": "8e2ca43b28124539a77df0c198c59f7d"
            }
          },
          "metadata": {}
        },
        {
          "output_type": "stream",
          "name": "stdout",
          "text": [
            "Shallow student loss:  0.019847770377589793\n"
          ]
        },
        {
          "output_type": "display_data",
          "data": {
            "text/plain": [
              "<Figure size 1000x500 with 2 Axes>"
            ],
            "image/png": "[encoded data removed]"
          },
          "metadata": {
            "image/png": {
              "width": 975,
              "height": 474
            }
          }
        }
      ],
      "source": [
        "###################################################################\n",
        "## Fill out the following then remove\n",
        "# raise NotImplementedError(\"Student exercise: train student on the generated data from special teacher.\")\n",
        "###################################################################\n",
        "\n",
        "W_student, D_student = 10, 2  # student width, depth\n",
        "\n",
        "lr = 1e-3\n",
        "n_epochs = 20000\n",
        "Es_shallow_train = np.zeros((len(Ws_student),n_epochs))\n",
        "Es_shallow_test = np.zeros(len(Ws_student))\n",
        "\n",
        "student = make_MLP(n_in, W_student, D_student)\n",
        "initialize_layers(student, sigma_teacher)\n",
        "\n",
        "# make sure we have enough data\n",
        "P = get_num_params(n_in, W_student, D_student)\n",
        "# assert(N_train > 3*P)\n",
        "\n",
        "# train\n",
        "Es_shallow_train = train_model(student,X_train,y_train, n_epochs, lr, progressbar=True)\n",
        "\n",
        "# # evaluate test error\n",
        "Es_shallow_test = compute_loss(student, X_test,y_test)/float(y_test.var())\n",
        "print('Shallow student loss: ',Es_shallow_test)\n",
        "plot_students_predictions_vs_teacher_values(Es_shallow_train, X_test, y_test)"
      ]
    },
    {
      "cell_type": "markdown",
      "metadata": {
        "execution": {},
        "id": "A3YW5w8WRTm3"
      },
      "source": [
        "[*Click for solution*](https://github.com/neuromatch/NeuroAI_Course/tree/main/tutorials/W2D1_Macrocircuits/solutions/W2D1_Tutorial1_Solution_74ab8f48.py)\n",
        "\n",
        "*Example output:*\n",
        "\n",
        "<img alt='Solution hint' align='left' width=975.0 height=474.0 src=https://raw.githubusercontent.com/neuromatch/NeuroAI_Course/main/tutorials/W2D1_Macrocircuits/static/W2D1_Tutorial1_Solution_74ab8f48_2.png>\n",
        "\n"
      ]
    },
    {
      "cell_type": "code",
      "execution_count": null,
      "metadata": {
        "cellView": "form",
        "execution": {},
        "id": "M37XrNZoRTm4"
      },
      "outputs": [],
      "source": [
        "# @title Submit your feedback\n",
        "content_review(f\"{feedback_prefix}_create_dataset_train_student_network\")"
      ]
    },
    {
      "cell_type": "code",
      "execution_count": null,
      "metadata": {
        "cellView": "form",
        "execution": {},
        "id": "dUCukrrURTm4"
      },
      "outputs": [],
      "source": [
        "# @title Video 5: Conclusion & Interactive Demo\n",
        "\n",
        "from ipywidgets import widgets\n",
        "from IPython.display import YouTubeVideo\n",
        "from IPython.display import IFrame\n",
        "from IPython.display import display\n",
        "\n",
        "class PlayVideo(IFrame):\n",
        "  def __init__(self, id, source, page=1, width=400, height=300, **kwargs):\n",
        "    self.id = id\n",
        "    if source == 'Bilibili':\n",
        "      src = f'https://player.bilibili.com/player.html?bvid={id}&page={page}'\n",
        "    elif source == 'Osf':\n",
        "      src = f'https://mfr.ca-1.osf.io/render?url=https://osf.io/download/{id}/?direct%26mode=render'\n",
        "    super(PlayVideo, self).__init__(src, width, height, **kwargs)\n",
        "\n",
        "def display_videos(video_ids, W=400, H=300, fs=1):\n",
        "  tab_contents = []\n",
        "  for i, video_id in enumerate(video_ids):\n",
        "    out = widgets.Output()\n",
        "    with out:\n",
        "      if video_ids[i][0] == 'Youtube':\n",
        "        video = YouTubeVideo(id=video_ids[i][1], width=W,\n",
        "                             height=H, fs=fs, rel=0)\n",
        "        print(f'Video available at https://youtube.com/watch?v={video.id}')\n",
        "      else:\n",
        "        video = PlayVideo(id=video_ids[i][1], source=video_ids[i][0], width=W,\n",
        "                          height=H, fs=fs, autoplay=False)\n",
        "        if video_ids[i][0] == 'Bilibili':\n",
        "          print(f'Video available at https://www.bilibili.com/video/{video.id}')\n",
        "        elif video_ids[i][0] == 'Osf':\n",
        "          print(f'Video available at https://osf.io/{video.id}')\n",
        "      display(video)\n",
        "    tab_contents.append(out)\n",
        "  return tab_contents\n",
        "\n",
        "video_ids = [('Youtube', 'LLLXnOqUeoM'), ('Bilibili', 'BV1Zx4y1t7iN')]\n",
        "tab_contents = display_videos(video_ids, W=854, H=480)\n",
        "tabs = widgets.Tab()\n",
        "tabs.children = tab_contents\n",
        "for i in range(len(tab_contents)):\n",
        "  tabs.set_title(i, video_ids[i][0])\n",
        "display(tabs)"
      ]
    },
    {
      "cell_type": "code",
      "execution_count": null,
      "metadata": {
        "cellView": "form",
        "execution": {},
        "id": "oRyA7sYkRTm5"
      },
      "outputs": [],
      "source": [
        "# @title Submit your feedback\n",
        "content_review(f\"{feedback_prefix}_conclusion_interactive_demo\")"
      ]
    },
    {
      "cell_type": "markdown",
      "metadata": {
        "execution": {},
        "id": "4nf7lDUpRTm6"
      },
      "source": [
        "## Interactive Demo 1: Deep networks expressivity\n",
        "\n",
        "In this demo, we invite you to explore the expressivity of two distinct deep networks already introduced earlier: one with $\\sigma = 2$ and another (quasi-linear) with $\\sigma = 0.4$.\n",
        "\n",
        "We initialize two deep networks with $D=20$ layers with $W = 100$ hidden units each but different variances in their weight initializations. Then, 400 input data points are generated on a unit circle. We will examine how these points propagated through the networks by looking at the effect of the transformations that each neural network layer applies to the data.\n",
        "\n",
        "To visualize each layer's activity, we randomly project it into 3 dimensions. The slider below controls which layer you are seeing. On the left, you'll see how a standard network processes its inputs, and on the right, how a quasi-linear network does so. As outlined in the video, the principle takehome message is that low values for the variance parameter in the weight initializations mean that each layer effectively performs a linear transformation, which only rotates and stretches the circular input we put into both networks. The chaotic regime of the standard network allows for a much greater expressivitiy due to this phenomenon!"
      ]
    },
    {
      "cell_type": "code",
      "execution_count": 47,
      "metadata": {
        "cellView": "form",
        "execution": {},
        "id": "0hSgYVXxRTm6",
        "outputId": "138aab44-4c14-4a57-8438-7c7c05bf4217",
        "colab": {
          "base_uri": "https://localhost:8080/",
          "height": 565,
          "referenced_widgets": [
            "7578f1e89a2a4feda1760ae10996a435",
            "a4bbf366851442daac3c89e387852f1d",
            "477d7a780da849879dfda4e56ae3a463",
            "db39028e98e34ac884ca415c0a8e58bd",
            "e5987203755040069cd145811ec3f6bd",
            "cc96e40c6095434b838d488aaed7daea",
            "1c63d1548a824d9bb79cf3d39032d272"
          ]
        }
      },
      "outputs": [
        {
          "output_type": "display_data",
          "data": {
            "text/plain": [
              "interactive(children=(IntSlider(value=0, description='Layer', max=18), Output()), _dom_classes=('widget-intera…"
            ],
            "application/vnd.jupyter.widget-view+json": {
              "version_major": 2,
              "version_minor": 0,
              "model_id": "7578f1e89a2a4feda1760ae10996a435"
            }
          },
          "metadata": {}
        }
      ],
      "source": [
        "# @markdown Execute the cell to observe interactive widget\n",
        "\n",
        "set_seed(42)\n",
        "\n",
        "W = 100 #width\n",
        "D = 20 #depth\n",
        "P = 400 #number of points\n",
        "sigma_1 = 2 #standard net\n",
        "sigma_2 = 0.4 #quasi-linear net\n",
        "\n",
        "colors = plt.cm.hsv(np.linspace(0, 1, P)) #color\n",
        "random_projection = np.random.normal(size = (W, 3)) #random projection\n",
        "\n",
        "traj_1, traj_2 = generate_trajectories(W, D, P, sigma_1, sigma_2)\n",
        "\n",
        "#project trajectories from 100-D to 3-D\n",
        "projected_traj_1 = traj_1 @ random_projection\n",
        "projected_traj_2 = traj_2 @ random_projection\n",
        "\n",
        "@widgets.interact\n",
        "def expressivity_interactive_visualization(layer = widgets.IntSlider(description=\"Layer\", min=0, max=18, step=1, value=0)):\n",
        "    expressivity_visualization(layer, projected_traj_1, projected_traj_2, colors)"
      ]
    },
    {
      "cell_type": "markdown",
      "metadata": {
        "execution": {},
        "id": "HFErNfNPRTm7"
      },
      "source": [
        "### Interactive Demo 1 Discussion\n",
        "\n",
        "1. What is the qualitative difference between trajectories propagation through these networks? Does it fit what we have seen earlier with wide student approximation?"
      ]
    },
    {
      "cell_type": "markdown",
      "metadata": {
        "execution": {},
        "id": "DeYQXbpCRTm8"
      },
      "source": [
        "[*Click for solution*](https://github.com/neuromatch/NeuroAI_Course/tree/main/tutorials/W2D1_Macrocircuits/solutions/W2D1_Tutorial1_Solution_485ec5dd.py)\n",
        "\n"
      ]
    },
    {
      "cell_type": "code",
      "execution_count": null,
      "metadata": {
        "cellView": "form",
        "execution": {},
        "id": "2nOeGbSVRTm9"
      },
      "outputs": [],
      "source": [
        "# @title Submit your feedback\n",
        "content_review(f\"{feedback_prefix}_deep_network_expressivity\")"
      ]
    },
    {
      "cell_type": "markdown",
      "metadata": {
        "execution": {},
        "id": "mi04RR8rRTm_"
      },
      "source": [
        "---\n",
        "# Summary\n",
        "\n",
        "*Estimated timing of tutorial: 1 hour*"
      ]
    },
    {
      "cell_type": "markdown",
      "metadata": {
        "execution": {},
        "id": "95CfwxVZRTm_"
      },
      "source": [
        "In this tutorial:\n",
        "- We discussed the **universal approximator theorem**, which guarantees that we can approximate any complex function using a network with a single hidden layer.\n",
        "- To test this idea, we built a deep *teacher* network and attempted to fit it with a shallow *student* network.\n",
        "- We found that achieving good performance requires a very wide network - i.e., a very large number of hidden units.\n",
        "- We found that if the teacher network is initialized with very small weights, the fitting becomes very easy.\n",
        "- We discussed how the fitting difficulty is related to whether the teacher is initialized in the **chaotic** regime.\n",
        "- Chaotic behavior is related to network **expressivity**, the network's ability to implement a large number of complex functions."
      ]
    },
    {
      "cell_type": "markdown",
      "metadata": {
        "execution": {},
        "id": "BkztQ4yGRTnA"
      },
      "source": [
        "# The Big Picture\n",
        "\n",
        "So, how do the topics covered in this tutorial relate to our exploration of the theme of generalization? We have seen that deep neural networks in certain regimes differentially affect the transformation of the inputs and this has an effect on the expressivity of the network. The transformations that take place between shallow and deep neural network make different testable environments for generalization capacity. We leave you to think about, taking what you have learned in this tutorial, what kind of relationship might there be for models that generalize well to inputs outside of the training distribution. Do shallow networks capture the specific details of training inputs? Do they model the problem at a level that pays more attention to surface features or important low-level features (that generalize better)? There is no correct answer to this question, but it's a good exercise to think about and start forming your own thoughts and ideas."
      ]
    }
  ],
  "metadata": {
    "colab": {
      "name": "W2D1_Tutorial1",
      "provenance": [],
      "toc_visible": true,
      "include_colab_link": true
    },
    "kernel": {
      "display_name": "Python 3",
      "language": "python",
      "name": "python3"
    },
    "kernelspec": {
      "display_name": "Python 3 (ipykernel)",
      "language": "python",
      "name": "python3"
    },
    "language_info": {
      "codemirror_mode": {
        "name": "ipython",
        "version": 3
      },
      "file_extension": ".py",
      "mimetype": "text/x-python",
      "name": "python",
      "nbconvert_exporter": "python",
      "pygments_lexer": "ipython3",
      "version": "3.9.22"
    },
    "widgets": {
      "application/vnd.jupyter.widget-state+json": {
        "c259e532c154493c9983004914faf426": {
          "model_module": "@jupyter-widgets/controls",
          "model_name": "HBoxModel",
          "model_module_version": "1.5.0",
          "state": {
            "_dom_classes": [],
            "_model_module": "@jupyter-widgets/controls",
            "_model_module_version": "1.5.0",
            "_model_name": "HBoxModel",
            "_view_count": null,
            "_view_module": "@jupyter-widgets/controls",
            "_view_module_version": "1.5.0",
            "_view_name": "HBoxView",
            "box_style": "",
            "children": [
              "IPY_MODEL_abd7530d9d454408b11673b6bc5f903b",
              "IPY_MODEL_17608f7b7dc94542b6177032b2ab14cd",
              "IPY_MODEL_041eb54869324487a07a33461abea00d"
            ],
            "layout": "IPY_MODEL_1cd054ce0fbf468f8663e55bc548fe4c"
          }
        },
        "abd7530d9d454408b11673b6bc5f903b": {
          "model_module": "@jupyter-widgets/controls",
          "model_name": "HTMLModel",
          "model_module_version": "1.5.0",
          "state": {
            "_dom_classes": [],
            "_model_module": "@jupyter-widgets/controls",
            "_model_module_version": "1.5.0",
            "_model_name": "HTMLModel",
            "_view_count": null,
            "_view_module": "@jupyter-widgets/controls",
            "_view_module_version": "1.5.0",
            "_view_name": "HTMLView",
            "description": "",
            "description_tooltip": null,
            "layout": "IPY_MODEL_03b97d077019430d984c76e4013b4ee8",
            "placeholder": "​",
            "style": "IPY_MODEL_b53cc81107014ff48d5e510ddf1ce2b9",
            "value": "100%"
          }
        },
        "17608f7b7dc94542b6177032b2ab14cd": {
          "model_module": "@jupyter-widgets/controls",
          "model_name": "FloatProgressModel",
          "model_module_version": "1.5.0",
          "state": {
            "_dom_classes": [],
            "_model_module": "@jupyter-widgets/controls",
            "_model_module_version": "1.5.0",
            "_model_name": "FloatProgressModel",
            "_view_count": null,
            "_view_module": "@jupyter-widgets/controls",
            "_view_module_version": "1.5.0",
            "_view_name": "ProgressView",
            "bar_style": "success",
            "description": "",
            "description_tooltip": null,
            "layout": "IPY_MODEL_f180a5f2785c4e139387159c5f9bc51b",
            "max": 10,
            "min": 0,
            "orientation": "horizontal",
            "style": "IPY_MODEL_7849f2533e8140cf8889adf248421e62",
            "value": 10
          }
        },
        "041eb54869324487a07a33461abea00d": {
          "model_module": "@jupyter-widgets/controls",
          "model_name": "HTMLModel",
          "model_module_version": "1.5.0",
          "state": {
            "_dom_classes": [],
            "_model_module": "@jupyter-widgets/controls",
            "_model_module_version": "1.5.0",
            "_model_name": "HTMLModel",
            "_view_count": null,
            "_view_module": "@jupyter-widgets/controls",
            "_view_module_version": "1.5.0",
            "_view_name": "HTMLView",
            "description": "",
            "description_tooltip": null,
            "layout": "IPY_MODEL_38f287262b3b485ea1891690babd0a5f",
            "placeholder": "​",
            "style": "IPY_MODEL_5e91c7dae37e42ae9ba512177a93e739",
            "value": " 10/10 [00:07&lt;00:00,  1.26it/s]"
          }
        },
        "1cd054ce0fbf468f8663e55bc548fe4c": {
          "model_module": "@jupyter-widgets/base",
          "model_name": "LayoutModel",
          "model_module_version": "1.2.0",
          "state": {
            "_model_module": "@jupyter-widgets/base",
            "_model_module_version": "1.2.0",
            "_model_name": "LayoutModel",
            "_view_count": null,
            "_view_module": "@jupyter-widgets/base",
            "_view_module_version": "1.2.0",
            "_view_name": "LayoutView",
            "align_content": null,
            "align_items": null,
            "align_self": null,
            "border": null,
            "bottom": null,
            "display": null,
            "flex": null,
            "flex_flow": null,
            "grid_area": null,
            "grid_auto_columns": null,
            "grid_auto_flow": null,
            "grid_auto_rows": null,
            "grid_column": null,
            "grid_gap": null,
            "grid_row": null,
            "grid_template_areas": null,
            "grid_template_columns": null,
            "grid_template_rows": null,
            "height": null,
            "justify_content": null,
            "justify_items": null,
            "left": null,
            "margin": null,
            "max_height": null,
            "max_width": null,
            "min_height": null,
            "min_width": null,
            "object_fit": null,
            "object_position": null,
            "order": null,
            "overflow": null,
            "overflow_x": null,
            "overflow_y": null,
            "padding": null,
            "right": null,
            "top": null,
            "visibility": null,
            "width": null
          }
        },
        "03b97d077019430d984c76e4013b4ee8": {
          "model_module": "@jupyter-widgets/base",
          "model_name": "LayoutModel",
          "model_module_version": "1.2.0",
          "state": {
            "_model_module": "@jupyter-widgets/base",
            "_model_module_version": "1.2.0",
            "_model_name": "LayoutModel",
            "_view_count": null,
            "_view_module": "@jupyter-widgets/base",
            "_view_module_version": "1.2.0",
            "_view_name": "LayoutView",
            "align_content": null,
            "align_items": null,
            "align_self": null,
            "border": null,
            "bottom": null,
            "display": null,
            "flex": null,
            "flex_flow": null,
            "grid_area": null,
            "grid_auto_columns": null,
            "grid_auto_flow": null,
            "grid_auto_rows": null,
            "grid_column": null,
            "grid_gap": null,
            "grid_row": null,
            "grid_template_areas": null,
            "grid_template_columns": null,
            "grid_template_rows": null,
            "height": null,
            "justify_content": null,
            "justify_items": null,
            "left": null,
            "margin": null,
            "max_height": null,
            "max_width": null,
            "min_height": null,
            "min_width": null,
            "object_fit": null,
            "object_position": null,
            "order": null,
            "overflow": null,
            "overflow_x": null,
            "overflow_y": null,
            "padding": null,
            "right": null,
            "top": null,
            "visibility": null,
            "width": null
          }
        },
        "b53cc81107014ff48d5e510ddf1ce2b9": {
          "model_module": "@jupyter-widgets/controls",
          "model_name": "DescriptionStyleModel",
          "model_module_version": "1.5.0",
          "state": {
            "_model_module": "@jupyter-widgets/controls",
            "_model_module_version": "1.5.0",
            "_model_name": "DescriptionStyleModel",
            "_view_count": null,
            "_view_module": "@jupyter-widgets/base",
            "_view_module_version": "1.2.0",
            "_view_name": "StyleView",
            "description_width": ""
          }
        },
        "f180a5f2785c4e139387159c5f9bc51b": {
          "model_module": "@jupyter-widgets/base",
          "model_name": "LayoutModel",
          "model_module_version": "1.2.0",
          "state": {
            "_model_module": "@jupyter-widgets/base",
            "_model_module_version": "1.2.0",
            "_model_name": "LayoutModel",
            "_view_count": null,
            "_view_module": "@jupyter-widgets/base",
            "_view_module_version": "1.2.0",
            "_view_name": "LayoutView",
            "align_content": null,
            "align_items": null,
            "align_self": null,
            "border": null,
            "bottom": null,
            "display": null,
            "flex": null,
            "flex_flow": null,
            "grid_area": null,
            "grid_auto_columns": null,
            "grid_auto_flow": null,
            "grid_auto_rows": null,
            "grid_column": null,
            "grid_gap": null,
            "grid_row": null,
            "grid_template_areas": null,
            "grid_template_columns": null,
            "grid_template_rows": null,
            "height": null,
            "justify_content": null,
            "justify_items": null,
            "left": null,
            "margin": null,
            "max_height": null,
            "max_width": null,
            "min_height": null,
            "min_width": null,
            "object_fit": null,
            "object_position": null,
            "order": null,
            "overflow": null,
            "overflow_x": null,
            "overflow_y": null,
            "padding": null,
            "right": null,
            "top": null,
            "visibility": null,
            "width": null
          }
        },
        "7849f2533e8140cf8889adf248421e62": {
          "model_module": "@jupyter-widgets/controls",
          "model_name": "ProgressStyleModel",
          "model_module_version": "1.5.0",
          "state": {
            "_model_module": "@jupyter-widgets/controls",
            "_model_module_version": "1.5.0",
            "_model_name": "ProgressStyleModel",
            "_view_count": null,
            "_view_module": "@jupyter-widgets/base",
            "_view_module_version": "1.2.0",
            "_view_name": "StyleView",
            "bar_color": null,
            "description_width": ""
          }
        },
        "38f287262b3b485ea1891690babd0a5f": {
          "model_module": "@jupyter-widgets/base",
          "model_name": "LayoutModel",
          "model_module_version": "1.2.0",
          "state": {
            "_model_module": "@jupyter-widgets/base",
            "_model_module_version": "1.2.0",
            "_model_name": "LayoutModel",
            "_view_count": null,
            "_view_module": "@jupyter-widgets/base",
            "_view_module_version": "1.2.0",
            "_view_name": "LayoutView",
            "align_content": null,
            "align_items": null,
            "align_self": null,
            "border": null,
            "bottom": null,
            "display": null,
            "flex": null,
            "flex_flow": null,
            "grid_area": null,
            "grid_auto_columns": null,
            "grid_auto_flow": null,
            "grid_auto_rows": null,
            "grid_column": null,
            "grid_gap": null,
            "grid_row": null,
            "grid_template_areas": null,
            "grid_template_columns": null,
            "grid_template_rows": null,
            "height": null,
            "justify_content": null,
            "justify_items": null,
            "left": null,
            "margin": null,
            "max_height": null,
            "max_width": null,
            "min_height": null,
            "min_width": null,
            "object_fit": null,
            "object_position": null,
            "order": null,
            "overflow": null,
            "overflow_x": null,
            "overflow_y": null,
            "padding": null,
            "right": null,
            "top": null,
            "visibility": null,
            "width": null
          }
        },
        "5e91c7dae37e42ae9ba512177a93e739": {
          "model_module": "@jupyter-widgets/controls",
          "model_name": "DescriptionStyleModel",
          "model_module_version": "1.5.0",
          "state": {
            "_model_module": "@jupyter-widgets/controls",
            "_model_module_version": "1.5.0",
            "_model_name": "DescriptionStyleModel",
            "_view_count": null,
            "_view_module": "@jupyter-widgets/base",
            "_view_module_version": "1.2.0",
            "_view_name": "StyleView",
            "description_width": ""
          }
        },
        "d838f563da1044dd99ad4130295a4c29": {
          "model_module": "@jupyter-widgets/controls",
          "model_name": "HBoxModel",
          "model_module_version": "1.5.0",
          "state": {
            "_dom_classes": [],
            "_model_module": "@jupyter-widgets/controls",
            "_model_module_version": "1.5.0",
            "_model_name": "HBoxModel",
            "_view_count": null,
            "_view_module": "@jupyter-widgets/controls",
            "_view_module_version": "1.5.0",
            "_view_name": "HBoxView",
            "box_style": "",
            "children": [
              "IPY_MODEL_88e7571252bd48b8a7e317f0dfc63577",
              "IPY_MODEL_4d08acef6fa84e36aacd0bc9b5cf89bd",
              "IPY_MODEL_a492d400721447698079c332e76f6d1a"
            ],
            "layout": "IPY_MODEL_faf01d9654024fd0926b43015104dfd0"
          }
        },
        "88e7571252bd48b8a7e317f0dfc63577": {
          "model_module": "@jupyter-widgets/controls",
          "model_name": "HTMLModel",
          "model_module_version": "1.5.0",
          "state": {
            "_dom_classes": [],
            "_model_module": "@jupyter-widgets/controls",
            "_model_module_version": "1.5.0",
            "_model_name": "HTMLModel",
            "_view_count": null,
            "_view_module": "@jupyter-widgets/controls",
            "_view_module_version": "1.5.0",
            "_view_name": "HTMLView",
            "description": "",
            "description_tooltip": null,
            "layout": "IPY_MODEL_d0e01e9a4ec24da3a2642e88ee8c8120",
            "placeholder": "​",
            "style": "IPY_MODEL_5afc8aca22804103a826ce6351e8b02c",
            "value": "100%"
          }
        },
        "4d08acef6fa84e36aacd0bc9b5cf89bd": {
          "model_module": "@jupyter-widgets/controls",
          "model_name": "FloatProgressModel",
          "model_module_version": "1.5.0",
          "state": {
            "_dom_classes": [],
            "_model_module": "@jupyter-widgets/controls",
            "_model_module_version": "1.5.0",
            "_model_name": "FloatProgressModel",
            "_view_count": null,
            "_view_module": "@jupyter-widgets/controls",
            "_view_module_version": "1.5.0",
            "_view_name": "ProgressView",
            "bar_style": "success",
            "description": "",
            "description_tooltip": null,
            "layout": "IPY_MODEL_400d006962e1492d9ba7445ab4617150",
            "max": 50000,
            "min": 0,
            "orientation": "horizontal",
            "style": "IPY_MODEL_4d26103a58ad43a0bb291c0d3e68f387",
            "value": 50000
          }
        },
        "a492d400721447698079c332e76f6d1a": {
          "model_module": "@jupyter-widgets/controls",
          "model_name": "HTMLModel",
          "model_module_version": "1.5.0",
          "state": {
            "_dom_classes": [],
            "_model_module": "@jupyter-widgets/controls",
            "_model_module_version": "1.5.0",
            "_model_name": "HTMLModel",
            "_view_count": null,
            "_view_module": "@jupyter-widgets/controls",
            "_view_module_version": "1.5.0",
            "_view_name": "HTMLView",
            "description": "",
            "description_tooltip": null,
            "layout": "IPY_MODEL_d88c5f3e961046d4b7cd35a0fc98b484",
            "placeholder": "​",
            "style": "IPY_MODEL_be2c282d1d1c4ae893e4122fbcf2d738",
            "value": " 50000/50000 [01:32&lt;00:00, 146.99it/s]"
          }
        },
        "faf01d9654024fd0926b43015104dfd0": {
          "model_module": "@jupyter-widgets/base",
          "model_name": "LayoutModel",
          "model_module_version": "1.2.0",
          "state": {
            "_model_module": "@jupyter-widgets/base",
            "_model_module_version": "1.2.0",
            "_model_name": "LayoutModel",
            "_view_count": null,
            "_view_module": "@jupyter-widgets/base",
            "_view_module_version": "1.2.0",
            "_view_name": "LayoutView",
            "align_content": null,
            "align_items": null,
            "align_self": null,
            "border": null,
            "bottom": null,
            "display": null,
            "flex": null,
            "flex_flow": null,
            "grid_area": null,
            "grid_auto_columns": null,
            "grid_auto_flow": null,
            "grid_auto_rows": null,
            "grid_column": null,
            "grid_gap": null,
            "grid_row": null,
            "grid_template_areas": null,
            "grid_template_columns": null,
            "grid_template_rows": null,
            "height": null,
            "justify_content": null,
            "justify_items": null,
            "left": null,
            "margin": null,
            "max_height": null,
            "max_width": null,
            "min_height": null,
            "min_width": null,
            "object_fit": null,
            "object_position": null,
            "order": null,
            "overflow": null,
            "overflow_x": null,
            "overflow_y": null,
            "padding": null,
            "right": null,
            "top": null,
            "visibility": null,
            "width": null
          }
        },
        "d0e01e9a4ec24da3a2642e88ee8c8120": {
          "model_module": "@jupyter-widgets/base",
          "model_name": "LayoutModel",
          "model_module_version": "1.2.0",
          "state": {
            "_model_module": "@jupyter-widgets/base",
            "_model_module_version": "1.2.0",
            "_model_name": "LayoutModel",
            "_view_count": null,
            "_view_module": "@jupyter-widgets/base",
            "_view_module_version": "1.2.0",
            "_view_name": "LayoutView",
            "align_content": null,
            "align_items": null,
            "align_self": null,
            "border": null,
            "bottom": null,
            "display": null,
            "flex": null,
            "flex_flow": null,
            "grid_area": null,
            "grid_auto_columns": null,
            "grid_auto_flow": null,
            "grid_auto_rows": null,
            "grid_column": null,
            "grid_gap": null,
            "grid_row": null,
            "grid_template_areas": null,
            "grid_template_columns": null,
            "grid_template_rows": null,
            "height": null,
            "justify_content": null,
            "justify_items": null,
            "left": null,
            "margin": null,
            "max_height": null,
            "max_width": null,
            "min_height": null,
            "min_width": null,
            "object_fit": null,
            "object_position": null,
            "order": null,
            "overflow": null,
            "overflow_x": null,
            "overflow_y": null,
            "padding": null,
            "right": null,
            "top": null,
            "visibility": null,
            "width": null
          }
        },
        "5afc8aca22804103a826ce6351e8b02c": {
          "model_module": "@jupyter-widgets/controls",
          "model_name": "DescriptionStyleModel",
          "model_module_version": "1.5.0",
          "state": {
            "_model_module": "@jupyter-widgets/controls",
            "_model_module_version": "1.5.0",
            "_model_name": "DescriptionStyleModel",
            "_view_count": null,
            "_view_module": "@jupyter-widgets/base",
            "_view_module_version": "1.2.0",
            "_view_name": "StyleView",
            "description_width": ""
          }
        },
        "400d006962e1492d9ba7445ab4617150": {
          "model_module": "@jupyter-widgets/base",
          "model_name": "LayoutModel",
          "model_module_version": "1.2.0",
          "state": {
            "_model_module": "@jupyter-widgets/base",
            "_model_module_version": "1.2.0",
            "_model_name": "LayoutModel",
            "_view_count": null,
            "_view_module": "@jupyter-widgets/base",
            "_view_module_version": "1.2.0",
            "_view_name": "LayoutView",
            "align_content": null,
            "align_items": null,
            "align_self": null,
            "border": null,
            "bottom": null,
            "display": null,
            "flex": null,
            "flex_flow": null,
            "grid_area": null,
            "grid_auto_columns": null,
            "grid_auto_flow": null,
            "grid_auto_rows": null,
            "grid_column": null,
            "grid_gap": null,
            "grid_row": null,
            "grid_template_areas": null,
            "grid_template_columns": null,
            "grid_template_rows": null,
            "height": null,
            "justify_content": null,
            "justify_items": null,
            "left": null,
            "margin": null,
            "max_height": null,
            "max_width": null,
            "min_height": null,
            "min_width": null,
            "object_fit": null,
            "object_position": null,
            "order": null,
            "overflow": null,
            "overflow_x": null,
            "overflow_y": null,
            "padding": null,
            "right": null,
            "top": null,
            "visibility": null,
            "width": null
          }
        },
        "4d26103a58ad43a0bb291c0d3e68f387": {
          "model_module": "@jupyter-widgets/controls",
          "model_name": "ProgressStyleModel",
          "model_module_version": "1.5.0",
          "state": {
            "_model_module": "@jupyter-widgets/controls",
            "_model_module_version": "1.5.0",
            "_model_name": "ProgressStyleModel",
            "_view_count": null,
            "_view_module": "@jupyter-widgets/base",
            "_view_module_version": "1.2.0",
            "_view_name": "StyleView",
            "bar_color": null,
            "description_width": ""
          }
        },
        "d88c5f3e961046d4b7cd35a0fc98b484": {
          "model_module": "@jupyter-widgets/base",
          "model_name": "LayoutModel",
          "model_module_version": "1.2.0",
          "state": {
            "_model_module": "@jupyter-widgets/base",
            "_model_module_version": "1.2.0",
            "_model_name": "LayoutModel",
            "_view_count": null,
            "_view_module": "@jupyter-widgets/base",
            "_view_module_version": "1.2.0",
            "_view_name": "LayoutView",
            "align_content": null,
            "align_items": null,
            "align_self": null,
            "border": null,
            "bottom": null,
            "display": null,
            "flex": null,
            "flex_flow": null,
            "grid_area": null,
            "grid_auto_columns": null,
            "grid_auto_flow": null,
            "grid_auto_rows": null,
            "grid_column": null,
            "grid_gap": null,
            "grid_row": null,
            "grid_template_areas": null,
            "grid_template_columns": null,
            "grid_template_rows": null,
            "height": null,
            "justify_content": null,
            "justify_items": null,
            "left": null,
            "margin": null,
            "max_height": null,
            "max_width": null,
            "min_height": null,
            "min_width": null,
            "object_fit": null,
            "object_position": null,
            "order": null,
            "overflow": null,
            "overflow_x": null,
            "overflow_y": null,
            "padding": null,
            "right": null,
            "top": null,
            "visibility": null,
            "width": null
          }
        },
        "be2c282d1d1c4ae893e4122fbcf2d738": {
          "model_module": "@jupyter-widgets/controls",
          "model_name": "DescriptionStyleModel",
          "model_module_version": "1.5.0",
          "state": {
            "_model_module": "@jupyter-widgets/controls",
            "_model_module_version": "1.5.0",
            "_model_name": "DescriptionStyleModel",
            "_view_count": null,
            "_view_module": "@jupyter-widgets/base",
            "_view_module_version": "1.2.0",
            "_view_name": "StyleView",
            "description_width": ""
          }
        },
        "d2ef208f1e244f0a92124629cf4eafdc": {
          "model_module": "@jupyter-widgets/controls",
          "model_name": "HBoxModel",
          "model_module_version": "1.5.0",
          "state": {
            "_dom_classes": [],
            "_model_module": "@jupyter-widgets/controls",
            "_model_module_version": "1.5.0",
            "_model_name": "HBoxModel",
            "_view_count": null,
            "_view_module": "@jupyter-widgets/controls",
            "_view_module_version": "1.5.0",
            "_view_name": "HBoxView",
            "box_style": "",
            "children": [
              "IPY_MODEL_1a18f60e214544bc99ddf3b6bf913a1c",
              "IPY_MODEL_ddf689f2cf5f47d3b01661cba075461f",
              "IPY_MODEL_60347d09bf264e26a9fa48e535a0216e"
            ],
            "layout": "IPY_MODEL_8c9ba075da0e4fa59b26f9895af0a1cb"
          }
        },
        "1a18f60e214544bc99ddf3b6bf913a1c": {
          "model_module": "@jupyter-widgets/controls",
          "model_name": "HTMLModel",
          "model_module_version": "1.5.0",
          "state": {
            "_dom_classes": [],
            "_model_module": "@jupyter-widgets/controls",
            "_model_module_version": "1.5.0",
            "_model_name": "HTMLModel",
            "_view_count": null,
            "_view_module": "@jupyter-widgets/controls",
            "_view_module_version": "1.5.0",
            "_view_name": "HTMLView",
            "description": "",
            "description_tooltip": null,
            "layout": "IPY_MODEL_fb4ab07901d74f1c8a0b2853e236eb85",
            "placeholder": "​",
            "style": "IPY_MODEL_6579c69097e04610a3bb1cf570e975ec",
            "value": "100%"
          }
        },
        "ddf689f2cf5f47d3b01661cba075461f": {
          "model_module": "@jupyter-widgets/controls",
          "model_name": "FloatProgressModel",
          "model_module_version": "1.5.0",
          "state": {
            "_dom_classes": [],
            "_model_module": "@jupyter-widgets/controls",
            "_model_module_version": "1.5.0",
            "_model_name": "FloatProgressModel",
            "_view_count": null,
            "_view_module": "@jupyter-widgets/controls",
            "_view_module_version": "1.5.0",
            "_view_name": "ProgressView",
            "bar_style": "success",
            "description": "",
            "description_tooltip": null,
            "layout": "IPY_MODEL_521b627379b94ac997bb67028cbbe144",
            "max": 50000,
            "min": 0,
            "orientation": "horizontal",
            "style": "IPY_MODEL_3a91575a5e3b4299941cfd57337922be",
            "value": 50000
          }
        },
        "60347d09bf264e26a9fa48e535a0216e": {
          "model_module": "@jupyter-widgets/controls",
          "model_name": "HTMLModel",
          "model_module_version": "1.5.0",
          "state": {
            "_dom_classes": [],
            "_model_module": "@jupyter-widgets/controls",
            "_model_module_version": "1.5.0",
            "_model_name": "HTMLModel",
            "_view_count": null,
            "_view_module": "@jupyter-widgets/controls",
            "_view_module_version": "1.5.0",
            "_view_name": "HTMLView",
            "description": "",
            "description_tooltip": null,
            "layout": "IPY_MODEL_0b185c6fd4db4393a34ae73091f208ed",
            "placeholder": "​",
            "style": "IPY_MODEL_bd01e8dac2114246bf7fed8eb6edac28",
            "value": " 50000/50000 [01:42&lt;00:00, 529.91it/s]"
          }
        },
        "8c9ba075da0e4fa59b26f9895af0a1cb": {
          "model_module": "@jupyter-widgets/base",
          "model_name": "LayoutModel",
          "model_module_version": "1.2.0",
          "state": {
            "_model_module": "@jupyter-widgets/base",
            "_model_module_version": "1.2.0",
            "_model_name": "LayoutModel",
            "_view_count": null,
            "_view_module": "@jupyter-widgets/base",
            "_view_module_version": "1.2.0",
            "_view_name": "LayoutView",
            "align_content": null,
            "align_items": null,
            "align_self": null,
            "border": null,
            "bottom": null,
            "display": null,
            "flex": null,
            "flex_flow": null,
            "grid_area": null,
            "grid_auto_columns": null,
            "grid_auto_flow": null,
            "grid_auto_rows": null,
            "grid_column": null,
            "grid_gap": null,
            "grid_row": null,
            "grid_template_areas": null,
            "grid_template_columns": null,
            "grid_template_rows": null,
            "height": null,
            "justify_content": null,
            "justify_items": null,
            "left": null,
            "margin": null,
            "max_height": null,
            "max_width": null,
            "min_height": null,
            "min_width": null,
            "object_fit": null,
            "object_position": null,
            "order": null,
            "overflow": null,
            "overflow_x": null,
            "overflow_y": null,
            "padding": null,
            "right": null,
            "top": null,
            "visibility": null,
            "width": null
          }
        },
        "fb4ab07901d74f1c8a0b2853e236eb85": {
          "model_module": "@jupyter-widgets/base",
          "model_name": "LayoutModel",
          "model_module_version": "1.2.0",
          "state": {
            "_model_module": "@jupyter-widgets/base",
            "_model_module_version": "1.2.0",
            "_model_name": "LayoutModel",
            "_view_count": null,
            "_view_module": "@jupyter-widgets/base",
            "_view_module_version": "1.2.0",
            "_view_name": "LayoutView",
            "align_content": null,
            "align_items": null,
            "align_self": null,
            "border": null,
            "bottom": null,
            "display": null,
            "flex": null,
            "flex_flow": null,
            "grid_area": null,
            "grid_auto_columns": null,
            "grid_auto_flow": null,
            "grid_auto_rows": null,
            "grid_column": null,
            "grid_gap": null,
            "grid_row": null,
            "grid_template_areas": null,
            "grid_template_columns": null,
            "grid_template_rows": null,
            "height": null,
            "justify_content": null,
            "justify_items": null,
            "left": null,
            "margin": null,
            "max_height": null,
            "max_width": null,
            "min_height": null,
            "min_width": null,
            "object_fit": null,
            "object_position": null,
            "order": null,
            "overflow": null,
            "overflow_x": null,
            "overflow_y": null,
            "padding": null,
            "right": null,
            "top": null,
            "visibility": null,
            "width": null
          }
        },
        "6579c69097e04610a3bb1cf570e975ec": {
          "model_module": "@jupyter-widgets/controls",
          "model_name": "DescriptionStyleModel",
          "model_module_version": "1.5.0",
          "state": {
            "_model_module": "@jupyter-widgets/controls",
            "_model_module_version": "1.5.0",
            "_model_name": "DescriptionStyleModel",
            "_view_count": null,
            "_view_module": "@jupyter-widgets/base",
            "_view_module_version": "1.2.0",
            "_view_name": "StyleView",
            "description_width": ""
          }
        },
        "521b627379b94ac997bb67028cbbe144": {
          "model_module": "@jupyter-widgets/base",
          "model_name": "LayoutModel",
          "model_module_version": "1.2.0",
          "state": {
            "_model_module": "@jupyter-widgets/base",
            "_model_module_version": "1.2.0",
            "_model_name": "LayoutModel",
            "_view_count": null,
            "_view_module": "@jupyter-widgets/base",
            "_view_module_version": "1.2.0",
            "_view_name": "LayoutView",
            "align_content": null,
            "align_items": null,
            "align_self": null,
            "border": null,
            "bottom": null,
            "display": null,
            "flex": null,
            "flex_flow": null,
            "grid_area": null,
            "grid_auto_columns": null,
            "grid_auto_flow": null,
            "grid_auto_rows": null,
            "grid_column": null,
            "grid_gap": null,
            "grid_row": null,
            "grid_template_areas": null,
            "grid_template_columns": null,
            "grid_template_rows": null,
            "height": null,
            "justify_content": null,
            "justify_items": null,
            "left": null,
            "margin": null,
            "max_height": null,
            "max_width": null,
            "min_height": null,
            "min_width": null,
            "object_fit": null,
            "object_position": null,
            "order": null,
            "overflow": null,
            "overflow_x": null,
            "overflow_y": null,
            "padding": null,
            "right": null,
            "top": null,
            "visibility": null,
            "width": null
          }
        },
        "3a91575a5e3b4299941cfd57337922be": {
          "model_module": "@jupyter-widgets/controls",
          "model_name": "ProgressStyleModel",
          "model_module_version": "1.5.0",
          "state": {
            "_model_module": "@jupyter-widgets/controls",
            "_model_module_version": "1.5.0",
            "_model_name": "ProgressStyleModel",
            "_view_count": null,
            "_view_module": "@jupyter-widgets/base",
            "_view_module_version": "1.2.0",
            "_view_name": "StyleView",
            "bar_color": null,
            "description_width": ""
          }
        },
        "0b185c6fd4db4393a34ae73091f208ed": {
          "model_module": "@jupyter-widgets/base",
          "model_name": "LayoutModel",
          "model_module_version": "1.2.0",
          "state": {
            "_model_module": "@jupyter-widgets/base",
            "_model_module_version": "1.2.0",
            "_model_name": "LayoutModel",
            "_view_count": null,
            "_view_module": "@jupyter-widgets/base",
            "_view_module_version": "1.2.0",
            "_view_name": "LayoutView",
            "align_content": null,
            "align_items": null,
            "align_self": null,
            "border": null,
            "bottom": null,
            "display": null,
            "flex": null,
            "flex_flow": null,
            "grid_area": null,
            "grid_auto_columns": null,
            "grid_auto_flow": null,
            "grid_auto_rows": null,
            "grid_column": null,
            "grid_gap": null,
            "grid_row": null,
            "grid_template_areas": null,
            "grid_template_columns": null,
            "grid_template_rows": null,
            "height": null,
            "justify_content": null,
            "justify_items": null,
            "left": null,
            "margin": null,
            "max_height": null,
            "max_width": null,
            "min_height": null,
            "min_width": null,
            "object_fit": null,
            "object_position": null,
            "order": null,
            "overflow": null,
            "overflow_x": null,
            "overflow_y": null,
            "padding": null,
            "right": null,
            "top": null,
            "visibility": null,
            "width": null
          }
        },
        "bd01e8dac2114246bf7fed8eb6edac28": {
          "model_module": "@jupyter-widgets/controls",
          "model_name": "DescriptionStyleModel",
          "model_module_version": "1.5.0",
          "state": {
            "_model_module": "@jupyter-widgets/controls",
            "_model_module_version": "1.5.0",
            "_model_name": "DescriptionStyleModel",
            "_view_count": null,
            "_view_module": "@jupyter-widgets/base",
            "_view_module_version": "1.2.0",
            "_view_name": "StyleView",
            "description_width": ""
          }
        },
        "c6d169065874487ebafd4b4513e08075": {
          "model_module": "@jupyter-widgets/controls",
          "model_name": "HBoxModel",
          "model_module_version": "1.5.0",
          "state": {
            "_dom_classes": [],
            "_model_module": "@jupyter-widgets/controls",
            "_model_module_version": "1.5.0",
            "_model_name": "HBoxModel",
            "_view_count": null,
            "_view_module": "@jupyter-widgets/controls",
            "_view_module_version": "1.5.0",
            "_view_name": "HBoxView",
            "box_style": "",
            "children": [
              "IPY_MODEL_eeeac1c9d1c540bbb59d1536b33ff31a",
              "IPY_MODEL_80337b873f484b83b385267f9ee0546d",
              "IPY_MODEL_41d298b5aae74210a3adfbc1aa9f306c"
            ],
            "layout": "IPY_MODEL_783e489739734fbdb4a3d2edcd9a558f"
          }
        },
        "eeeac1c9d1c540bbb59d1536b33ff31a": {
          "model_module": "@jupyter-widgets/controls",
          "model_name": "HTMLModel",
          "model_module_version": "1.5.0",
          "state": {
            "_dom_classes": [],
            "_model_module": "@jupyter-widgets/controls",
            "_model_module_version": "1.5.0",
            "_model_name": "HTMLModel",
            "_view_count": null,
            "_view_module": "@jupyter-widgets/controls",
            "_view_module_version": "1.5.0",
            "_view_name": "HTMLView",
            "description": "",
            "description_tooltip": null,
            "layout": "IPY_MODEL_3aadadfbd0c64dabb387451dea6df54a",
            "placeholder": "​",
            "style": "IPY_MODEL_4062c2ec643349489486d1ae3c2c2dff",
            "value": "100%"
          }
        },
        "80337b873f484b83b385267f9ee0546d": {
          "model_module": "@jupyter-widgets/controls",
          "model_name": "FloatProgressModel",
          "model_module_version": "1.5.0",
          "state": {
            "_dom_classes": [],
            "_model_module": "@jupyter-widgets/controls",
            "_model_module_version": "1.5.0",
            "_model_name": "FloatProgressModel",
            "_view_count": null,
            "_view_module": "@jupyter-widgets/controls",
            "_view_module_version": "1.5.0",
            "_view_name": "ProgressView",
            "bar_style": "success",
            "description": "",
            "description_tooltip": null,
            "layout": "IPY_MODEL_07aa358a59dd45709eb43336fde7537f",
            "max": 50000,
            "min": 0,
            "orientation": "horizontal",
            "style": "IPY_MODEL_fb8224f3d8474e969171e2943e2f989f",
            "value": 50000
          }
        },
        "41d298b5aae74210a3adfbc1aa9f306c": {
          "model_module": "@jupyter-widgets/controls",
          "model_name": "HTMLModel",
          "model_module_version": "1.5.0",
          "state": {
            "_dom_classes": [],
            "_model_module": "@jupyter-widgets/controls",
            "_model_module_version": "1.5.0",
            "_model_name": "HTMLModel",
            "_view_count": null,
            "_view_module": "@jupyter-widgets/controls",
            "_view_module_version": "1.5.0",
            "_view_name": "HTMLView",
            "description": "",
            "description_tooltip": null,
            "layout": "IPY_MODEL_a90755fc16904a7db6c5a099d3c7ab81",
            "placeholder": "​",
            "style": "IPY_MODEL_5925d6c8a76b487c89bb016a257d5205",
            "value": " 50000/50000 [01:44&lt;00:00, 416.42it/s]"
          }
        },
        "783e489739734fbdb4a3d2edcd9a558f": {
          "model_module": "@jupyter-widgets/base",
          "model_name": "LayoutModel",
          "model_module_version": "1.2.0",
          "state": {
            "_model_module": "@jupyter-widgets/base",
            "_model_module_version": "1.2.0",
            "_model_name": "LayoutModel",
            "_view_count": null,
            "_view_module": "@jupyter-widgets/base",
            "_view_module_version": "1.2.0",
            "_view_name": "LayoutView",
            "align_content": null,
            "align_items": null,
            "align_self": null,
            "border": null,
            "bottom": null,
            "display": null,
            "flex": null,
            "flex_flow": null,
            "grid_area": null,
            "grid_auto_columns": null,
            "grid_auto_flow": null,
            "grid_auto_rows": null,
            "grid_column": null,
            "grid_gap": null,
            "grid_row": null,
            "grid_template_areas": null,
            "grid_template_columns": null,
            "grid_template_rows": null,
            "height": null,
            "justify_content": null,
            "justify_items": null,
            "left": null,
            "margin": null,
            "max_height": null,
            "max_width": null,
            "min_height": null,
            "min_width": null,
            "object_fit": null,
            "object_position": null,
            "order": null,
            "overflow": null,
            "overflow_x": null,
            "overflow_y": null,
            "padding": null,
            "right": null,
            "top": null,
            "visibility": null,
            "width": null
          }
        },
        "3aadadfbd0c64dabb387451dea6df54a": {
          "model_module": "@jupyter-widgets/base",
          "model_name": "LayoutModel",
          "model_module_version": "1.2.0",
          "state": {
            "_model_module": "@jupyter-widgets/base",
            "_model_module_version": "1.2.0",
            "_model_name": "LayoutModel",
            "_view_count": null,
            "_view_module": "@jupyter-widgets/base",
            "_view_module_version": "1.2.0",
            "_view_name": "LayoutView",
            "align_content": null,
            "align_items": null,
            "align_self": null,
            "border": null,
            "bottom": null,
            "display": null,
            "flex": null,
            "flex_flow": null,
            "grid_area": null,
            "grid_auto_columns": null,
            "grid_auto_flow": null,
            "grid_auto_rows": null,
            "grid_column": null,
            "grid_gap": null,
            "grid_row": null,
            "grid_template_areas": null,
            "grid_template_columns": null,
            "grid_template_rows": null,
            "height": null,
            "justify_content": null,
            "justify_items": null,
            "left": null,
            "margin": null,
            "max_height": null,
            "max_width": null,
            "min_height": null,
            "min_width": null,
            "object_fit": null,
            "object_position": null,
            "order": null,
            "overflow": null,
            "overflow_x": null,
            "overflow_y": null,
            "padding": null,
            "right": null,
            "top": null,
            "visibility": null,
            "width": null
          }
        },
        "4062c2ec643349489486d1ae3c2c2dff": {
          "model_module": "@jupyter-widgets/controls",
          "model_name": "DescriptionStyleModel",
          "model_module_version": "1.5.0",
          "state": {
            "_model_module": "@jupyter-widgets/controls",
            "_model_module_version": "1.5.0",
            "_model_name": "DescriptionStyleModel",
            "_view_count": null,
            "_view_module": "@jupyter-widgets/base",
            "_view_module_version": "1.2.0",
            "_view_name": "StyleView",
            "description_width": ""
          }
        },
        "07aa358a59dd45709eb43336fde7537f": {
          "model_module": "@jupyter-widgets/base",
          "model_name": "LayoutModel",
          "model_module_version": "1.2.0",
          "state": {
            "_model_module": "@jupyter-widgets/base",
            "_model_module_version": "1.2.0",
            "_model_name": "LayoutModel",
            "_view_count": null,
            "_view_module": "@jupyter-widgets/base",
            "_view_module_version": "1.2.0",
            "_view_name": "LayoutView",
            "align_content": null,
            "align_items": null,
            "align_self": null,
            "border": null,
            "bottom": null,
            "display": null,
            "flex": null,
            "flex_flow": null,
            "grid_area": null,
            "grid_auto_columns": null,
            "grid_auto_flow": null,
            "grid_auto_rows": null,
            "grid_column": null,
            "grid_gap": null,
            "grid_row": null,
            "grid_template_areas": null,
            "grid_template_columns": null,
            "grid_template_rows": null,
            "height": null,
            "justify_content": null,
            "justify_items": null,
            "left": null,
            "margin": null,
            "max_height": null,
            "max_width": null,
            "min_height": null,
            "min_width": null,
            "object_fit": null,
            "object_position": null,
            "order": null,
            "overflow": null,
            "overflow_x": null,
            "overflow_y": null,
            "padding": null,
            "right": null,
            "top": null,
            "visibility": null,
            "width": null
          }
        },
        "fb8224f3d8474e969171e2943e2f989f": {
          "model_module": "@jupyter-widgets/controls",
          "model_name": "ProgressStyleModel",
          "model_module_version": "1.5.0",
          "state": {
            "_model_module": "@jupyter-widgets/controls",
            "_model_module_version": "1.5.0",
            "_model_name": "ProgressStyleModel",
            "_view_count": null,
            "_view_module": "@jupyter-widgets/base",
            "_view_module_version": "1.2.0",
            "_view_name": "StyleView",
            "bar_color": null,
            "description_width": ""
          }
        },
        "a90755fc16904a7db6c5a099d3c7ab81": {
          "model_module": "@jupyter-widgets/base",
          "model_name": "LayoutModel",
          "model_module_version": "1.2.0",
          "state": {
            "_model_module": "@jupyter-widgets/base",
            "_model_module_version": "1.2.0",
            "_model_name": "LayoutModel",
            "_view_count": null,
            "_view_module": "@jupyter-widgets/base",
            "_view_module_version": "1.2.0",
            "_view_name": "LayoutView",
            "align_content": null,
            "align_items": null,
            "align_self": null,
            "border": null,
            "bottom": null,
            "display": null,
            "flex": null,
            "flex_flow": null,
            "grid_area": null,
            "grid_auto_columns": null,
            "grid_auto_flow": null,
            "grid_auto_rows": null,
            "grid_column": null,
            "grid_gap": null,
            "grid_row": null,
            "grid_template_areas": null,
            "grid_template_columns": null,
            "grid_template_rows": null,
            "height": null,
            "justify_content": null,
            "justify_items": null,
            "left": null,
            "margin": null,
            "max_height": null,
            "max_width": null,
            "min_height": null,
            "min_width": null,
            "object_fit": null,
            "object_position": null,
            "order": null,
            "overflow": null,
            "overflow_x": null,
            "overflow_y": null,
            "padding": null,
            "right": null,
            "top": null,
            "visibility": null,
            "width": null
          }
        },
        "5925d6c8a76b487c89bb016a257d5205": {
          "model_module": "@jupyter-widgets/controls",
          "model_name": "DescriptionStyleModel",
          "model_module_version": "1.5.0",
          "state": {
            "_model_module": "@jupyter-widgets/controls",
            "_model_module_version": "1.5.0",
            "_model_name": "DescriptionStyleModel",
            "_view_count": null,
            "_view_module": "@jupyter-widgets/base",
            "_view_module_version": "1.2.0",
            "_view_name": "StyleView",
            "description_width": ""
          }
        },
        "dd4e6a2bcc7246d79fcc8c19c7c033e7": {
          "model_module": "@jupyter-widgets/controls",
          "model_name": "HBoxModel",
          "model_module_version": "1.5.0",
          "state": {
            "_dom_classes": [],
            "_model_module": "@jupyter-widgets/controls",
            "_model_module_version": "1.5.0",
            "_model_name": "HBoxModel",
            "_view_count": null,
            "_view_module": "@jupyter-widgets/controls",
            "_view_module_version": "1.5.0",
            "_view_name": "HBoxView",
            "box_style": "",
            "children": [
              "IPY_MODEL_e3c6087e9602436190a1718a33188141",
              "IPY_MODEL_0730a118f2b34431917352841e2855b6",
              "IPY_MODEL_3132d7771e8c468a98730a041e82e992"
            ],
            "layout": "IPY_MODEL_e7c221ff900c4261aa7ec3b18b5cbea8"
          }
        },
        "e3c6087e9602436190a1718a33188141": {
          "model_module": "@jupyter-widgets/controls",
          "model_name": "HTMLModel",
          "model_module_version": "1.5.0",
          "state": {
            "_dom_classes": [],
            "_model_module": "@jupyter-widgets/controls",
            "_model_module_version": "1.5.0",
            "_model_name": "HTMLModel",
            "_view_count": null,
            "_view_module": "@jupyter-widgets/controls",
            "_view_module_version": "1.5.0",
            "_view_name": "HTMLView",
            "description": "",
            "description_tooltip": null,
            "layout": "IPY_MODEL_e9f13e713fa24c3a91216c5772825a75",
            "placeholder": "​",
            "style": "IPY_MODEL_ab4c9be2f6274f638a9949aca59d9fa3",
            "value": "100%"
          }
        },
        "0730a118f2b34431917352841e2855b6": {
          "model_module": "@jupyter-widgets/controls",
          "model_name": "FloatProgressModel",
          "model_module_version": "1.5.0",
          "state": {
            "_dom_classes": [],
            "_model_module": "@jupyter-widgets/controls",
            "_model_module_version": "1.5.0",
            "_model_name": "FloatProgressModel",
            "_view_count": null,
            "_view_module": "@jupyter-widgets/controls",
            "_view_module_version": "1.5.0",
            "_view_name": "ProgressView",
            "bar_style": "success",
            "description": "",
            "description_tooltip": null,
            "layout": "IPY_MODEL_d2b3a2d518fb48929616e47687133396",
            "max": 50000,
            "min": 0,
            "orientation": "horizontal",
            "style": "IPY_MODEL_0c5914387def4a42acb4768792546fb6",
            "value": 50000
          }
        },
        "3132d7771e8c468a98730a041e82e992": {
          "model_module": "@jupyter-widgets/controls",
          "model_name": "HTMLModel",
          "model_module_version": "1.5.0",
          "state": {
            "_dom_classes": [],
            "_model_module": "@jupyter-widgets/controls",
            "_model_module_version": "1.5.0",
            "_model_name": "HTMLModel",
            "_view_count": null,
            "_view_module": "@jupyter-widgets/controls",
            "_view_module_version": "1.5.0",
            "_view_name": "HTMLView",
            "description": "",
            "description_tooltip": null,
            "layout": "IPY_MODEL_394886a115e34f139d0f4fab102b40b3",
            "placeholder": "​",
            "style": "IPY_MODEL_01e71a6ad12a4e668c5cb63008797d4b",
            "value": " 50000/50000 [01:35&lt;00:00, 590.14it/s]"
          }
        },
        "e7c221ff900c4261aa7ec3b18b5cbea8": {
          "model_module": "@jupyter-widgets/base",
          "model_name": "LayoutModel",
          "model_module_version": "1.2.0",
          "state": {
            "_model_module": "@jupyter-widgets/base",
            "_model_module_version": "1.2.0",
            "_model_name": "LayoutModel",
            "_view_count": null,
            "_view_module": "@jupyter-widgets/base",
            "_view_module_version": "1.2.0",
            "_view_name": "LayoutView",
            "align_content": null,
            "align_items": null,
            "align_self": null,
            "border": null,
            "bottom": null,
            "display": null,
            "flex": null,
            "flex_flow": null,
            "grid_area": null,
            "grid_auto_columns": null,
            "grid_auto_flow": null,
            "grid_auto_rows": null,
            "grid_column": null,
            "grid_gap": null,
            "grid_row": null,
            "grid_template_areas": null,
            "grid_template_columns": null,
            "grid_template_rows": null,
            "height": null,
            "justify_content": null,
            "justify_items": null,
            "left": null,
            "margin": null,
            "max_height": null,
            "max_width": null,
            "min_height": null,
            "min_width": null,
            "object_fit": null,
            "object_position": null,
            "order": null,
            "overflow": null,
            "overflow_x": null,
            "overflow_y": null,
            "padding": null,
            "right": null,
            "top": null,
            "visibility": null,
            "width": null
          }
        },
        "e9f13e713fa24c3a91216c5772825a75": {
          "model_module": "@jupyter-widgets/base",
          "model_name": "LayoutModel",
          "model_module_version": "1.2.0",
          "state": {
            "_model_module": "@jupyter-widgets/base",
            "_model_module_version": "1.2.0",
            "_model_name": "LayoutModel",
            "_view_count": null,
            "_view_module": "@jupyter-widgets/base",
            "_view_module_version": "1.2.0",
            "_view_name": "LayoutView",
            "align_content": null,
            "align_items": null,
            "align_self": null,
            "border": null,
            "bottom": null,
            "display": null,
            "flex": null,
            "flex_flow": null,
            "grid_area": null,
            "grid_auto_columns": null,
            "grid_auto_flow": null,
            "grid_auto_rows": null,
            "grid_column": null,
            "grid_gap": null,
            "grid_row": null,
            "grid_template_areas": null,
            "grid_template_columns": null,
            "grid_template_rows": null,
            "height": null,
            "justify_content": null,
            "justify_items": null,
            "left": null,
            "margin": null,
            "max_height": null,
            "max_width": null,
            "min_height": null,
            "min_width": null,
            "object_fit": null,
            "object_position": null,
            "order": null,
            "overflow": null,
            "overflow_x": null,
            "overflow_y": null,
            "padding": null,
            "right": null,
            "top": null,
            "visibility": null,
            "width": null
          }
        },
        "ab4c9be2f6274f638a9949aca59d9fa3": {
          "model_module": "@jupyter-widgets/controls",
          "model_name": "DescriptionStyleModel",
          "model_module_version": "1.5.0",
          "state": {
            "_model_module": "@jupyter-widgets/controls",
            "_model_module_version": "1.5.0",
            "_model_name": "DescriptionStyleModel",
            "_view_count": null,
            "_view_module": "@jupyter-widgets/base",
            "_view_module_version": "1.2.0",
            "_view_name": "StyleView",
            "description_width": ""
          }
        },
        "d2b3a2d518fb48929616e47687133396": {
          "model_module": "@jupyter-widgets/base",
          "model_name": "LayoutModel",
          "model_module_version": "1.2.0",
          "state": {
            "_model_module": "@jupyter-widgets/base",
            "_model_module_version": "1.2.0",
            "_model_name": "LayoutModel",
            "_view_count": null,
            "_view_module": "@jupyter-widgets/base",
            "_view_module_version": "1.2.0",
            "_view_name": "LayoutView",
            "align_content": null,
            "align_items": null,
            "align_self": null,
            "border": null,
            "bottom": null,
            "display": null,
            "flex": null,
            "flex_flow": null,
            "grid_area": null,
            "grid_auto_columns": null,
            "grid_auto_flow": null,
            "grid_auto_rows": null,
            "grid_column": null,
            "grid_gap": null,
            "grid_row": null,
            "grid_template_areas": null,
            "grid_template_columns": null,
            "grid_template_rows": null,
            "height": null,
            "justify_content": null,
            "justify_items": null,
            "left": null,
            "margin": null,
            "max_height": null,
            "max_width": null,
            "min_height": null,
            "min_width": null,
            "object_fit": null,
            "object_position": null,
            "order": null,
            "overflow": null,
            "overflow_x": null,
            "overflow_y": null,
            "padding": null,
            "right": null,
            "top": null,
            "visibility": null,
            "width": null
          }
        },
        "0c5914387def4a42acb4768792546fb6": {
          "model_module": "@jupyter-widgets/controls",
          "model_name": "ProgressStyleModel",
          "model_module_version": "1.5.0",
          "state": {
            "_model_module": "@jupyter-widgets/controls",
            "_model_module_version": "1.5.0",
            "_model_name": "ProgressStyleModel",
            "_view_count": null,
            "_view_module": "@jupyter-widgets/base",
            "_view_module_version": "1.2.0",
            "_view_name": "StyleView",
            "bar_color": null,
            "description_width": ""
          }
        },
        "394886a115e34f139d0f4fab102b40b3": {
          "model_module": "@jupyter-widgets/base",
          "model_name": "LayoutModel",
          "model_module_version": "1.2.0",
          "state": {
            "_model_module": "@jupyter-widgets/base",
            "_model_module_version": "1.2.0",
            "_model_name": "LayoutModel",
            "_view_count": null,
            "_view_module": "@jupyter-widgets/base",
            "_view_module_version": "1.2.0",
            "_view_name": "LayoutView",
            "align_content": null,
            "align_items": null,
            "align_self": null,
            "border": null,
            "bottom": null,
            "display": null,
            "flex": null,
            "flex_flow": null,
            "grid_area": null,
            "grid_auto_columns": null,
            "grid_auto_flow": null,
            "grid_auto_rows": null,
            "grid_column": null,
            "grid_gap": null,
            "grid_row": null,
            "grid_template_areas": null,
            "grid_template_columns": null,
            "grid_template_rows": null,
            "height": null,
            "justify_content": null,
            "justify_items": null,
            "left": null,
            "margin": null,
            "max_height": null,
            "max_width": null,
            "min_height": null,
            "min_width": null,
            "object_fit": null,
            "object_position": null,
            "order": null,
            "overflow": null,
            "overflow_x": null,
            "overflow_y": null,
            "padding": null,
            "right": null,
            "top": null,
            "visibility": null,
            "width": null
          }
        },
        "01e71a6ad12a4e668c5cb63008797d4b": {
          "model_module": "@jupyter-widgets/controls",
          "model_name": "DescriptionStyleModel",
          "model_module_version": "1.5.0",
          "state": {
            "_model_module": "@jupyter-widgets/controls",
            "_model_module_version": "1.5.0",
            "_model_name": "DescriptionStyleModel",
            "_view_count": null,
            "_view_module": "@jupyter-widgets/base",
            "_view_module_version": "1.2.0",
            "_view_name": "StyleView",
            "description_width": ""
          }
        },
        "6d1340b535c44c1b834ae4d148e1e770": {
          "model_module": "@jupyter-widgets/controls",
          "model_name": "HBoxModel",
          "model_module_version": "1.5.0",
          "state": {
            "_dom_classes": [],
            "_model_module": "@jupyter-widgets/controls",
            "_model_module_version": "1.5.0",
            "_model_name": "HBoxModel",
            "_view_count": null,
            "_view_module": "@jupyter-widgets/controls",
            "_view_module_version": "1.5.0",
            "_view_name": "HBoxView",
            "box_style": "",
            "children": [
              "IPY_MODEL_90ca3088aef540c989e10ad81c886181",
              "IPY_MODEL_9d1a15e4a1804501a5af36e8310e5c44",
              "IPY_MODEL_5d1531cf407440608c89de7fa7e7c7f0"
            ],
            "layout": "IPY_MODEL_eb49c8199f594607a9ca35532e98bc8c"
          }
        },
        "90ca3088aef540c989e10ad81c886181": {
          "model_module": "@jupyter-widgets/controls",
          "model_name": "HTMLModel",
          "model_module_version": "1.5.0",
          "state": {
            "_dom_classes": [],
            "_model_module": "@jupyter-widgets/controls",
            "_model_module_version": "1.5.0",
            "_model_name": "HTMLModel",
            "_view_count": null,
            "_view_module": "@jupyter-widgets/controls",
            "_view_module_version": "1.5.0",
            "_view_name": "HTMLView",
            "description": "",
            "description_tooltip": null,
            "layout": "IPY_MODEL_f7849af3232c4654a63b562f2c6c846e",
            "placeholder": "​",
            "style": "IPY_MODEL_eb79f63e775a4ad9aa6c91282bddb382",
            "value": "100%"
          }
        },
        "9d1a15e4a1804501a5af36e8310e5c44": {
          "model_module": "@jupyter-widgets/controls",
          "model_name": "FloatProgressModel",
          "model_module_version": "1.5.0",
          "state": {
            "_dom_classes": [],
            "_model_module": "@jupyter-widgets/controls",
            "_model_module_version": "1.5.0",
            "_model_name": "FloatProgressModel",
            "_view_count": null,
            "_view_module": "@jupyter-widgets/controls",
            "_view_module_version": "1.5.0",
            "_view_name": "ProgressView",
            "bar_style": "success",
            "description": "",
            "description_tooltip": null,
            "layout": "IPY_MODEL_cd32af20011f4c1e9d213b25d59a47e3",
            "max": 4,
            "min": 0,
            "orientation": "horizontal",
            "style": "IPY_MODEL_2b01f28e18954f9295faffb8e7751a7a",
            "value": 4
          }
        },
        "5d1531cf407440608c89de7fa7e7c7f0": {
          "model_module": "@jupyter-widgets/controls",
          "model_name": "HTMLModel",
          "model_module_version": "1.5.0",
          "state": {
            "_dom_classes": [],
            "_model_module": "@jupyter-widgets/controls",
            "_model_module_version": "1.5.0",
            "_model_name": "HTMLModel",
            "_view_count": null,
            "_view_module": "@jupyter-widgets/controls",
            "_view_module_version": "1.5.0",
            "_view_name": "HTMLView",
            "description": "",
            "description_tooltip": null,
            "layout": "IPY_MODEL_7074273d2c1741d3b26f500fca69c799",
            "placeholder": "​",
            "style": "IPY_MODEL_2283e5648c6f405b870965d71801a6b3",
            "value": " 4/4 [02:55&lt;00:00, 55.04s/it]"
          }
        },
        "eb49c8199f594607a9ca35532e98bc8c": {
          "model_module": "@jupyter-widgets/base",
          "model_name": "LayoutModel",
          "model_module_version": "1.2.0",
          "state": {
            "_model_module": "@jupyter-widgets/base",
            "_model_module_version": "1.2.0",
            "_model_name": "LayoutModel",
            "_view_count": null,
            "_view_module": "@jupyter-widgets/base",
            "_view_module_version": "1.2.0",
            "_view_name": "LayoutView",
            "align_content": null,
            "align_items": null,
            "align_self": null,
            "border": null,
            "bottom": null,
            "display": null,
            "flex": null,
            "flex_flow": null,
            "grid_area": null,
            "grid_auto_columns": null,
            "grid_auto_flow": null,
            "grid_auto_rows": null,
            "grid_column": null,
            "grid_gap": null,
            "grid_row": null,
            "grid_template_areas": null,
            "grid_template_columns": null,
            "grid_template_rows": null,
            "height": null,
            "justify_content": null,
            "justify_items": null,
            "left": null,
            "margin": null,
            "max_height": null,
            "max_width": null,
            "min_height": null,
            "min_width": null,
            "object_fit": null,
            "object_position": null,
            "order": null,
            "overflow": null,
            "overflow_x": null,
            "overflow_y": null,
            "padding": null,
            "right": null,
            "top": null,
            "visibility": null,
            "width": null
          }
        },
        "f7849af3232c4654a63b562f2c6c846e": {
          "model_module": "@jupyter-widgets/base",
          "model_name": "LayoutModel",
          "model_module_version": "1.2.0",
          "state": {
            "_model_module": "@jupyter-widgets/base",
            "_model_module_version": "1.2.0",
            "_model_name": "LayoutModel",
            "_view_count": null,
            "_view_module": "@jupyter-widgets/base",
            "_view_module_version": "1.2.0",
            "_view_name": "LayoutView",
            "align_content": null,
            "align_items": null,
            "align_self": null,
            "border": null,
            "bottom": null,
            "display": null,
            "flex": null,
            "flex_flow": null,
            "grid_area": null,
            "grid_auto_columns": null,
            "grid_auto_flow": null,
            "grid_auto_rows": null,
            "grid_column": null,
            "grid_gap": null,
            "grid_row": null,
            "grid_template_areas": null,
            "grid_template_columns": null,
            "grid_template_rows": null,
            "height": null,
            "justify_content": null,
            "justify_items": null,
            "left": null,
            "margin": null,
            "max_height": null,
            "max_width": null,
            "min_height": null,
            "min_width": null,
            "object_fit": null,
            "object_position": null,
            "order": null,
            "overflow": null,
            "overflow_x": null,
            "overflow_y": null,
            "padding": null,
            "right": null,
            "top": null,
            "visibility": null,
            "width": null
          }
        },
        "eb79f63e775a4ad9aa6c91282bddb382": {
          "model_module": "@jupyter-widgets/controls",
          "model_name": "DescriptionStyleModel",
          "model_module_version": "1.5.0",
          "state": {
            "_model_module": "@jupyter-widgets/controls",
            "_model_module_version": "1.5.0",
            "_model_name": "DescriptionStyleModel",
            "_view_count": null,
            "_view_module": "@jupyter-widgets/base",
            "_view_module_version": "1.2.0",
            "_view_name": "StyleView",
            "description_width": ""
          }
        },
        "cd32af20011f4c1e9d213b25d59a47e3": {
          "model_module": "@jupyter-widgets/base",
          "model_name": "LayoutModel",
          "model_module_version": "1.2.0",
          "state": {
            "_model_module": "@jupyter-widgets/base",
            "_model_module_version": "1.2.0",
            "_model_name": "LayoutModel",
            "_view_count": null,
            "_view_module": "@jupyter-widgets/base",
            "_view_module_version": "1.2.0",
            "_view_name": "LayoutView",
            "align_content": null,
            "align_items": null,
            "align_self": null,
            "border": null,
            "bottom": null,
            "display": null,
            "flex": null,
            "flex_flow": null,
            "grid_area": null,
            "grid_auto_columns": null,
            "grid_auto_flow": null,
            "grid_auto_rows": null,
            "grid_column": null,
            "grid_gap": null,
            "grid_row": null,
            "grid_template_areas": null,
            "grid_template_columns": null,
            "grid_template_rows": null,
            "height": null,
            "justify_content": null,
            "justify_items": null,
            "left": null,
            "margin": null,
            "max_height": null,
            "max_width": null,
            "min_height": null,
            "min_width": null,
            "object_fit": null,
            "object_position": null,
            "order": null,
            "overflow": null,
            "overflow_x": null,
            "overflow_y": null,
            "padding": null,
            "right": null,
            "top": null,
            "visibility": null,
            "width": null
          }
        },
        "2b01f28e18954f9295faffb8e7751a7a": {
          "model_module": "@jupyter-widgets/controls",
          "model_name": "ProgressStyleModel",
          "model_module_version": "1.5.0",
          "state": {
            "_model_module": "@jupyter-widgets/controls",
            "_model_module_version": "1.5.0",
            "_model_name": "ProgressStyleModel",
            "_view_count": null,
            "_view_module": "@jupyter-widgets/base",
            "_view_module_version": "1.2.0",
            "_view_name": "StyleView",
            "bar_color": null,
            "description_width": ""
          }
        },
        "7074273d2c1741d3b26f500fca69c799": {
          "model_module": "@jupyter-widgets/base",
          "model_name": "LayoutModel",
          "model_module_version": "1.2.0",
          "state": {
            "_model_module": "@jupyter-widgets/base",
            "_model_module_version": "1.2.0",
            "_model_name": "LayoutModel",
            "_view_count": null,
            "_view_module": "@jupyter-widgets/base",
            "_view_module_version": "1.2.0",
            "_view_name": "LayoutView",
            "align_content": null,
            "align_items": null,
            "align_self": null,
            "border": null,
            "bottom": null,
            "display": null,
            "flex": null,
            "flex_flow": null,
            "grid_area": null,
            "grid_auto_columns": null,
            "grid_auto_flow": null,
            "grid_auto_rows": null,
            "grid_column": null,
            "grid_gap": null,
            "grid_row": null,
            "grid_template_areas": null,
            "grid_template_columns": null,
            "grid_template_rows": null,
            "height": null,
            "justify_content": null,
            "justify_items": null,
            "left": null,
            "margin": null,
            "max_height": null,
            "max_width": null,
            "min_height": null,
            "min_width": null,
            "object_fit": null,
            "object_position": null,
            "order": null,
            "overflow": null,
            "overflow_x": null,
            "overflow_y": null,
            "padding": null,
            "right": null,
            "top": null,
            "visibility": null,
            "width": null
          }
        },
        "2283e5648c6f405b870965d71801a6b3": {
          "model_module": "@jupyter-widgets/controls",
          "model_name": "DescriptionStyleModel",
          "model_module_version": "1.5.0",
          "state": {
            "_model_module": "@jupyter-widgets/controls",
            "_model_module_version": "1.5.0",
            "_model_name": "DescriptionStyleModel",
            "_view_count": null,
            "_view_module": "@jupyter-widgets/base",
            "_view_module_version": "1.2.0",
            "_view_name": "StyleView",
            "description_width": ""
          }
        },
        "8e2ca43b28124539a77df0c198c59f7d": {
          "model_module": "@jupyter-widgets/controls",
          "model_name": "HBoxModel",
          "model_module_version": "1.5.0",
          "state": {
            "_dom_classes": [],
            "_model_module": "@jupyter-widgets/controls",
            "_model_module_version": "1.5.0",
            "_model_name": "HBoxModel",
            "_view_count": null,
            "_view_module": "@jupyter-widgets/controls",
            "_view_module_version": "1.5.0",
            "_view_name": "HBoxView",
            "box_style": "",
            "children": [
              "IPY_MODEL_d59acd8f5f8f45daa5f6cb720f2b0a65",
              "IPY_MODEL_fbffc5860dc24889af26d7556a813ca5",
              "IPY_MODEL_9286b5ad00e54f37b89251b57107b88f"
            ],
            "layout": "IPY_MODEL_f20ea18034d140b6a145af4e3ef1de44"
          }
        },
        "d59acd8f5f8f45daa5f6cb720f2b0a65": {
          "model_module": "@jupyter-widgets/controls",
          "model_name": "HTMLModel",
          "model_module_version": "1.5.0",
          "state": {
            "_dom_classes": [],
            "_model_module": "@jupyter-widgets/controls",
            "_model_module_version": "1.5.0",
            "_model_name": "HTMLModel",
            "_view_count": null,
            "_view_module": "@jupyter-widgets/controls",
            "_view_module_version": "1.5.0",
            "_view_name": "HTMLView",
            "description": "",
            "description_tooltip": null,
            "layout": "IPY_MODEL_fce594c0f3964a6692ade334e4793865",
            "placeholder": "​",
            "style": "IPY_MODEL_e2bc5d66c4d54ee3a7ad12298f44108d",
            "value": "100%"
          }
        },
        "fbffc5860dc24889af26d7556a813ca5": {
          "model_module": "@jupyter-widgets/controls",
          "model_name": "FloatProgressModel",
          "model_module_version": "1.5.0",
          "state": {
            "_dom_classes": [],
            "_model_module": "@jupyter-widgets/controls",
            "_model_module_version": "1.5.0",
            "_model_name": "FloatProgressModel",
            "_view_count": null,
            "_view_module": "@jupyter-widgets/controls",
            "_view_module_version": "1.5.0",
            "_view_name": "ProgressView",
            "bar_style": "success",
            "description": "",
            "description_tooltip": null,
            "layout": "IPY_MODEL_860c9494edcb431eb73c47c95f04524e",
            "max": 20000,
            "min": 0,
            "orientation": "horizontal",
            "style": "IPY_MODEL_10a7b06ba3f84787a6d78cf6c9cf026e",
            "value": 20000
          }
        },
        "9286b5ad00e54f37b89251b57107b88f": {
          "model_module": "@jupyter-widgets/controls",
          "model_name": "HTMLModel",
          "model_module_version": "1.5.0",
          "state": {
            "_dom_classes": [],
            "_model_module": "@jupyter-widgets/controls",
            "_model_module_version": "1.5.0",
            "_model_name": "HTMLModel",
            "_view_count": null,
            "_view_module": "@jupyter-widgets/controls",
            "_view_module_version": "1.5.0",
            "_view_name": "HTMLView",
            "description": "",
            "description_tooltip": null,
            "layout": "IPY_MODEL_85d4697076ec4887a93d5bde6932a5c0",
            "placeholder": "​",
            "style": "IPY_MODEL_62106eceda654da3b96dc65f5363024d",
            "value": " 20000/20000 [00:23&lt;00:00, 780.09it/s]"
          }
        },
        "f20ea18034d140b6a145af4e3ef1de44": {
          "model_module": "@jupyter-widgets/base",
          "model_name": "LayoutModel",
          "model_module_version": "1.2.0",
          "state": {
            "_model_module": "@jupyter-widgets/base",
            "_model_module_version": "1.2.0",
            "_model_name": "LayoutModel",
            "_view_count": null,
            "_view_module": "@jupyter-widgets/base",
            "_view_module_version": "1.2.0",
            "_view_name": "LayoutView",
            "align_content": null,
            "align_items": null,
            "align_self": null,
            "border": null,
            "bottom": null,
            "display": null,
            "flex": null,
            "flex_flow": null,
            "grid_area": null,
            "grid_auto_columns": null,
            "grid_auto_flow": null,
            "grid_auto_rows": null,
            "grid_column": null,
            "grid_gap": null,
            "grid_row": null,
            "grid_template_areas": null,
            "grid_template_columns": null,
            "grid_template_rows": null,
            "height": null,
            "justify_content": null,
            "justify_items": null,
            "left": null,
            "margin": null,
            "max_height": null,
            "max_width": null,
            "min_height": null,
            "min_width": null,
            "object_fit": null,
            "object_position": null,
            "order": null,
            "overflow": null,
            "overflow_x": null,
            "overflow_y": null,
            "padding": null,
            "right": null,
            "top": null,
            "visibility": null,
            "width": null
          }
        },
        "fce594c0f3964a6692ade334e4793865": {
          "model_module": "@jupyter-widgets/base",
          "model_name": "LayoutModel",
          "model_module_version": "1.2.0",
          "state": {
            "_model_module": "@jupyter-widgets/base",
            "_model_module_version": "1.2.0",
            "_model_name": "LayoutModel",
            "_view_count": null,
            "_view_module": "@jupyter-widgets/base",
            "_view_module_version": "1.2.0",
            "_view_name": "LayoutView",
            "align_content": null,
            "align_items": null,
            "align_self": null,
            "border": null,
            "bottom": null,
            "display": null,
            "flex": null,
            "flex_flow": null,
            "grid_area": null,
            "grid_auto_columns": null,
            "grid_auto_flow": null,
            "grid_auto_rows": null,
            "grid_column": null,
            "grid_gap": null,
            "grid_row": null,
            "grid_template_areas": null,
            "grid_template_columns": null,
            "grid_template_rows": null,
            "height": null,
            "justify_content": null,
            "justify_items": null,
            "left": null,
            "margin": null,
            "max_height": null,
            "max_width": null,
            "min_height": null,
            "min_width": null,
            "object_fit": null,
            "object_position": null,
            "order": null,
            "overflow": null,
            "overflow_x": null,
            "overflow_y": null,
            "padding": null,
            "right": null,
            "top": null,
            "visibility": null,
            "width": null
          }
        },
        "e2bc5d66c4d54ee3a7ad12298f44108d": {
          "model_module": "@jupyter-widgets/controls",
          "model_name": "DescriptionStyleModel",
          "model_module_version": "1.5.0",
          "state": {
            "_model_module": "@jupyter-widgets/controls",
            "_model_module_version": "1.5.0",
            "_model_name": "DescriptionStyleModel",
            "_view_count": null,
            "_view_module": "@jupyter-widgets/base",
            "_view_module_version": "1.2.0",
            "_view_name": "StyleView",
            "description_width": ""
          }
        },
        "860c9494edcb431eb73c47c95f04524e": {
          "model_module": "@jupyter-widgets/base",
          "model_name": "LayoutModel",
          "model_module_version": "1.2.0",
          "state": {
            "_model_module": "@jupyter-widgets/base",
            "_model_module_version": "1.2.0",
            "_model_name": "LayoutModel",
            "_view_count": null,
            "_view_module": "@jupyter-widgets/base",
            "_view_module_version": "1.2.0",
            "_view_name": "LayoutView",
            "align_content": null,
            "align_items": null,
            "align_self": null,
            "border": null,
            "bottom": null,
            "display": null,
            "flex": null,
            "flex_flow": null,
            "grid_area": null,
            "grid_auto_columns": null,
            "grid_auto_flow": null,
            "grid_auto_rows": null,
            "grid_column": null,
            "grid_gap": null,
            "grid_row": null,
            "grid_template_areas": null,
            "grid_template_columns": null,
            "grid_template_rows": null,
            "height": null,
            "justify_content": null,
            "justify_items": null,
            "left": null,
            "margin": null,
            "max_height": null,
            "max_width": null,
            "min_height": null,
            "min_width": null,
            "object_fit": null,
            "object_position": null,
            "order": null,
            "overflow": null,
            "overflow_x": null,
            "overflow_y": null,
            "padding": null,
            "right": null,
            "top": null,
            "visibility": null,
            "width": null
          }
        },
        "10a7b06ba3f84787a6d78cf6c9cf026e": {
          "model_module": "@jupyter-widgets/controls",
          "model_name": "ProgressStyleModel",
          "model_module_version": "1.5.0",
          "state": {
            "_model_module": "@jupyter-widgets/controls",
            "_model_module_version": "1.5.0",
            "_model_name": "ProgressStyleModel",
            "_view_count": null,
            "_view_module": "@jupyter-widgets/base",
            "_view_module_version": "1.2.0",
            "_view_name": "StyleView",
            "bar_color": null,
            "description_width": ""
          }
        },
        "85d4697076ec4887a93d5bde6932a5c0": {
          "model_module": "@jupyter-widgets/base",
          "model_name": "LayoutModel",
          "model_module_version": "1.2.0",
          "state": {
            "_model_module": "@jupyter-widgets/base",
            "_model_module_version": "1.2.0",
            "_model_name": "LayoutModel",
            "_view_count": null,
            "_view_module": "@jupyter-widgets/base",
            "_view_module_version": "1.2.0",
            "_view_name": "LayoutView",
            "align_content": null,
            "align_items": null,
            "align_self": null,
            "border": null,
            "bottom": null,
            "display": null,
            "flex": null,
            "flex_flow": null,
            "grid_area": null,
            "grid_auto_columns": null,
            "grid_auto_flow": null,
            "grid_auto_rows": null,
            "grid_column": null,
            "grid_gap": null,
            "grid_row": null,
            "grid_template_areas": null,
            "grid_template_columns": null,
            "grid_template_rows": null,
            "height": null,
            "justify_content": null,
            "justify_items": null,
            "left": null,
            "margin": null,
            "max_height": null,
            "max_width": null,
            "min_height": null,
            "min_width": null,
            "object_fit": null,
            "object_position": null,
            "order": null,
            "overflow": null,
            "overflow_x": null,
            "overflow_y": null,
            "padding": null,
            "right": null,
            "top": null,
            "visibility": null,
            "width": null
          }
        },
        "62106eceda654da3b96dc65f5363024d": {
          "model_module": "@jupyter-widgets/controls",
          "model_name": "DescriptionStyleModel",
          "model_module_version": "1.5.0",
          "state": {
            "_model_module": "@jupyter-widgets/controls",
            "_model_module_version": "1.5.0",
            "_model_name": "DescriptionStyleModel",
            "_view_count": null,
            "_view_module": "@jupyter-widgets/base",
            "_view_module_version": "1.2.0",
            "_view_name": "StyleView",
            "description_width": ""
          }
        },
        "7578f1e89a2a4feda1760ae10996a435": {
          "model_module": "@jupyter-widgets/controls",
          "model_name": "VBoxModel",
          "model_module_version": "1.5.0",
          "state": {
            "_dom_classes": [
              "widget-interact"
            ],
            "_model_module": "@jupyter-widgets/controls",
            "_model_module_version": "1.5.0",
            "_model_name": "VBoxModel",
            "_view_count": null,
            "_view_module": "@jupyter-widgets/controls",
            "_view_module_version": "1.5.0",
            "_view_name": "VBoxView",
            "box_style": "",
            "children": [
              "IPY_MODEL_a4bbf366851442daac3c89e387852f1d",
              "IPY_MODEL_477d7a780da849879dfda4e56ae3a463"
            ],
            "layout": "IPY_MODEL_db39028e98e34ac884ca415c0a8e58bd"
          }
        },
        "a4bbf366851442daac3c89e387852f1d": {
          "model_module": "@jupyter-widgets/controls",
          "model_name": "IntSliderModel",
          "model_module_version": "1.5.0",
          "state": {
            "_dom_classes": [],
            "_model_module": "@jupyter-widgets/controls",
            "_model_module_version": "1.5.0",
            "_model_name": "IntSliderModel",
            "_view_count": null,
            "_view_module": "@jupyter-widgets/controls",
            "_view_module_version": "1.5.0",
            "_view_name": "IntSliderView",
            "continuous_update": true,
            "description": "Layer",
            "description_tooltip": null,
            "disabled": false,
            "layout": "IPY_MODEL_e5987203755040069cd145811ec3f6bd",
            "max": 18,
            "min": 0,
            "orientation": "horizontal",
            "readout": true,
            "readout_format": "d",
            "step": 1,
            "style": "IPY_MODEL_cc96e40c6095434b838d488aaed7daea",
            "value": 18
          }
        },
        "477d7a780da849879dfda4e56ae3a463": {
          "model_module": "@jupyter-widgets/output",
          "model_name": "OutputModel",
          "model_module_version": "1.0.0",
          "state": {
            "_dom_classes": [],
            "_model_module": "@jupyter-widgets/output",
            "_model_module_version": "1.0.0",
            "_model_name": "OutputModel",
            "_view_count": null,
            "_view_module": "@jupyter-widgets/output",
            "_view_module_version": "1.0.0",
            "_view_name": "OutputView",
            "layout": "IPY_MODEL_1c63d1548a824d9bb79cf3d39032d272",
            "msg_id": "",
            "outputs": [
              {
                "output_type": "display_data",
                "data": {
                  "text/plain": "<Figure size 800x600 with 2 Axes>",
                  "image/png": "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\n"
                },
                "metadata": {
                  "image/png": {
                    "width": 799,
                    "height": 516
                  }
                }
              }
            ]
          }
        },
        "db39028e98e34ac884ca415c0a8e58bd": {
          "model_module": "@jupyter-widgets/base",
          "model_name": "LayoutModel",
          "model_module_version": "1.2.0",
          "state": {
            "_model_module": "@jupyter-widgets/base",
            "_model_module_version": "1.2.0",
            "_model_name": "LayoutModel",
            "_view_count": null,
            "_view_module": "@jupyter-widgets/base",
            "_view_module_version": "1.2.0",
            "_view_name": "LayoutView",
            "align_content": null,
            "align_items": null,
            "align_self": null,
            "border": null,
            "bottom": null,
            "display": null,
            "flex": null,
            "flex_flow": null,
            "grid_area": null,
            "grid_auto_columns": null,
            "grid_auto_flow": null,
            "grid_auto_rows": null,
            "grid_column": null,
            "grid_gap": null,
            "grid_row": null,
            "grid_template_areas": null,
            "grid_template_columns": null,
            "grid_template_rows": null,
            "height": null,
            "justify_content": null,
            "justify_items": null,
            "left": null,
            "margin": null,
            "max_height": null,
            "max_width": null,
            "min_height": null,
            "min_width": null,
            "object_fit": null,
            "object_position": null,
            "order": null,
            "overflow": null,
            "overflow_x": null,
            "overflow_y": null,
            "padding": null,
            "right": null,
            "top": null,
            "visibility": null,
            "width": null
          }
        },
        "e5987203755040069cd145811ec3f6bd": {
          "model_module": "@jupyter-widgets/base",
          "model_name": "LayoutModel",
          "model_module_version": "1.2.0",
          "state": {
            "_model_module": "@jupyter-widgets/base",
            "_model_module_version": "1.2.0",
            "_model_name": "LayoutModel",
            "_view_count": null,
            "_view_module": "@jupyter-widgets/base",
            "_view_module_version": "1.2.0",
            "_view_name": "LayoutView",
            "align_content": null,
            "align_items": null,
            "align_self": null,
            "border": null,
            "bottom": null,
            "display": null,
            "flex": null,
            "flex_flow": null,
            "grid_area": null,
            "grid_auto_columns": null,
            "grid_auto_flow": null,
            "grid_auto_rows": null,
            "grid_column": null,
            "grid_gap": null,
            "grid_row": null,
            "grid_template_areas": null,
            "grid_template_columns": null,
            "grid_template_rows": null,
            "height": null,
            "justify_content": null,
            "justify_items": null,
            "left": null,
            "margin": null,
            "max_height": null,
            "max_width": null,
            "min_height": null,
            "min_width": null,
            "object_fit": null,
            "object_position": null,
            "order": null,
            "overflow": null,
            "overflow_x": null,
            "overflow_y": null,
            "padding": null,
            "right": null,
            "top": null,
            "visibility": null,
            "width": null
          }
        },
        "cc96e40c6095434b838d488aaed7daea": {
          "model_module": "@jupyter-widgets/controls",
          "model_name": "SliderStyleModel",
          "model_module_version": "1.5.0",
          "state": {
            "_model_module": "@jupyter-widgets/controls",
            "_model_module_version": "1.5.0",
            "_model_name": "SliderStyleModel",
            "_view_count": null,
            "_view_module": "@jupyter-widgets/base",
            "_view_module_version": "1.2.0",
            "_view_name": "StyleView",
            "description_width": "",
            "handle_color": null
          }
        },
        "1c63d1548a824d9bb79cf3d39032d272": {
          "model_module": "@jupyter-widgets/base",
          "model_name": "LayoutModel",
          "model_module_version": "1.2.0",
          "state": {
            "_model_module": "@jupyter-widgets/base",
            "_model_module_version": "1.2.0",
            "_model_name": "LayoutModel",
            "_view_count": null,
            "_view_module": "@jupyter-widgets/base",
            "_view_module_version": "1.2.0",
            "_view_name": "LayoutView",
            "align_content": null,
            "align_items": null,
            "align_self": null,
            "border": null,
            "bottom": null,
            "display": null,
            "flex": null,
            "flex_flow": null,
            "grid_area": null,
            "grid_auto_columns": null,
            "grid_auto_flow": null,
            "grid_auto_rows": null,
            "grid_column": null,
            "grid_gap": null,
            "grid_row": null,
            "grid_template_areas": null,
            "grid_template_columns": null,
            "grid_template_rows": null,
            "height": null,
            "justify_content": null,
            "justify_items": null,
            "left": null,
            "margin": null,
            "max_height": null,
            "max_width": null,
            "min_height": null,
            "min_width": null,
            "object_fit": null,
            "object_position": null,
            "order": null,
            "overflow": null,
            "overflow_x": null,
            "overflow_y": null,
            "padding": null,
            "right": null,
            "top": null,
            "visibility": null,
            "width": null
          }
        }
      }
    }
  },
  "nbformat": 4,
  "nbformat_minor": 0
}