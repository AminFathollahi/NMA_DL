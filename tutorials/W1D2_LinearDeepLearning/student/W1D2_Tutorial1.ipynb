{
  "cells": [
    {
      "cell_type": "markdown",
      "metadata": {
        "id": "view-in-github",
        "colab_type": "text"
      },
      "source": [
        "<a href=\"https://colab.research.google.com/github/AminFathollahi/NMA_DL/blob/main/tutorials/W1D2_LinearDeepLearning/student/W1D2_Tutorial1.ipynb\" target=\"_parent\"><img src=\"https://colab.research.google.com/assets/colab-badge.svg\" alt=\"Open In Colab\"/></a>"
      ]
    },
    {
      "cell_type": "markdown",
      "metadata": {
        "execution": {},
        "id": "1N-fNxIFluQz"
      },
      "source": [
        "# Tutorial 1: Gradient Descent and AutoGrad\n",
        "\n",
        "**Week 1, Day 2: Linear Deep Learning**\n",
        "\n",
        "**By Neuromatch Academy**\n",
        "\n",
        "__Content creators:__ Saeed Salehi, Vladimir Haltakov, Andrew Saxe\n",
        "\n",
        "__Content reviewers:__ Polina Turishcheva, Antoine De Comite, Kelson Shilling-Scrivo\n",
        "\n",
        "__Content editors:__ Anoop Kulkarni, Spiros Chavlis\n",
        "\n",
        "__Production editors:__ Khalid Almubarak, Gagana B, Spiros Chavlis"
      ]
    },
    {
      "cell_type": "markdown",
      "metadata": {
        "execution": {},
        "id": "KgUiSe03luQ3"
      },
      "source": [
        "---\n",
        "# Tutorial Objectives\n",
        "\n",
        "Day 2 Tutorial 1 will continue on buiding PyTorch skillset and motivate its core functionality: Autograd. In this notebook, we will cover the key concepts and ideas of:\n",
        "\n",
        "* Gradient descent\n",
        "* PyTorch Autograd\n",
        "* PyTorch `nn` module"
      ]
    },
    {
      "cell_type": "code",
      "execution_count": null,
      "metadata": {
        "cellView": "form",
        "execution": {},
        "id": "sm08yDyfluQ5"
      },
      "outputs": [],
      "source": [
        "# @title Tutorial slides\n",
        "from IPython.display import IFrame\n",
        "link_id = \"3qevp\"\n",
        "print(f\"If you want to download the slides: https://osf.io/download/{link_id}/\")\n",
        "IFrame(src=f\"https://mfr.ca-1.osf.io/render?url=https://osf.io/{link_id}/?direct%26mode=render%26action=download%26mode=render\", width=854, height=480)"
      ]
    },
    {
      "cell_type": "markdown",
      "metadata": {
        "execution": {},
        "id": "OyEZUtnLluQ6"
      },
      "source": [
        "---\n",
        "# Setup\n",
        "\n",
        "This a GPU-Free tutorial!\n"
      ]
    },
    {
      "cell_type": "code",
      "execution_count": 9,
      "metadata": {
        "execution": {},
        "colab": {
          "base_uri": "https://localhost:8080/"
        },
        "id": "LgBmQ3mkluQ7",
        "outputId": "6cb616fc-facb-4385-de12-d1263cff5a6a"
      },
      "outputs": [
        {
          "output_type": "stream",
          "name": "stdout",
          "text": [
            "  Preparing metadata (setup.py) ... \u001b[?25l\u001b[?25hdone\n",
            "  Preparing metadata (setup.py) ... \u001b[?25l\u001b[?25hdone\n",
            "\u001b[2K   \u001b[90m━━━━━━━━━━━━━━━━━━━━━━━━━━━━━━━━━━━━━━━━\u001b[0m \u001b[32m1.6/1.6 MB\u001b[0m \u001b[31m31.8 MB/s\u001b[0m eta \u001b[36m0:00:00\u001b[0m\n",
            "\u001b[?25h  Building wheel for vibecheck (setup.py) ... \u001b[?25l\u001b[?25hdone\n",
            "  Building wheel for datatops (setup.py) ... \u001b[?25l\u001b[?25hdone\n"
          ]
        }
      ],
      "source": [
        "# @title Install and import feedback gadget\n",
        "\n",
        "!pip3 install vibecheck datatops --quiet\n",
        "\n",
        "from vibecheck import DatatopsContentReviewContainer\n",
        "def content_review(notebook_section: str):\n",
        "    return DatatopsContentReviewContainer(\n",
        "        \"\",  # No text prompt\n",
        "        notebook_section,\n",
        "        {\n",
        "            \"url\": \"https://pmyvdlilci.execute-api.us-east-1.amazonaws.com/klab\",\n",
        "            \"name\": \"neuromatch_dl\",\n",
        "            \"user_key\": \"f379rz8y\",\n",
        "        },\n",
        "    ).render()\n",
        "\n",
        "\n",
        "feedback_prefix = \"W1D2_T1\""
      ]
    },
    {
      "cell_type": "code",
      "execution_count": 10,
      "metadata": {
        "execution": {},
        "id": "tAsmvQoiluQ8"
      },
      "outputs": [],
      "source": [
        "# Imports\n",
        "import torch\n",
        "import numpy as np\n",
        "from torch import nn\n",
        "from math import pi\n",
        "import matplotlib.pyplot as plt"
      ]
    },
    {
      "cell_type": "code",
      "execution_count": 11,
      "metadata": {
        "cellView": "form",
        "execution": {},
        "id": "nZLLIlaaluQ-"
      },
      "outputs": [],
      "source": [
        "# @title Figure settings\n",
        "import logging\n",
        "logging.getLogger('matplotlib.font_manager').disabled = True\n",
        "\n",
        "import ipywidgets as widgets  # Interactive display\n",
        "%config InlineBackend.figure_format = 'retina'\n",
        "plt.style.use(\"https://raw.githubusercontent.com/NeuromatchAcademy/content-creation/main/nma.mplstyle\")"
      ]
    },
    {
      "cell_type": "code",
      "execution_count": 12,
      "metadata": {
        "cellView": "form",
        "execution": {},
        "id": "NCKh6WfmluQ-"
      },
      "outputs": [],
      "source": [
        "# @title Plotting functions\n",
        "\n",
        "from mpl_toolkits.axes_grid1 import make_axes_locatable\n",
        "\n",
        "def ex3_plot(model, x, y, ep, lss):\n",
        "  \"\"\"\n",
        "  Plot training loss\n",
        "\n",
        "  Args:\n",
        "    model: nn.module\n",
        "      Model implementing regression\n",
        "    x: np.ndarray\n",
        "      Training Data\n",
        "    y: np.ndarray\n",
        "      Targets\n",
        "    ep: int\n",
        "      Number of epochs\n",
        "    lss: function\n",
        "      Loss function\n",
        "\n",
        "  Returns:\n",
        "    Nothing\n",
        "  \"\"\"\n",
        "  f, (ax1, ax2) = plt.subplots(1, 2, figsize=(12, 4))\n",
        "  ax1.set_title(\"Regression\")\n",
        "  ax1.plot(x, model(x).detach().numpy(), color='r', label='prediction')\n",
        "  ax1.scatter(x, y, c='c', label='targets')\n",
        "  ax1.set_xlabel('x')\n",
        "  ax1.set_ylabel('y')\n",
        "  ax1.legend()\n",
        "\n",
        "  ax2.set_title(\"Training loss\")\n",
        "  ax2.plot(np.linspace(1, epochs, epochs), losses, color='y')\n",
        "  ax2.set_xlabel(\"Epoch\")\n",
        "  ax2.set_ylabel(\"MSE\")\n",
        "\n",
        "  plt.show()\n",
        "\n",
        "\n",
        "def ex1_plot(fun_z, fun_dz):\n",
        "  \"\"\"\n",
        "  Plots the function and gradient vectors\n",
        "\n",
        "  Args:\n",
        "    fun_z: f.__name__\n",
        "      Function implementing sine function\n",
        "    fun_dz: f.__name__\n",
        "      Function implementing sine function as gradient vector\n",
        "\n",
        "  Returns:\n",
        "    Nothing\n",
        "  \"\"\"\n",
        "  x, y = np.arange(-3, 3.01, 0.02), np.arange(-3, 3.01, 0.02)\n",
        "  xx, yy = np.meshgrid(x, y, sparse=True)\n",
        "  zz = fun_z(xx, yy)\n",
        "  xg, yg = np.arange(-2.5, 2.6, 0.5), np.arange(-2.5, 2.6, 0.5)\n",
        "  xxg, yyg = np.meshgrid(xg, yg, sparse=True)\n",
        "  zxg, zyg = fun_dz(xxg, yyg)\n",
        "\n",
        "  plt.figure(figsize=(8, 7))\n",
        "  plt.title(\"Gradient vectors point towards steepest ascent\")\n",
        "  contplt = plt.contourf(x, y, zz, levels=20)\n",
        "  plt.quiver(xxg, yyg, zxg, zyg, scale=50, color='r', )\n",
        "  plt.xlabel('$x$')\n",
        "  plt.ylabel('$y$')\n",
        "  ax = plt.gca()\n",
        "  divider = make_axes_locatable(ax)\n",
        "  cax = divider.append_axes(\"right\", size=\"5%\", pad=0.05)\n",
        "  cbar = plt.colorbar(contplt, cax=cax)\n",
        "  cbar.set_label('$z = h(x, y)$')\n",
        "\n",
        "  plt.show()"
      ]
    },
    {
      "cell_type": "code",
      "execution_count": 13,
      "metadata": {
        "cellView": "form",
        "execution": {},
        "id": "1OrmO4w3luQ_"
      },
      "outputs": [],
      "source": [
        "# @title Set random seed\n",
        "\n",
        "# @markdown Executing `set_seed(seed=seed)` you are setting the seed\n",
        "\n",
        "# For DL its critical to set the random seed so that students can have a\n",
        "# baseline to compare their results to expected results.\n",
        "# Read more here: https://pytorch.org/docs/stable/notes/randomness.html\n",
        "\n",
        "# Call `set_seed` function in the exercises to ensure reproducibility.\n",
        "import random\n",
        "import torch\n",
        "\n",
        "def set_seed(seed=None, seed_torch=True):\n",
        "  \"\"\"\n",
        "  Function that controls randomness. NumPy and random modules must be imported.\n",
        "\n",
        "  Args:\n",
        "    seed : Integer\n",
        "      A non-negative integer that defines the random state. Default is `None`.\n",
        "    seed_torch : Boolean\n",
        "      If `True` sets the random seed for pytorch tensors, so pytorch module\n",
        "      must be imported. Default is `True`.\n",
        "\n",
        "  Returns:\n",
        "    Nothing.\n",
        "  \"\"\"\n",
        "  if seed is None:\n",
        "    seed = np.random.choice(2 ** 32)\n",
        "  random.seed(seed)\n",
        "  np.random.seed(seed)\n",
        "  if seed_torch:\n",
        "    torch.manual_seed(seed)\n",
        "    torch.cuda.manual_seed_all(seed)\n",
        "    torch.cuda.manual_seed(seed)\n",
        "    torch.backends.cudnn.benchmark = False\n",
        "    torch.backends.cudnn.deterministic = True\n",
        "\n",
        "  print(f'Random seed {seed} has been set.')\n",
        "\n",
        "\n",
        "# In case that `DataLoader` is used\n",
        "def seed_worker(worker_id):\n",
        "  \"\"\"\n",
        "  DataLoader will reseed workers following randomness in\n",
        "  multi-process data loading algorithm.\n",
        "\n",
        "  Args:\n",
        "    worker_id: integer\n",
        "      ID of subprocess to seed. 0 means that\n",
        "      the data will be loaded in the main process\n",
        "      Refer: https://pytorch.org/docs/stable/data.html#data-loading-randomness for more details\n",
        "\n",
        "  Returns:\n",
        "    Nothing\n",
        "  \"\"\"\n",
        "  worker_seed = torch.initial_seed() % 2**32\n",
        "  np.random.seed(worker_seed)\n",
        "  random.seed(worker_seed)"
      ]
    },
    {
      "cell_type": "code",
      "execution_count": 14,
      "metadata": {
        "execution": {},
        "id": "1Ny64KAJluRB"
      },
      "outputs": [],
      "source": [
        "# @title Set device (GPU or CPU). Execute `set_device()`\n",
        "# especially if torch modules used.\n",
        "\n",
        "# inform the user if the notebook uses GPU or CPU.\n",
        "\n",
        "def set_device():\n",
        "  \"\"\"\n",
        "  Set the device. CUDA if available, CPU otherwise\n",
        "\n",
        "  Args:\n",
        "    None\n",
        "\n",
        "  Returns:\n",
        "    Nothing\n",
        "  \"\"\"\n",
        "  device = \"cuda\" if torch.cuda.is_available() else \"cpu\"\n",
        "  if device != \"cuda\":\n",
        "    print(\"GPU is not enabled in this notebook. \\n\"\n",
        "          \"If you want to enable it, in the menu under `Runtime` -> \\n\"\n",
        "          \"`Hardware accelerator.` and select `GPU` from the dropdown menu\")\n",
        "  else:\n",
        "    print(\"GPU is enabled in this notebook. \\n\"\n",
        "          \"If you want to disable it, in the menu under `Runtime` -> \\n\"\n",
        "          \"`Hardware accelerator.` and select `None` from the dropdown menu\")\n",
        "\n",
        "  return device"
      ]
    },
    {
      "cell_type": "code",
      "execution_count": 15,
      "metadata": {
        "execution": {},
        "colab": {
          "base_uri": "https://localhost:8080/"
        },
        "id": "fg9c20zeluRB",
        "outputId": "07924cd5-96b8-4c93-eb04-eee123003106"
      },
      "outputs": [
        {
          "output_type": "stream",
          "name": "stdout",
          "text": [
            "Random seed 2021 has been set.\n",
            "GPU is enabled in this notebook. \n",
            "If you want to disable it, in the menu under `Runtime` -> \n",
            "`Hardware accelerator.` and select `None` from the dropdown menu\n"
          ]
        }
      ],
      "source": [
        "SEED = 2021\n",
        "set_seed(seed=SEED)\n",
        "DEVICE = set_device()"
      ]
    },
    {
      "cell_type": "markdown",
      "metadata": {
        "execution": {},
        "id": "_APFZhmAluRC"
      },
      "source": [
        "---\n",
        "# Section 0: Introduction"
      ]
    },
    {
      "cell_type": "markdown",
      "metadata": {
        "execution": {},
        "id": "-ELtDILiluRD"
      },
      "source": [
        "Today, we will go through 3 tutorials.\n",
        "\n",
        "- Starting with Gradient Descent, the workhorse of deep learning algorithms.\n",
        "- The second tutorial will help us build a better intuition about neural networks and basic hyper-parameters.\n",
        "- Finally, in tutorial 3, we learn about the learning dynamics, what the (a good) deep network is learning, and why sometimes they may perform poorly."
      ]
    },
    {
      "cell_type": "code",
      "execution_count": 16,
      "metadata": {
        "cellView": "form",
        "execution": {},
        "colab": {
          "base_uri": "https://localhost:8080/",
          "height": 580,
          "referenced_widgets": [
            "4600bd61477e4b3492fc2a75c8d39382",
            "af20d21ab3244b93a3f99ceb3c38b138",
            "a256a65def204b57bd6f771d1ea83753",
            "3451da7c1d0842fa966ff909a25c528d",
            "5783d98bbbc04e5fadace2001a04ba4e",
            "750c7abd028743b9badff64bc747ae91"
          ]
        },
        "id": "l4xgHZfMluRD",
        "outputId": "4c486d23-1013-4115-f68b-34c9639889a0"
      },
      "outputs": [
        {
          "output_type": "display_data",
          "data": {
            "text/plain": [
              "Tab(children=(Output(), Output()), _titles={'0': 'Youtube', '1': 'Bilibili'})"
            ],
            "application/vnd.jupyter.widget-view+json": {
              "version_major": 2,
              "version_minor": 0,
              "model_id": "4600bd61477e4b3492fc2a75c8d39382"
            }
          },
          "metadata": {}
        }
      ],
      "source": [
        "# @title Video 0: Introduction\n",
        "from ipywidgets import widgets\n",
        "from IPython.display import YouTubeVideo\n",
        "from IPython.display import IFrame\n",
        "from IPython.display import display\n",
        "\n",
        "\n",
        "class PlayVideo(IFrame):\n",
        "  def __init__(self, id, source, page=1, width=400, height=300, **kwargs):\n",
        "    self.id = id\n",
        "    if source == 'Bilibili':\n",
        "      src = f'https://player.bilibili.com/player.html?bvid={id}&page={page}'\n",
        "    elif source == 'Osf':\n",
        "      src = f'https://mfr.ca-1.osf.io/render?url=https://osf.io/download/{id}/?direct%26mode=render'\n",
        "    super(PlayVideo, self).__init__(src, width, height, **kwargs)\n",
        "\n",
        "\n",
        "def display_videos(video_ids, W=400, H=300, fs=1):\n",
        "  tab_contents = []\n",
        "  for i, video_id in enumerate(video_ids):\n",
        "    out = widgets.Output()\n",
        "    with out:\n",
        "      if video_ids[i][0] == 'Youtube':\n",
        "        video = YouTubeVideo(id=video_ids[i][1], width=W,\n",
        "                             height=H, fs=fs, rel=0)\n",
        "        print(f'Video available at https://youtube.com/watch?v={video.id}')\n",
        "      else:\n",
        "        video = PlayVideo(id=video_ids[i][1], source=video_ids[i][0], width=W,\n",
        "                          height=H, fs=fs, autoplay=False)\n",
        "        if video_ids[i][0] == 'Bilibili':\n",
        "          print(f'Video available at https://www.bilibili.com/video/{video.id}')\n",
        "        elif video_ids[i][0] == 'Osf':\n",
        "          print(f'Video available at https://osf.io/{video.id}')\n",
        "      display(video)\n",
        "    tab_contents.append(out)\n",
        "  return tab_contents\n",
        "\n",
        "\n",
        "video_ids = [('Youtube', 'i7djAv2jnzY'), ('Bilibili', 'BV1Qf4y1578t')]\n",
        "tab_contents = display_videos(video_ids, W=854, H=480)\n",
        "tabs = widgets.Tab()\n",
        "tabs.children = tab_contents\n",
        "for i in range(len(tab_contents)):\n",
        "  tabs.set_title(i, video_ids[i][0])\n",
        "display(tabs)"
      ]
    },
    {
      "cell_type": "code",
      "execution_count": null,
      "metadata": {
        "cellView": "form",
        "execution": {},
        "id": "W8e85tCaluRD"
      },
      "outputs": [],
      "source": [
        "# @title Submit your feedback\n",
        "content_review(f\"{feedback_prefix}_Introduction_Video\")"
      ]
    },
    {
      "cell_type": "markdown",
      "metadata": {
        "execution": {},
        "id": "ZTbWn_k3luRE"
      },
      "source": [
        "---\n",
        "# Section 1: Gradient Descent Algorithm\n",
        "\n",
        "*Time estimate: ~30-45 mins*"
      ]
    },
    {
      "cell_type": "markdown",
      "metadata": {
        "execution": {},
        "id": "Vg2wSEZFluRF"
      },
      "source": [
        "Since the goal of most learning algorithms is **minimizing the risk (also known as the cost or loss) function**, optimization is often the core of most machine learning techniques! The gradient descent algorithm, along with its variations such as stochastic gradient descent, is one of the most powerful and popular optimization methods used for deep learning. Today we will introduce the basics, but you will learn much more about Optimization in the coming days (Week 1, Day 4)."
      ]
    },
    {
      "cell_type": "markdown",
      "metadata": {
        "execution": {},
        "id": "sbLHohqCluRF"
      },
      "source": [
        "## Section 1.1: Gradients & Steepest Ascent"
      ]
    },
    {
      "cell_type": "code",
      "execution_count": 17,
      "metadata": {
        "cellView": "form",
        "execution": {},
        "colab": {
          "base_uri": "https://localhost:8080/",
          "height": 580,
          "referenced_widgets": [
            "522a6ec93ce44d8e9d011250bbc03eb7",
            "428b2638ad3542358ca78b4d8a55555b",
            "ca9a1e31962b48448bd2047ccaffa960",
            "8bbd52dbb2314932ac8b8a3dae731af1",
            "1903156f042e42ddb572169f9aa012ff",
            "e9ad25ab9bb84dbb85e6adfbf83deeb7"
          ]
        },
        "id": "M-c4D14IluRF",
        "outputId": "9e7f9539-bb72-490d-aeb2-ad524eff8d67"
      },
      "outputs": [
        {
          "output_type": "display_data",
          "data": {
            "text/plain": [
              "Tab(children=(Output(), Output()), _titles={'0': 'Youtube', '1': 'Bilibili'})"
            ],
            "application/vnd.jupyter.widget-view+json": {
              "version_major": 2,
              "version_minor": 0,
              "model_id": "522a6ec93ce44d8e9d011250bbc03eb7"
            }
          },
          "metadata": {}
        }
      ],
      "source": [
        "# @title Video 1: Gradient Descent\n",
        "from ipywidgets import widgets\n",
        "from IPython.display import YouTubeVideo\n",
        "from IPython.display import IFrame\n",
        "from IPython.display import display\n",
        "\n",
        "\n",
        "class PlayVideo(IFrame):\n",
        "  def __init__(self, id, source, page=1, width=400, height=300, **kwargs):\n",
        "    self.id = id\n",
        "    if source == 'Bilibili':\n",
        "      src = f'https://player.bilibili.com/player.html?bvid={id}&page={page}'\n",
        "    elif source == 'Osf':\n",
        "      src = f'https://mfr.ca-1.osf.io/render?url=https://osf.io/download/{id}/?direct%26mode=render'\n",
        "    super(PlayVideo, self).__init__(src, width, height, **kwargs)\n",
        "\n",
        "\n",
        "def display_videos(video_ids, W=400, H=300, fs=1):\n",
        "  tab_contents = []\n",
        "  for i, video_id in enumerate(video_ids):\n",
        "    out = widgets.Output()\n",
        "    with out:\n",
        "      if video_ids[i][0] == 'Youtube':\n",
        "        video = YouTubeVideo(id=video_ids[i][1], width=W,\n",
        "                             height=H, fs=fs, rel=0)\n",
        "        print(f'Video available at https://youtube.com/watch?v={video.id}')\n",
        "      else:\n",
        "        video = PlayVideo(id=video_ids[i][1], source=video_ids[i][0], width=W,\n",
        "                          height=H, fs=fs, autoplay=False)\n",
        "        if video_ids[i][0] == 'Bilibili':\n",
        "          print(f'Video available at https://www.bilibili.com/video/{video.id}')\n",
        "        elif video_ids[i][0] == 'Osf':\n",
        "          print(f'Video available at https://osf.io/{video.id}')\n",
        "      display(video)\n",
        "    tab_contents.append(out)\n",
        "  return tab_contents\n",
        "\n",
        "\n",
        "video_ids = [('Youtube', 'UwgA_SgG0TM'), ('Bilibili', 'BV1Pq4y1p7em')]\n",
        "tab_contents = display_videos(video_ids, W=854, H=480)\n",
        "tabs = widgets.Tab()\n",
        "tabs.children = tab_contents\n",
        "for i in range(len(tab_contents)):\n",
        "  tabs.set_title(i, video_ids[i][0])\n",
        "display(tabs)"
      ]
    },
    {
      "cell_type": "code",
      "execution_count": null,
      "metadata": {
        "cellView": "form",
        "execution": {},
        "id": "lth71IJlluRG"
      },
      "outputs": [],
      "source": [
        "# @title Submit your feedback\n",
        "content_review(f\"{feedback_prefix}_Gradient_Descent_Video\")"
      ]
    },
    {
      "cell_type": "markdown",
      "metadata": {
        "execution": {},
        "id": "xPTFBbqcluRG"
      },
      "source": [
        "Before introducing the gradient descent algorithm, let's review a very important property of gradients. The gradient of a function always points in the direction of the steepest ascent. The following exercise will help clarify this."
      ]
    },
    {
      "cell_type": "markdown",
      "metadata": {
        "execution": {},
        "id": "jdPjbwSiluRG"
      },
      "source": [
        "### Analytical Exercise 1.1: Gradient vector (Optional)\n",
        "\n",
        "Given the following function:\n",
        "\n",
        "\\begin{equation}\n",
        "z = h(x, y) = \\sin(x^2 + y^2)\n",
        "\\end{equation}\n",
        "\n",
        "find the gradient vector:\n",
        "\n",
        "\\begin{equation}\n",
        "  \\begin{bmatrix}\n",
        "  \\dfrac{\\partial z}{\\partial x} \\\\ \\\\ \\dfrac{\\partial z}{\\partial y}\n",
        "  \\end{bmatrix}\n",
        "\\end{equation}\n",
        "\n",
        "\n",
        "*Hint: Use the chain rule!*\n",
        "\n",
        "**Chain rule**: For a composite function $F(x) = g(h(x)) \\equiv (g \\circ h)(x)$:\n",
        "\n",
        "\\begin{equation}\n",
        "F'(x) = g'(h(x)) \\cdot h'(x)\n",
        "\\end{equation}\n",
        "\n",
        "or differently denoted:\n",
        "\n",
        "\\begin{equation}\n",
        "\\frac{dF}{dx} = \\frac{dg}{dh} ~ \\frac{dh}{dx}\n",
        "\\end{equation}\n",
        "\n",
        "<details>\n",
        "<summary> <font color='green'>Click here for the solution </font></summary>\n",
        "\n",
        "We can rewrite the function as a composite function:\n",
        "\n",
        "\\begin{equation}\n",
        "z = f\\left( g(x,y) \\right), ~~ f(u) = \\sin(u), ~~ g(x, y) = x^2 + y^2\n",
        "\\end{equation}\n",
        "\n",
        "Using the [chain rule](https://en.wikipedia.org/wiki/Chain_rule):\n",
        "\n",
        "\\begin{align}\n",
        "\\dfrac{\\partial z}{\\partial x} &= \\dfrac{\\partial f}{\\partial g} \\dfrac{\\partial g}{\\partial x} = \\cos(g(x,y)) ~ (2x) = \\cos(x^2 + y^2) \\cdot 2x \\\\ \\\\\n",
        "\\dfrac{\\partial z}{\\partial y} &= \\dfrac{\\partial f}{\\partial g} \\dfrac{\\partial g}{\\partial y} = \\cos(g(x,y)) ~ (2y) = \\cos(x^2 + y^2) \\cdot 2y\n",
        "\\end{align}"
      ]
    },
    {
      "cell_type": "code",
      "execution_count": null,
      "metadata": {
        "cellView": "form",
        "execution": {},
        "id": "rBRUqTdJluRG"
      },
      "outputs": [],
      "source": [
        "# @title Submit your feedback\n",
        "content_review(f\"{feedback_prefix}_Gradient_Vector_Analytical_Exercise\")"
      ]
    },
    {
      "cell_type": "markdown",
      "metadata": {
        "execution": {},
        "id": "VMEbkfQ0luRH"
      },
      "source": [
        "### Coding Exercise 1.1: Gradient Vector\n",
        "\n",
        "Implement (complete) the function which returns the gradient vector for $z=\\sin(x^2 + y^2)$."
      ]
    },
    {
      "cell_type": "code",
      "execution_count": 18,
      "metadata": {
        "execution": {},
        "id": "CgeoFkPnluRH"
      },
      "outputs": [],
      "source": [
        "def fun_z(x, y):\n",
        "  \"\"\"\n",
        "  Implements function sin(x^2 + y^2)\n",
        "\n",
        "  Args:\n",
        "    x: (float, np.ndarray)\n",
        "      Variable x\n",
        "    y: (float, np.ndarray)\n",
        "      Variable y\n",
        "\n",
        "  Returns:\n",
        "    z: (float, np.ndarray)\n",
        "      sin(x^2 + y^2)\n",
        "  \"\"\"\n",
        "  z = np.sin(x**2 + y**2)\n",
        "  return z\n",
        "\n",
        "\n",
        "def fun_dz(x, y):\n",
        "  \"\"\"\n",
        "  Implements function sin(x^2 + y^2)\n",
        "\n",
        "  Args:\n",
        "    x: (float, np.ndarray)\n",
        "      Variable x\n",
        "    y: (float, np.ndarray)\n",
        "      Variable y\n",
        "\n",
        "  Returns:\n",
        "    Tuple of gradient vector for sin(x^2 + y^2)\n",
        "  \"\"\"\n",
        "  #################################################\n",
        "  ## Implement the function which returns gradient vector\n",
        "  ## Complete the partial derivatives dz_dx and dz_dy\n",
        "  # Complete the function and remove or comment the line below\n",
        "  # raise NotImplementedError(\"Gradient function `fun_dz`\")\n",
        "  #################################################\n",
        "  dz_dx = 2*x * np.cos(x**2 + y**2)\n",
        "  dz_dy = 2*y * np.cos(x**2 + y**2)\n",
        "  return (dz_dx, dz_dy)\n",
        "\n",
        "\n",
        "## Uncomment to run\n",
        "# ex1_plot(fun_z, fun_dz)"
      ]
    },
    {
      "cell_type": "markdown",
      "metadata": {
        "execution": {},
        "id": "WwbwvMH2luRI"
      },
      "source": [
        "[*Click for solution*](https://github.com/NeuromatchAcademy/course-content-dl/tree/main/tutorials/W1D2_LinearDeepLearning/solutions/W1D2_Tutorial1_Solution_25404147.py)\n",
        "\n"
      ]
    },
    {
      "cell_type": "markdown",
      "metadata": {
        "execution": {},
        "id": "TbjmzhqzluRI"
      },
      "source": [
        "We can see from the plot that for any given $x_0$ and $y_0$, the gradient vector $\\left[ \\dfrac{\\partial z}{\\partial x}, \\dfrac{\\partial z}{\\partial y}\\right]^{\\top}_{(x_0, y_0)}$ points in the direction of $x$ and $y$ for which $z$ increases the most. It is important to note that gradient vectors only see their local values, not the whole landscape! Also, length (size) of each vector, which indicates the steepness of the function, can be very small near local plateaus (i.e. minima or maxima).\n",
        "\n",
        "Thus, we can simply use the aforementioned formula to find the local minima.\n",
        "\n",
        "In 1847, Augustin-Louis Cauchy used **negative of gradients**  to develop the Gradient Descent algorithm as an **iterative** method to **minimize** a **continuous** and (ideally) **differentiable function** of **many variables**."
      ]
    },
    {
      "cell_type": "code",
      "execution_count": null,
      "metadata": {
        "cellView": "form",
        "execution": {},
        "id": "I-ZZg3A4luRI"
      },
      "outputs": [],
      "source": [
        "# @title Submit your feedback\n",
        "content_review(f\"{feedback_prefix}_Gradient_Vector_Exercise\")"
      ]
    },
    {
      "cell_type": "code",
      "execution_count": 19,
      "metadata": {
        "cellView": "form",
        "execution": {},
        "colab": {
          "base_uri": "https://localhost:8080/",
          "height": 580,
          "referenced_widgets": [
            "30374da15b054f38868e62de0bcf0629",
            "56cf5f193eb841ee83c4cbd232d00ba2",
            "e0be5d1293be45dc970c098612379124",
            "5052267d929d4d4ea3f1684ac5471361",
            "5638f47861b347efba3f0eadf07718cc",
            "608c3f37b7134811b0bfc30b493e3428"
          ]
        },
        "id": "Qm_cAlwGluRI",
        "outputId": "280812ec-f811-49b0-b4a8-7f53ba705cc8"
      },
      "outputs": [
        {
          "output_type": "display_data",
          "data": {
            "text/plain": [
              "Tab(children=(Output(), Output()), _titles={'0': 'Youtube', '1': 'Bilibili'})"
            ],
            "application/vnd.jupyter.widget-view+json": {
              "version_major": 2,
              "version_minor": 0,
              "model_id": "30374da15b054f38868e62de0bcf0629"
            }
          },
          "metadata": {}
        }
      ],
      "source": [
        "# @title Video 2: Gradient Descent - Discussion\n",
        "from ipywidgets import widgets\n",
        "from IPython.display import YouTubeVideo\n",
        "from IPython.display import IFrame\n",
        "from IPython.display import display\n",
        "\n",
        "\n",
        "class PlayVideo(IFrame):\n",
        "  def __init__(self, id, source, page=1, width=400, height=300, **kwargs):\n",
        "    self.id = id\n",
        "    if source == 'Bilibili':\n",
        "      src = f'https://player.bilibili.com/player.html?bvid={id}&page={page}'\n",
        "    elif source == 'Osf':\n",
        "      src = f'https://mfr.ca-1.osf.io/render?url=https://osf.io/download/{id}/?direct%26mode=render'\n",
        "    super(PlayVideo, self).__init__(src, width, height, **kwargs)\n",
        "\n",
        "\n",
        "def display_videos(video_ids, W=400, H=300, fs=1):\n",
        "  tab_contents = []\n",
        "  for i, video_id in enumerate(video_ids):\n",
        "    out = widgets.Output()\n",
        "    with out:\n",
        "      if video_ids[i][0] == 'Youtube':\n",
        "        video = YouTubeVideo(id=video_ids[i][1], width=W,\n",
        "                             height=H, fs=fs, rel=0)\n",
        "        print(f'Video available at https://youtube.com/watch?v={video.id}')\n",
        "      else:\n",
        "        video = PlayVideo(id=video_ids[i][1], source=video_ids[i][0], width=W,\n",
        "                          height=H, fs=fs, autoplay=False)\n",
        "        if video_ids[i][0] == 'Bilibili':\n",
        "          print(f'Video available at https://www.bilibili.com/video/{video.id}')\n",
        "        elif video_ids[i][0] == 'Osf':\n",
        "          print(f'Video available at https://osf.io/{video.id}')\n",
        "      display(video)\n",
        "    tab_contents.append(out)\n",
        "  return tab_contents\n",
        "\n",
        "\n",
        "video_ids = [('Youtube', '8s22ffAfGwI'), ('Bilibili', 'BV1Rf4y157bw')]\n",
        "tab_contents = display_videos(video_ids, W=854, H=480)\n",
        "tabs = widgets.Tab()\n",
        "tabs.children = tab_contents\n",
        "for i in range(len(tab_contents)):\n",
        "  tabs.set_title(i, video_ids[i][0])\n",
        "display(tabs)"
      ]
    },
    {
      "cell_type": "code",
      "execution_count": null,
      "metadata": {
        "cellView": "form",
        "execution": {},
        "id": "-yrbt8BsluRJ"
      },
      "outputs": [],
      "source": [
        "# @title Submit your feedback\n",
        "content_review(f\"{feedback_prefix}_Gradient_Descent_Discussion_Video\")"
      ]
    },
    {
      "cell_type": "markdown",
      "metadata": {
        "execution": {},
        "id": "QlnZvdN6luRJ"
      },
      "source": [
        "## Section 1.2: Gradient Descent Algorithm"
      ]
    },
    {
      "cell_type": "markdown",
      "metadata": {
        "execution": {},
        "id": "w_Kauvm2luRK"
      },
      "source": [
        "Let $f(\\mathbf{w}): \\mathbb{R}^d \\rightarrow \\mathbb{R}$ be a differentiable function. Gradient Descent is an iterative algorithm for minimizing the function $f$, starting with an initial value for variables $\\mathbf{w}$, taking steps of size $\\eta$ (learning rate) in the direction of the negative gradient at the current point to update the variables $\\mathbf{w}$.\n",
        "\n",
        "\\begin{equation}\n",
        "\\mathbf{w}^{(t+1)} = \\mathbf{w}^{(t)} - \\eta \\nabla f \\left( \\mathbf{w}^{(t)} \\right)\n",
        "\\end{equation}\n",
        "\n",
        "where $\\eta > 0$ and $\\nabla f (\\mathbf{w})= \\left( \\frac{\\partial f(\\mathbf{w})}{\\partial w_1}, ..., \\frac{\\partial f(\\mathbf{w})}{\\partial w_d} \\right)$. Since negative gradients always point locally in the direction of steepest descent, the algorithm makes small steps at each point **towards** the minimum.\n",
        "\n",
        "<br/>\n",
        "\n",
        "**Vanilla Algorithm**\n",
        "\n",
        "---\n",
        "> **Inputs:** initial guess $\\mathbf{w}^{(0)}$, step size $\\eta > 0$, number of steps $T$.\n",
        "\n",
        "> **For** $t = 0, 1, 2, \\dots , T-1$ **do** \\\n",
        "$\\qquad$ $\\mathbf{w}^{(t+1)} = \\mathbf{w}^{(t)} - \\eta \\nabla f \\left( \\mathbf{w}^{(t)} \\right)$\\\n",
        "**end**\n",
        "\n",
        "> **Return:** $\\mathbf{w}^{(t+1)}$\n",
        "\n",
        "---\n",
        "\n",
        "<br/>\n",
        "\n",
        "Hence, all we need is to calculate the gradient of the loss function with respect to the learnable parameters (i.e., weights):\n",
        "\n",
        "\\begin{equation}\n",
        "\\dfrac{\\partial Loss}{\\partial \\mathbf{w}} = \\left[ \\dfrac{\\partial Loss}{\\partial w_1}, \\dfrac{\\partial Loss}{\\partial w_2} , \\dots, \\dfrac{\\partial Loss}{\\partial w_d} \\right]^{\\top}\n",
        "\\end{equation}"
      ]
    },
    {
      "cell_type": "markdown",
      "metadata": {
        "execution": {},
        "id": "1ohzlqTXluRK"
      },
      "source": [
        "### Analytical Exercise 1.2: Gradients\n",
        "\n",
        "Given $f(x, y, z) = \\tanh \\left( \\ln \\left[1 + z \\frac{2x}{sin(y)} \\right] \\right)$, how easy is it to derive $\\dfrac{\\partial f}{\\partial x}$, $\\dfrac{\\partial f}{\\partial y}$ and $\\dfrac{\\partial f}{\\partial z}$?\n",
        "\n",
        "**Hint:** You don't have to actually calculate them!"
      ]
    },
    {
      "cell_type": "code",
      "execution_count": null,
      "metadata": {
        "cellView": "form",
        "execution": {},
        "id": "CLJ1PotoluRL"
      },
      "outputs": [],
      "source": [
        "# @title Submit your feedback\n",
        "content_review(f\"{feedback_prefix}_Gradients_Analytical_Exercise\")"
      ]
    },
    {
      "cell_type": "markdown",
      "metadata": {
        "execution": {},
        "id": "BfR63yqAluRL"
      },
      "source": [
        "## Section 1.3: Computational Graphs and Backprop\n"
      ]
    },
    {
      "cell_type": "code",
      "execution_count": 20,
      "metadata": {
        "cellView": "form",
        "execution": {},
        "colab": {
          "base_uri": "https://localhost:8080/",
          "height": 580,
          "referenced_widgets": [
            "e923b74eb70a4672b95aa3ad45c4eb40",
            "c075fef405574253984ca0bc381aeaa2",
            "dde4052b236b46208b6897f3c229f1ae",
            "c9808a3d8fa64d1fafbe2c6670250abd",
            "853c44a625d6472ca6e9c5ed0769070e",
            "960d396d351c4d618d3385da8267465b"
          ]
        },
        "id": "WTcIE16SluRL",
        "outputId": "910e08b1-ba69-4c0f-8643-9b70ae0466e5"
      },
      "outputs": [
        {
          "output_type": "display_data",
          "data": {
            "text/plain": [
              "Tab(children=(Output(), Output()), _titles={'0': 'Youtube', '1': 'Bilibili'})"
            ],
            "application/vnd.jupyter.widget-view+json": {
              "version_major": 2,
              "version_minor": 0,
              "model_id": "e923b74eb70a4672b95aa3ad45c4eb40"
            }
          },
          "metadata": {}
        }
      ],
      "source": [
        "# @title Video 3: Computational Graph\n",
        "from ipywidgets import widgets\n",
        "from IPython.display import YouTubeVideo\n",
        "from IPython.display import IFrame\n",
        "from IPython.display import display\n",
        "\n",
        "\n",
        "class PlayVideo(IFrame):\n",
        "  def __init__(self, id, source, page=1, width=400, height=300, **kwargs):\n",
        "    self.id = id\n",
        "    if source == 'Bilibili':\n",
        "      src = f'https://player.bilibili.com/player.html?bvid={id}&page={page}'\n",
        "    elif source == 'Osf':\n",
        "      src = f'https://mfr.ca-1.osf.io/render?url=https://osf.io/download/{id}/?direct%26mode=render'\n",
        "    super(PlayVideo, self).__init__(src, width, height, **kwargs)\n",
        "\n",
        "\n",
        "def display_videos(video_ids, W=400, H=300, fs=1):\n",
        "  tab_contents = []\n",
        "  for i, video_id in enumerate(video_ids):\n",
        "    out = widgets.Output()\n",
        "    with out:\n",
        "      if video_ids[i][0] == 'Youtube':\n",
        "        video = YouTubeVideo(id=video_ids[i][1], width=W,\n",
        "                             height=H, fs=fs, rel=0)\n",
        "        print(f'Video available at https://youtube.com/watch?v={video.id}')\n",
        "      else:\n",
        "        video = PlayVideo(id=video_ids[i][1], source=video_ids[i][0], width=W,\n",
        "                          height=H, fs=fs, autoplay=False)\n",
        "        if video_ids[i][0] == 'Bilibili':\n",
        "          print(f'Video available at https://www.bilibili.com/video/{video.id}')\n",
        "        elif video_ids[i][0] == 'Osf':\n",
        "          print(f'Video available at https://osf.io/{video.id}')\n",
        "      display(video)\n",
        "    tab_contents.append(out)\n",
        "  return tab_contents\n",
        "\n",
        "\n",
        "video_ids = [('Youtube', '2z1YX5PonV4'), ('Bilibili', 'BV1c64y1B7ZG')]\n",
        "tab_contents = display_videos(video_ids, W=854, H=480)\n",
        "tabs = widgets.Tab()\n",
        "tabs.children = tab_contents\n",
        "for i in range(len(tab_contents)):\n",
        "  tabs.set_title(i, video_ids[i][0])\n",
        "display(tabs)"
      ]
    },
    {
      "cell_type": "code",
      "execution_count": null,
      "metadata": {
        "cellView": "form",
        "execution": {},
        "id": "7gCDZ7VdluRL"
      },
      "outputs": [],
      "source": [
        "# @title Submit your feedback\n",
        "content_review(f\"{feedback_prefix}_Computational_Graph_Video\")"
      ]
    },
    {
      "cell_type": "markdown",
      "metadata": {
        "execution": {},
        "id": "ySLKt2LQluRM"
      },
      "source": [
        "*Exercise 1.2* is an example of how overwhelming the derivation of gradients can get, as the number of variables and nested functions increases. This function is still extraordinarily simple compared to the loss functions of modern neural networks. So how can we (as well as PyTorch and similar frameworks) approach such beasts?\n",
        "\n",
        "Let’s look at the function again:\n",
        "\n",
        "\\begin{equation}\n",
        "f(x, y, z) = \\tanh \\left(\\ln \\left[1 + z \\frac{2x}{sin(y)} \\right] \\right)\n",
        "\\end{equation}\n",
        "\n",
        "We can build a so-called computational graph (shown below) to break the original function into smaller and more approachable expressions.\n",
        "\n",
        "<center><img src=\"https://raw.githubusercontent.com/NeuromatchAcademy/course-content-dl/main/tutorials/W1D2_LinearDeepLearning/static/comput_graph.png\" alt=\"Computation Graph\" width=\"700\"/></center>\n",
        "\n",
        "Starting from $x$, $y$, and $z$ and following the arrows and expressions, you would see that our graph returns the same function as $f$. It does so by calculating intermediate variables $a,b,c,d,$ and $e$. This is called the **forward pass**.\n",
        "\n",
        "Now, let’s start from $f$, and work our way against the arrows while calculating the gradient of each expression as we go. This is called the **backward pass**, from which the **backpropagation of errors** algorithm gets its name.\n",
        "\n",
        "<center><img src=\"https://raw.githubusercontent.com/NeuromatchAcademy/course-content-dl/main/tutorials/W1D2_LinearDeepLearning/static/comput_graph_full.png\" alt=\"Computation Graph full\" width=\"1200\"/></center>\n",
        "\n",
        "By breaking the computation into simple operations on intermediate variables, we can use the chain rule to calculate any gradient:\n",
        "\n",
        "\\begin{equation}\n",
        "\\dfrac{\\partial f}{\\partial x} = \\dfrac{\\partial f}{\\partial e}~\\dfrac{\\partial e}{\\partial d}~\\dfrac{\\partial d}{\\partial c}~\\dfrac{\\partial c}{\\partial a}~\\dfrac{\\partial a}{\\partial x} = \\left( 1-\\tanh^2(e) \\right) \\cdot \\frac{1}{d+1}\\cdot z \\cdot \\frac{1}{b} \\cdot 2\n",
        "\\end{equation}\n",
        "\n",
        "Conveniently, the values for $e$, $b$, and $d$ are available to us from when we did the forward pass through the graph. That is, the partial derivatives have simple expressions in terms of the intermediate variables $a,b,c,d,e$ that we calculated and stored during the forward pass."
      ]
    },
    {
      "cell_type": "markdown",
      "metadata": {
        "execution": {},
        "id": "DJHzu3ASluRM"
      },
      "source": [
        "### Analytical Exercise 1.3: Chain Rule (Optional)\n",
        "\n",
        "For the function above, calculate the $\\dfrac{\\partial f}{\\partial y}$ using the computational graph and chain rule.\n",
        "\n",
        "<details>\n",
        "<summary> <font color='green'>Click here for the solution </font></summary>\n",
        "\n",
        "\\begin{equation}\n",
        "\\dfrac{\\partial f}{\\partial y} = \\dfrac{\\partial f}{\\partial e}~\\dfrac{\\partial e}{\\partial d}~\\dfrac{\\partial d}{\\partial c}~\\dfrac{\\partial c}{\\partial b}~\\dfrac{\\partial b}{\\partial y} = \\left( 1-\\tanh^2(e) \\right) \\cdot \\frac{1}{d+1}\\cdot z \\cdot \\frac{-a}{b^2} \\cdot \\cos(y)\n",
        "\\end{equation}"
      ]
    },
    {
      "cell_type": "markdown",
      "metadata": {
        "execution": {},
        "id": "bIwsG1cdluRN"
      },
      "source": [
        "For more: [Calculus on Computational Graphs: Backpropagation](https://colah.github.io/posts/2015-08-Backprop/)"
      ]
    },
    {
      "cell_type": "code",
      "execution_count": null,
      "metadata": {
        "cellView": "form",
        "execution": {},
        "id": "vKDlmwHfluRN"
      },
      "outputs": [],
      "source": [
        "# @title Submit your feedback\n",
        "content_review(f\"{feedback_prefix}_Chain_Rule_Analytical_Exercise\")"
      ]
    },
    {
      "cell_type": "markdown",
      "metadata": {
        "execution": {},
        "id": "1Gw6I1EUluRN"
      },
      "source": [
        "---\n",
        "# Section 2: PyTorch AutoGrad\n",
        "\n",
        "*Time estimate: ~30-45 mins*"
      ]
    },
    {
      "cell_type": "code",
      "execution_count": 21,
      "metadata": {
        "cellView": "form",
        "execution": {},
        "colab": {
          "base_uri": "https://localhost:8080/",
          "height": 580,
          "referenced_widgets": [
            "30999305e4524a58af7f6a0fc745b5e4",
            "0640f461900f48639580a34218fb7c3b",
            "8e9a100c50944040b27119b77452e9d5",
            "d1a8b93c5236444c9577338ddda1e2d3",
            "0ac36ae3b32943aaa99cb047079cf706",
            "50349c33eb5d4a40aea21bfdc311bfc2"
          ]
        },
        "id": "-WMP2FVLluRO",
        "outputId": "17c673c5-89fd-462b-8b5b-e7d61a88a2ee"
      },
      "outputs": [
        {
          "output_type": "display_data",
          "data": {
            "text/plain": [
              "Tab(children=(Output(), Output()), _titles={'0': 'Youtube', '1': 'Bilibili'})"
            ],
            "application/vnd.jupyter.widget-view+json": {
              "version_major": 2,
              "version_minor": 0,
              "model_id": "30999305e4524a58af7f6a0fc745b5e4"
            }
          },
          "metadata": {}
        }
      ],
      "source": [
        "# @title Video 4: Auto-Differentiation\n",
        "from ipywidgets import widgets\n",
        "from IPython.display import YouTubeVideo\n",
        "from IPython.display import IFrame\n",
        "from IPython.display import display\n",
        "\n",
        "\n",
        "class PlayVideo(IFrame):\n",
        "  def __init__(self, id, source, page=1, width=400, height=300, **kwargs):\n",
        "    self.id = id\n",
        "    if source == 'Bilibili':\n",
        "      src = f'https://player.bilibili.com/player.html?bvid={id}&page={page}'\n",
        "    elif source == 'Osf':\n",
        "      src = f'https://mfr.ca-1.osf.io/render?url=https://osf.io/download/{id}/?direct%26mode=render'\n",
        "    super(PlayVideo, self).__init__(src, width, height, **kwargs)\n",
        "\n",
        "\n",
        "def display_videos(video_ids, W=400, H=300, fs=1):\n",
        "  tab_contents = []\n",
        "  for i, video_id in enumerate(video_ids):\n",
        "    out = widgets.Output()\n",
        "    with out:\n",
        "      if video_ids[i][0] == 'Youtube':\n",
        "        video = YouTubeVideo(id=video_ids[i][1], width=W,\n",
        "                             height=H, fs=fs, rel=0)\n",
        "        print(f'Video available at https://youtube.com/watch?v={video.id}')\n",
        "      else:\n",
        "        video = PlayVideo(id=video_ids[i][1], source=video_ids[i][0], width=W,\n",
        "                          height=H, fs=fs, autoplay=False)\n",
        "        if video_ids[i][0] == 'Bilibili':\n",
        "          print(f'Video available at https://www.bilibili.com/video/{video.id}')\n",
        "        elif video_ids[i][0] == 'Osf':\n",
        "          print(f'Video available at https://osf.io/{video.id}')\n",
        "      display(video)\n",
        "    tab_contents.append(out)\n",
        "  return tab_contents\n",
        "\n",
        "\n",
        "video_ids = [('Youtube', 'IBYFCNyBcF8'), ('Bilibili', 'BV1UP4y1s7gv')]\n",
        "tab_contents = display_videos(video_ids, W=854, H=480)\n",
        "tabs = widgets.Tab()\n",
        "tabs.children = tab_contents\n",
        "for i in range(len(tab_contents)):\n",
        "  tabs.set_title(i, video_ids[i][0])\n",
        "display(tabs)"
      ]
    },
    {
      "cell_type": "code",
      "execution_count": null,
      "metadata": {
        "cellView": "form",
        "execution": {},
        "id": "8InKw0IkluRO"
      },
      "outputs": [],
      "source": [
        "# @title Submit your feedback\n",
        "content_review(f\"{feedback_prefix}_AutoDifferentiation_Video\")"
      ]
    },
    {
      "cell_type": "markdown",
      "metadata": {
        "execution": {},
        "id": "TfYJOXk_luRO"
      },
      "source": [
        "Deep learning frameworks such as PyTorch, JAX, and TensorFlow come with a very efficient and sophisticated set of algorithms, commonly known as Automatic Differentiation. AutoGrad is PyTorch's automatic differentiation engine. Here we start by covering the essentials of AutoGrad, and you will learn more in the coming days."
      ]
    },
    {
      "cell_type": "markdown",
      "metadata": {
        "execution": {},
        "id": "A81SElWjluRO"
      },
      "source": [
        "## Section 2.1: Forward Propagation\n",
        "\n",
        "Everything starts with the forward propagation (pass). PyTorch tracks all the instructions, as we declare the variables and operations, and it builds the graph when we call the `.backward()` pass. PyTorch rebuilds the graph every time we iterate or change it (or simply put, PyTorch uses a dynamic graph).\n",
        "\n",
        "For gradient descent, it is only required to have the gradients of cost function with respect to the variables we wish to learn. These variables are often called \"learnable / trainable parameters\" or simply \"parameters\" in PyTorch. In neural nets, weights and biases are often the learnable parameters."
      ]
    },
    {
      "cell_type": "markdown",
      "metadata": {
        "execution": {},
        "id": "c6BVNCWqluRO"
      },
      "source": [
        "### Coding Exercise 2.1: Buiding a Computational Graph\n",
        "\n",
        "In PyTorch, to indicate that a certain tensor contains learnable parameters, we can set the optional argument `requires_grad` to `True`. PyTorch will then track every operation using this tensor while configuring the computational graph. For this exercise, use the provided tensors to build the following graph, which implements a single neuron with scalar input and output.\n",
        "\n",
        "<br>\n",
        "\n",
        "<center><img src=\"https://raw.githubusercontent.com/NeuromatchAcademy/course-content-dl/main/tutorials/W1D2_LinearDeepLearning/static/simple_graph.png\" alt=\"Simple nn graph\" width=\"600\"/></center>"
      ]
    },
    {
      "cell_type": "code",
      "source": [
        "class SimpleGraph:\n",
        "  \"\"\"\n",
        "  Implementing Simple Computational Graph\n",
        "  \"\"\"\n",
        "\n",
        "  def __init__(self, w, b):\n",
        "    \"\"\"\n",
        "    Initializing the SimpleGraph\n",
        "\n",
        "    Args:\n",
        "      w: float\n",
        "        Initial value for weight\n",
        "      b: float\n",
        "        Initial value for bias\n",
        "\n",
        "    Returns:\n",
        "      Nothing\n",
        "    \"\"\"\n",
        "    assert isinstance(w, float)\n",
        "    assert isinstance(b, float)\n",
        "    self.w = torch.tensor([w], requires_grad=True)\n",
        "    self.b = torch.tensor([b], requires_grad=True)\n",
        "\n",
        "  def forward(self, x):\n",
        "    \"\"\"\n",
        "    Forward pass\n",
        "\n",
        "    Args:\n",
        "      x: torch.Tensor\n",
        "        1D tensor of features\n",
        "\n",
        "    Returns:\n",
        "      prediction: torch.Tensor\n",
        "        Model predictions\n",
        "    \"\"\"\n",
        "    assert isinstance(x, torch.Tensor)\n",
        "    #################################################\n",
        "    ## Implement the the forward pass to calculate prediction\n",
        "    ## Note that prediction is not the loss, but the value after `tanh`\n",
        "    # Complete the function and remove or comment the line below\n",
        "    # raise NotImplementedError(\"Forward Pass `forward`\")\n",
        "    #################################################\n",
        "\n",
        "    prediction =torch.tanh(self.w * x + self.b)\n",
        "    return prediction\n",
        "\n",
        "\n",
        "def sq_loss(y_true, y_prediction):\n",
        "  \"\"\"\n",
        "  L2 loss function\n",
        "\n",
        "  Args:\n",
        "    y_true: torch.Tensor\n",
        "      1D tensor of target labels\n",
        "    y_prediction: torch.Tensor\n",
        "      1D tensor of predictions\n",
        "\n",
        "  Returns:\n",
        "    loss: torch.Tensor\n",
        "      L2-loss (squared error)\n",
        "  \"\"\"\n",
        "  assert isinstance(y_true, torch.Tensor)\n",
        "  assert isinstance(y_prediction, torch.Tensor)\n",
        "  #################################################\n",
        "  ## Implement the L2-loss (squred error) given true label and prediction\n",
        "  # Complete the function and remove or comment the line below\n",
        "  # raise NotImplementedError(\"Loss function `sq_loss`\")\n",
        "  #################################################\n",
        "  loss = (y_true - y_prediction) **2\n",
        "  return loss\n",
        "\n",
        "\n",
        "\n",
        "feature = torch.tensor([1])  # Input tensor\n",
        "target = torch.tensor([7])  # Target tensor\n",
        "## Uncomment to run\n",
        "simple_graph = SimpleGraph(-0.5, 0.5)\n",
        "print(f\"initial weight = {simple_graph.w.item()}, \"\n",
        "      f\"\\ninitial bias = {simple_graph.b.item()}\")\n",
        "prediction = simple_graph.forward(feature)\n",
        "square_loss = sq_loss(target, prediction)\n",
        "print(f\"for x={feature.item()} and y={target.item()}, \"\n",
        "      f\"prediction={prediction.item()}, and L2 Loss = {square_loss.item()}\")"
      ],
      "metadata": {
        "id": "3DBUK-1xluRP",
        "outputId": "399307cf-c3df-401f-deaa-47b22826d95f",
        "colab": {
          "base_uri": "https://localhost:8080/"
        }
      },
      "execution_count": 73,
      "outputs": [
        {
          "output_type": "stream",
          "name": "stdout",
          "text": [
            "initial weight = -0.5, \n",
            "initial bias = 0.5\n",
            "for x=1 and y=7, prediction=0.0, and L2 Loss = 49.0\n"
          ]
        }
      ]
    },
    {
      "cell_type": "markdown",
      "metadata": {
        "execution": {},
        "id": "FFVEnUSZluRP"
      },
      "source": [
        "[*Click for solution*](https://github.com/NeuromatchAcademy/course-content-dl/tree/main/tutorials/W1D2_LinearDeepLearning/solutions/W1D2_Tutorial1_Solution_8510dab4.py)\n",
        "\n"
      ]
    },
    {
      "cell_type": "markdown",
      "metadata": {
        "execution": {},
        "id": "0-X7Aw-fluRP"
      },
      "source": [
        "It is important to appreciate the fact that PyTorch can follow our operations as we arbitrarily go through classes and functions."
      ]
    },
    {
      "cell_type": "code",
      "execution_count": null,
      "metadata": {
        "cellView": "form",
        "execution": {},
        "id": "fv1HGlEYluRQ"
      },
      "outputs": [],
      "source": [
        "# @title Submit your feedback\n",
        "content_review(f\"{feedback_prefix}_Building_a_computational_graph_Exercise\")"
      ]
    },
    {
      "cell_type": "markdown",
      "metadata": {
        "execution": {},
        "id": "x_51UTdOluRQ"
      },
      "source": [
        "## Section 2.2: Backward Propagation\n",
        "\n",
        "Here is where all the magic lies. In PyTorch, `Tensor` and `Function` are interconnected and build up an acyclic graph, that encodes a complete history of computation. Each variable has a `grad_fn` attribute that references a function that has created the Tensor (except for Tensors created by the user - these have `None` as `grad_fn`).  The example below shows that the tensor `c = a + b` is created by the `Add` operation and the gradient function is the object `<AddBackward...>`. Replace `+` with other single operations (e.g., `c = a * b` or `c = torch.sin(a)`) and examine the results."
      ]
    },
    {
      "cell_type": "code",
      "execution_count": 74,
      "metadata": {
        "execution": {},
        "colab": {
          "base_uri": "https://localhost:8080/"
        },
        "id": "nI6QDnpbluRQ",
        "outputId": "c7a0ec30-6546-476b-a0ef-f5ea3fdcace1"
      },
      "outputs": [
        {
          "output_type": "stream",
          "name": "stdout",
          "text": [
            "Gradient function = <SinBackward0 object at 0x7850a05b1000>\n"
          ]
        }
      ],
      "source": [
        "a = torch.tensor([1.0], requires_grad=True)\n",
        "b = torch.tensor([-1.0], requires_grad=True)\n",
        "c = torch.sin(a+b)\n",
        "print(f'Gradient function = {c.grad_fn}')"
      ]
    },
    {
      "cell_type": "markdown",
      "metadata": {
        "execution": {},
        "id": "LrjNb4UjluRQ"
      },
      "source": [
        "For more complex functions, printing the `grad_fn` would only show the last operation, even though the object tracks all the operations up to that point:"
      ]
    },
    {
      "cell_type": "code",
      "execution_count": 75,
      "metadata": {
        "execution": {},
        "colab": {
          "base_uri": "https://localhost:8080/"
        },
        "id": "EKHbVsd8luRR",
        "outputId": "ff0a2c88-2c2d-4e33-b0e4-5f8a86201749"
      },
      "outputs": [
        {
          "output_type": "stream",
          "name": "stdout",
          "text": [
            "Gradient function for prediction = <TanhBackward0 object at 0x7850a05b1d50>\n",
            "Gradient function for loss = <PowBackward0 object at 0x7850a05b3c40>\n"
          ]
        }
      ],
      "source": [
        "print(f'Gradient function for prediction = {prediction.grad_fn}')\n",
        "print(f'Gradient function for loss = {square_loss.grad_fn}')"
      ]
    },
    {
      "cell_type": "markdown",
      "metadata": {
        "execution": {},
        "id": "UPQcsXMUluRR"
      },
      "source": [
        "Now let's kick off the backward pass to calculate the gradients by calling `.backward()` on the tensor we wish to initiate the backpropagation from. Often, `.backward()` is called on the loss, which is the last node on the graph. Before doing that, let's calculate the loss gradients by hand:\n",
        "\n",
        "$$\\frac{\\partial{loss}}{\\partial{w}} = - 2 x (y_t - y_p)(1 - y_p^2)$$\n",
        "\n",
        "$$\\frac{\\partial{loss}}{\\partial{b}} = - 2 (y_t - y_p)(1 - y_p^2)$$\n",
        "\n",
        "Where $y_t$ is the target (true label), and $y_p$ is the prediction (model output). We can then compare it to PyTorch gradients, which can be obtained by calling `.grad` on the relevant tensors.\n",
        "\n",
        "**Important Notes:**\n",
        "* Learnable parameters (i.e. `requires_grad` tensors) are \"contagious\". Let's look at a simple example: `Y = W @ X`, where `X` is the feature tensors and `W` is the weight tensor (learnable parameters, `requires_grad`), the newly generated output tensor `Y` will be also `requires_grad`. So any operation that is applied to `Y` will be part of the computational graph. Therefore, if we need to plot or store a tensor that is `requires_grad`, we must first `.detach()` it from the graph by calling the `.detach()` method on that tensor.\n",
        "\n",
        "* `.backward()` accumulates gradients in the leaf nodes (i.e., the input nodes to the node of interest). We can call `.zero_grad()` on the loss or optimizer to zero out all `.grad` attributes (see [autograd.backward](https://pytorch.org/docs/stable/autograd.html#torch.autograd.backward) for more information).\n",
        "\n",
        "* Recall that in python we can access variables and associated methods with `.method_name`. You can use the command `dir(my_object)` to observe all variables and associated methods to your object, e.g., `dir(simple_graph.w)`."
      ]
    },
    {
      "cell_type": "code",
      "execution_count": 76,
      "metadata": {
        "execution": {},
        "colab": {
          "base_uri": "https://localhost:8080/"
        },
        "id": "d17HuJMBluRR",
        "outputId": "28a242f4-5106-4f3d-e663-764569a7acbd"
      },
      "outputs": [
        {
          "output_type": "stream",
          "name": "stdout",
          "text": [
            "ana_dloss_dw is tensor([-14.]) and autograd_dloss_dw is tensor([-14.])\n",
            "ana_dloss_db is tensor([-14.]) and autograd_dloss_dw is tensor([-14.])\n"
          ]
        }
      ],
      "source": [
        "# Analytical gradients (Remember detaching)\n",
        "ana_dloss_dw = - 2 * feature * (target - prediction.detach())*(1 - prediction.detach()**2)\n",
        "ana_dloss_db = - 2 * (target - prediction.detach())*(1 - prediction.detach()**2)\n",
        "\n",
        "\n",
        "square_loss.backward()  # First we should call the backward to build the graph\n",
        "autograd_dloss_dw = simple_graph.w.grad  # We calculate the derivative w.r.t weights\n",
        "autograd_dloss_db = simple_graph.b.grad  # We calculate the derivative w.r.t bias\n",
        "\n",
        "print(f'ana_dloss_dw is {ana_dloss_dw} and autograd_dloss_dw is {autograd_dloss_dw}')\n",
        "print(f'ana_dloss_db is {ana_dloss_db} and autograd_dloss_dw is {autograd_dloss_db}')"
      ]
    },
    {
      "cell_type": "markdown",
      "metadata": {
        "execution": {},
        "id": "8yUMcISeluRR"
      },
      "source": [
        "### References and more\n",
        "\n",
        "* [A gentle introduction to torch.autograd](https://pytorch.org/tutorials/beginner/blitz/autograd_tutorial.html)\n",
        "\n",
        "* [Automatic Differentiation package - torch.autograd](https://pytorch.org/docs/stable/autograd.html)\n",
        "\n",
        "* [Autograd mechanics](https://pytorch.org/docs/stable/notes/autograd.html)\n",
        "\n",
        "* [Automatic Differentiation with torch.autograd](https://pytorch.org/tutorials/beginner/basics/autogradqs_tutorial.html)"
      ]
    },
    {
      "cell_type": "markdown",
      "metadata": {
        "execution": {},
        "id": "DdluOdn8luRR"
      },
      "source": [
        "---\n",
        "# Section 3: PyTorch's Neural Net module (`nn.Module`)\n",
        "\n",
        "*Time estimate: ~30 mins*"
      ]
    },
    {
      "cell_type": "code",
      "execution_count": 77,
      "metadata": {
        "cellView": "form",
        "execution": {},
        "colab": {
          "base_uri": "https://localhost:8080/",
          "height": 580,
          "referenced_widgets": [
            "87736d353c83474cb5065ff39bf455c6",
            "19064642e9424a1ea42181feadcdbcab",
            "115aebadf8ad415ab0beb721e3055252",
            "9cb0efd076e24fa486e29406f1c6bd8e",
            "a6b4505e357543c48f0bf21b4ee4b2d9",
            "0cb8288ca7f5457e8b1c9abd7403e5d0"
          ]
        },
        "id": "hLXcG5sDluRS",
        "outputId": "d518e485-5039-483b-8ace-1666358f57b7"
      },
      "outputs": [
        {
          "output_type": "display_data",
          "data": {
            "text/plain": [
              "Tab(children=(Output(), Output()), _titles={'0': 'Youtube', '1': 'Bilibili'})"
            ],
            "application/vnd.jupyter.widget-view+json": {
              "version_major": 2,
              "version_minor": 0,
              "model_id": "87736d353c83474cb5065ff39bf455c6"
            }
          },
          "metadata": {}
        }
      ],
      "source": [
        "# @title Video 5: PyTorch `nn` module\n",
        "from ipywidgets import widgets\n",
        "from IPython.display import YouTubeVideo\n",
        "from IPython.display import IFrame\n",
        "from IPython.display import display\n",
        "\n",
        "\n",
        "class PlayVideo(IFrame):\n",
        "  def __init__(self, id, source, page=1, width=400, height=300, **kwargs):\n",
        "    self.id = id\n",
        "    if source == 'Bilibili':\n",
        "      src = f'https://player.bilibili.com/player.html?bvid={id}&page={page}'\n",
        "    elif source == 'Osf':\n",
        "      src = f'https://mfr.ca-1.osf.io/render?url=https://osf.io/download/{id}/?direct%26mode=render'\n",
        "    super(PlayVideo, self).__init__(src, width, height, **kwargs)\n",
        "\n",
        "\n",
        "def display_videos(video_ids, W=400, H=300, fs=1):\n",
        "  tab_contents = []\n",
        "  for i, video_id in enumerate(video_ids):\n",
        "    out = widgets.Output()\n",
        "    with out:\n",
        "      if video_ids[i][0] == 'Youtube':\n",
        "        video = YouTubeVideo(id=video_ids[i][1], width=W,\n",
        "                             height=H, fs=fs, rel=0)\n",
        "        print(f'Video available at https://youtube.com/watch?v={video.id}')\n",
        "      else:\n",
        "        video = PlayVideo(id=video_ids[i][1], source=video_ids[i][0], width=W,\n",
        "                          height=H, fs=fs, autoplay=False)\n",
        "        if video_ids[i][0] == 'Bilibili':\n",
        "          print(f'Video available at https://www.bilibili.com/video/{video.id}')\n",
        "        elif video_ids[i][0] == 'Osf':\n",
        "          print(f'Video available at https://osf.io/{video.id}')\n",
        "      display(video)\n",
        "    tab_contents.append(out)\n",
        "  return tab_contents\n",
        "\n",
        "\n",
        "video_ids = [('Youtube', 'jzTbQACq7KE'), ('Bilibili', 'BV1MU4y1H7WH')]\n",
        "tab_contents = display_videos(video_ids, W=854, H=480)\n",
        "tabs = widgets.Tab()\n",
        "tabs.children = tab_contents\n",
        "for i in range(len(tab_contents)):\n",
        "  tabs.set_title(i, video_ids[i][0])\n",
        "display(tabs)"
      ]
    },
    {
      "cell_type": "code",
      "execution_count": null,
      "metadata": {
        "cellView": "form",
        "execution": {},
        "id": "Wt4RJ8VzluRS"
      },
      "outputs": [],
      "source": [
        "# @title Submit your feedback\n",
        "content_review(f\"{feedback_prefix}_Pytorch_nn_module_Video\")"
      ]
    },
    {
      "cell_type": "markdown",
      "metadata": {
        "execution": {},
        "id": "5zGsZzSyluRS"
      },
      "source": [
        "PyTorch provides us with ready-to-use neural network building blocks, such as layers (e.g., linear, recurrent, etc.), different activation and loss functions, and much more, packed in the [`torch.nn`](https://pytorch.org/docs/stable/nn.html) module. If we build a neural network using `torch.nn` layers, the weights and biases are already in `requires_grad` mode and will be registered as model parameters.\n",
        "\n",
        "For training, we need three things:\n",
        "\n",
        "* **Model parameters:** Model parameters refer to all the learnable parameters of the model, which are accessible by calling `.parameters()` on the model. Please note that NOT all the `requires_grad` tensors are seen as model parameters. To create a custom model parameter, we can use [`nn.Parameter`](https://pytorch.org/docs/stable/generated/torch.nn.parameter.Parameter.html) (*A kind of Tensor that is to be considered a module parameter*).\n",
        "\n",
        "* **Loss function:** The loss that we are going to be optimizing, which is often combined with regularization terms (coming up in few days).\n",
        "\n",
        "* **Optimizer:** PyTorch provides us with many optimization methods (different versions of gradient descent). Optimizer holds the current state of the model and by calling the `step()` method, will update the parameters based on the computed gradients.\n",
        "\n",
        "You will learn more details about choosing the right model architecture, loss function, and optimizer later in the course."
      ]
    },
    {
      "cell_type": "markdown",
      "metadata": {
        "execution": {},
        "id": "Nh4SNUpzluRT"
      },
      "source": [
        "## Section 3.1: Training loop in PyTorch\n",
        "\n",
        "We use a regression problem to study the training loop in PyTorch.\n",
        "\n",
        "The task is to train a wide nonlinear (using $\\tanh$ activation function) neural net for a simple $\\sin$ regression task. Wide neural networks are thought to be really good at generalization."
      ]
    },
    {
      "cell_type": "code",
      "execution_count": null,
      "metadata": {
        "cellView": "form",
        "execution": {},
        "id": "67uzc5s7luRT"
      },
      "outputs": [],
      "source": [
        "# @markdown #### Generate the sample dataset\n",
        "set_seed(seed=SEED)\n",
        "n_samples = 32\n",
        "inputs = torch.linspace(-1.0, 1.0, n_samples).reshape(n_samples, 1)\n",
        "noise = torch.randn(n_samples, 1) / 4\n",
        "targets = torch.sin(pi * inputs) + noise\n",
        "plt.figure(figsize=(8, 5))\n",
        "plt.scatter(inputs, targets, c='c')\n",
        "plt.xlabel('x (inputs)')\n",
        "plt.ylabel('y (targets)')\n",
        "plt.show()"
      ]
    },
    {
      "cell_type": "markdown",
      "metadata": {
        "execution": {},
        "id": "xK6VNHb6luRT"
      },
      "source": [
        "Let's define a very wide (512 neurons) neural net with one hidden layer and `nn.Tanh()` activation function."
      ]
    },
    {
      "cell_type": "code",
      "execution_count": null,
      "metadata": {
        "execution": {},
        "id": "9DrpUe5qluRT"
      },
      "outputs": [],
      "source": [
        "class WideNet(nn.Module):\n",
        "  \"\"\"\n",
        "   A Wide neural network with a single hidden layer\n",
        "   Structure is as follows:\n",
        "   nn.Sequential(\n",
        "        nn.Linear(1, n_cells) + nn.Tanh(), # Fully connected layer with tanh activation\n",
        "        nn.Linear(n_cells, 1) # Final fully connected layer\n",
        "    )\n",
        "  \"\"\"\n",
        "\n",
        "  def __init__(self):\n",
        "    \"\"\"\n",
        "    Initializing the parameters of WideNet\n",
        "\n",
        "    Args:\n",
        "      None\n",
        "\n",
        "    Returns:\n",
        "      Nothing\n",
        "    \"\"\"\n",
        "    n_cells = 512\n",
        "    super().__init__()\n",
        "    self.layers = nn.Sequential(\n",
        "        nn.Linear(1, n_cells),\n",
        "        nn.Tanh(),\n",
        "        nn.Linear(n_cells, 1),\n",
        "    )\n",
        "\n",
        "  def forward(self, x):\n",
        "    \"\"\"\n",
        "    Forward pass of WideNet\n",
        "\n",
        "    Args:\n",
        "      x: torch.Tensor\n",
        "        2D tensor of features\n",
        "\n",
        "    Returns:\n",
        "      Torch tensor of model predictions\n",
        "    \"\"\"\n",
        "    return self.layers(x)"
      ]
    },
    {
      "cell_type": "markdown",
      "metadata": {
        "execution": {},
        "id": "9FfnCsYSluRU"
      },
      "source": [
        "We can now create an instance of our neural net and print its parameters."
      ]
    },
    {
      "cell_type": "code",
      "execution_count": null,
      "metadata": {
        "execution": {},
        "id": "XOwpZOjVluRU"
      },
      "outputs": [],
      "source": [
        "# Creating an instance\n",
        "set_seed(seed=SEED)\n",
        "wide_net = WideNet()\n",
        "print(wide_net)"
      ]
    },
    {
      "cell_type": "code",
      "execution_count": null,
      "metadata": {
        "execution": {},
        "id": "0hcJtsDWluRU"
      },
      "outputs": [],
      "source": [
        "# Create a mse loss function\n",
        "loss_function = nn.MSELoss()\n",
        "\n",
        "# Stochstic Gradient Descent optimizer (you will learn about momentum soon)\n",
        "lr = 0.003  # Learning rate\n",
        "sgd_optimizer = torch.optim.SGD(wide_net.parameters(), lr=lr, momentum=0.9)"
      ]
    },
    {
      "cell_type": "markdown",
      "metadata": {
        "execution": {},
        "id": "x6pGn8UhluRU"
      },
      "source": [
        "The training process in PyTorch is interactive - you can perform training iterations as you wish and inspect the results after each iteration.\n",
        "\n",
        "Let's perform one training iteration. You can run the cell multiple times and see how the parameters are being updated and the loss is reducing. This code block is the core of everything to come: please make sure you go line-by-line through all the commands and discuss their purpose with your pod."
      ]
    },
    {
      "cell_type": "code",
      "execution_count": null,
      "metadata": {
        "execution": {},
        "id": "n6aCq7J0luRV"
      },
      "outputs": [],
      "source": [
        "# Reset all gradients to zero\n",
        "sgd_optimizer.zero_grad()\n",
        "\n",
        "# Forward pass (Compute the output of the model on the features (inputs))\n",
        "prediction = wide_net(inputs)\n",
        "\n",
        "# Compute the loss\n",
        "loss = loss_function(prediction, targets)\n",
        "print(f'Loss: {loss.item()}')\n",
        "\n",
        "# Perform backpropagation to build the graph and compute the gradients\n",
        "loss.backward()\n",
        "\n",
        "# Optimizer takes a tiny step in the steepest direction (negative of gradient)\n",
        "# and \"updates\" the weights and biases of the network\n",
        "sgd_optimizer.step()"
      ]
    },
    {
      "cell_type": "markdown",
      "metadata": {
        "execution": {},
        "id": "FeMqaTMnluRV"
      },
      "source": [
        "### Coding Exercise 3.1: Training Loop\n",
        "\n",
        "Using everything we've learned so far, we ask you to complete the `train` function below."
      ]
    },
    {
      "cell_type": "code",
      "execution_count": null,
      "metadata": {
        "execution": {},
        "id": "G_tJMwHNluRV"
      },
      "outputs": [],
      "source": [
        "def train(features, labels, model, loss_fun, optimizer, n_epochs):\n",
        "  \"\"\"\n",
        "  Training function\n",
        "\n",
        "  Args:\n",
        "    features: torch.Tensor\n",
        "      Features (input) with shape torch.Size([n_samples, 1])\n",
        "    labels: torch.Tensor\n",
        "      Labels (targets) with shape torch.Size([n_samples, 1])\n",
        "    model: torch nn.Module\n",
        "      The neural network\n",
        "    loss_fun: function\n",
        "      Loss function\n",
        "    optimizer: function\n",
        "      Optimizer\n",
        "    n_epochs: int\n",
        "      Number of training iterations\n",
        "\n",
        "  Returns:\n",
        "    loss_record: list\n",
        "      Record (evolution) of training losses\n",
        "  \"\"\"\n",
        "  loss_record = []  # Keeping recods of loss\n",
        "\n",
        "  for i in range(n_epochs):\n",
        "    #################################################\n",
        "    ## Implement the missing parts of the training loop\n",
        "    # Complete the function and remove or comment the line below\n",
        "    raise NotImplementedError(\"Training loop `train`\")\n",
        "    #################################################\n",
        "    ...  # Set gradients to 0\n",
        "    predictions = ...  # Compute model prediction (output)\n",
        "    loss = ...  # Compute the loss\n",
        "    ...  # Compute gradients (backward pass)\n",
        "    ...  # Update parameters (optimizer takes a step)\n",
        "\n",
        "    loss_record.append(loss.item())\n",
        "  return loss_record\n",
        "\n",
        "\n",
        "\n",
        "set_seed(seed=2021)\n",
        "epochs = 1847 # Cauchy, Exercices d'analyse et de physique mathematique (1847)\n",
        "## Uncomment to run\n",
        "# losses = train(inputs, targets, wide_net, loss_function, sgd_optimizer, epochs)\n",
        "# ex3_plot(wide_net, inputs, targets, epochs, losses)"
      ]
    },
    {
      "cell_type": "markdown",
      "metadata": {
        "execution": {},
        "id": "w4ZBL1BdluRV"
      },
      "source": [
        "[*Click for solution*](https://github.com/NeuromatchAcademy/course-content-dl/tree/main/tutorials/W1D2_LinearDeepLearning/solutions/W1D2_Tutorial1_Solution_5901bdf4.py)\n",
        "\n"
      ]
    },
    {
      "cell_type": "code",
      "execution_count": null,
      "metadata": {
        "cellView": "form",
        "execution": {},
        "id": "4i3i0mc4luRV"
      },
      "outputs": [],
      "source": [
        "# @title Submit your feedback\n",
        "content_review(f\"{feedback_prefix}_Training_loop_Exercise\")"
      ]
    },
    {
      "cell_type": "markdown",
      "metadata": {
        "execution": {},
        "id": "80_U9mwHluRW"
      },
      "source": [
        "---\n",
        "# Summary"
      ]
    },
    {
      "cell_type": "markdown",
      "metadata": {
        "execution": {},
        "id": "4OAiskQ3luRW"
      },
      "source": [
        "In this tutorial, we covered one of the most basic concepts of deep learning; the computational graph and how a network learns via gradient descent and the backpropagation algorithm. We have seen all of these using PyTorch modules and we compared the analytical solutions with the ones provided directly by the PyTorch module."
      ]
    },
    {
      "cell_type": "code",
      "execution_count": null,
      "metadata": {
        "cellView": "form",
        "execution": {},
        "id": "hn78PKdUluRW"
      },
      "outputs": [],
      "source": [
        "# @title Video 6: Tutorial 1 Wrap-up\n",
        "from ipywidgets import widgets\n",
        "from IPython.display import YouTubeVideo\n",
        "from IPython.display import IFrame\n",
        "from IPython.display import display\n",
        "\n",
        "\n",
        "class PlayVideo(IFrame):\n",
        "  def __init__(self, id, source, page=1, width=400, height=300, **kwargs):\n",
        "    self.id = id\n",
        "    if source == 'Bilibili':\n",
        "      src = f'https://player.bilibili.com/player.html?bvid={id}&page={page}'\n",
        "    elif source == 'Osf':\n",
        "      src = f'https://mfr.ca-1.osf.io/render?url=https://osf.io/download/{id}/?direct%26mode=render'\n",
        "    super(PlayVideo, self).__init__(src, width, height, **kwargs)\n",
        "\n",
        "\n",
        "def display_videos(video_ids, W=400, H=300, fs=1):\n",
        "  tab_contents = []\n",
        "  for i, video_id in enumerate(video_ids):\n",
        "    out = widgets.Output()\n",
        "    with out:\n",
        "      if video_ids[i][0] == 'Youtube':\n",
        "        video = YouTubeVideo(id=video_ids[i][1], width=W,\n",
        "                             height=H, fs=fs, rel=0)\n",
        "        print(f'Video available at https://youtube.com/watch?v={video.id}')\n",
        "      else:\n",
        "        video = PlayVideo(id=video_ids[i][1], source=video_ids[i][0], width=W,\n",
        "                          height=H, fs=fs, autoplay=False)\n",
        "        if video_ids[i][0] == 'Bilibili':\n",
        "          print(f'Video available at https://www.bilibili.com/video/{video.id}')\n",
        "        elif video_ids[i][0] == 'Osf':\n",
        "          print(f'Video available at https://osf.io/{video.id}')\n",
        "      display(video)\n",
        "    tab_contents.append(out)\n",
        "  return tab_contents\n",
        "\n",
        "\n",
        "video_ids = [('Youtube', 'TvZURbcnXc4'), ('Bilibili', 'BV1Pg41177VU')]\n",
        "tab_contents = display_videos(video_ids, W=854, H=480)\n",
        "tabs = widgets.Tab()\n",
        "tabs.children = tab_contents\n",
        "for i in range(len(tab_contents)):\n",
        "  tabs.set_title(i, video_ids[i][0])\n",
        "display(tabs)"
      ]
    },
    {
      "cell_type": "code",
      "execution_count": null,
      "metadata": {
        "cellView": "form",
        "execution": {},
        "id": "7PdyVWgxluRW"
      },
      "outputs": [],
      "source": [
        "# @title Submit your feedback\n",
        "content_review(f\"{feedback_prefix}_Tutorial_1_WrapUp_Video\")"
      ]
    }
  ],
  "metadata": {
    "colab": {
      "name": "W1D2_Tutorial1",
      "provenance": [],
      "toc_visible": true,
      "gpuType": "T4",
      "include_colab_link": true
    },
    "kernel": {
      "display_name": "Python 3",
      "language": "python",
      "name": "python3"
    },
    "kernelspec": {
      "display_name": "Python 3",
      "name": "python3"
    },
    "language_info": {
      "codemirror_mode": {
        "name": "ipython",
        "version": 3
      },
      "file_extension": ".py",
      "mimetype": "text/x-python",
      "name": "python",
      "nbconvert_exporter": "python",
      "pygments_lexer": "ipython3",
      "version": "3.7.11"
    },
    "accelerator": "GPU",
    "widgets": {
      "application/vnd.jupyter.widget-state+json": {
        "4600bd61477e4b3492fc2a75c8d39382": {
          "model_module": "@jupyter-widgets/controls",
          "model_name": "TabModel",
          "model_module_version": "1.5.0",
          "state": {
            "_dom_classes": [],
            "_model_module": "@jupyter-widgets/controls",
            "_model_module_version": "1.5.0",
            "_model_name": "TabModel",
            "_titles": {
              "0": "Youtube",
              "1": "Bilibili"
            },
            "_view_count": null,
            "_view_module": "@jupyter-widgets/controls",
            "_view_module_version": "1.5.0",
            "_view_name": "TabView",
            "box_style": "",
            "children": [
              "IPY_MODEL_af20d21ab3244b93a3f99ceb3c38b138",
              "IPY_MODEL_a256a65def204b57bd6f771d1ea83753"
            ],
            "layout": "IPY_MODEL_3451da7c1d0842fa966ff909a25c528d",
            "selected_index": 0
          }
        },
        "af20d21ab3244b93a3f99ceb3c38b138": {
          "model_module": "@jupyter-widgets/output",
          "model_name": "OutputModel",
          "model_module_version": "1.0.0",
          "state": {
            "_dom_classes": [],
            "_model_module": "@jupyter-widgets/output",
            "_model_module_version": "1.0.0",
            "_model_name": "OutputModel",
            "_view_count": null,
            "_view_module": "@jupyter-widgets/output",
            "_view_module_version": "1.0.0",
            "_view_name": "OutputView",
            "layout": "IPY_MODEL_5783d98bbbc04e5fadace2001a04ba4e",
            "msg_id": "",
            "outputs": [
              {
                "output_type": "stream",
                "name": "stdout",
                "text": [
                  "Video available at https://youtube.com/watch?v=i7djAv2jnzY\n"
                ]
              },
              {
                "output_type": "display_data",
                "data": {
                  "text/plain": "<IPython.lib.display.YouTubeVideo at 0x7850a6d1c350>",
                  "text/html": "\n        <iframe\n            width=\"854\"\n            height=\"480\"\n            src=\"https://www.youtube.com/embed/i7djAv2jnzY?fs=1&rel=0\"\n            frameborder=\"0\"\n            allowfullscreen\n            \n        ></iframe>\n        ",
                  "image/jpeg": "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\n"
                },
                "metadata": {}
              }
            ]
          }
        },
        "a256a65def204b57bd6f771d1ea83753": {
          "model_module": "@jupyter-widgets/output",
          "model_name": "OutputModel",
          "model_module_version": "1.0.0",
          "state": {
            "_dom_classes": [],
            "_model_module": "@jupyter-widgets/output",
            "_model_module_version": "1.0.0",
            "_model_name": "OutputModel",
            "_view_count": null,
            "_view_module": "@jupyter-widgets/output",
            "_view_module_version": "1.0.0",
            "_view_name": "OutputView",
            "layout": "IPY_MODEL_750c7abd028743b9badff64bc747ae91",
            "msg_id": "",
            "outputs": [
              {
                "output_type": "stream",
                "name": "stdout",
                "text": [
                  "Video available at https://www.bilibili.com/video/BV1Qf4y1578t\n"
                ]
              },
              {
                "output_type": "display_data",
                "data": {
                  "text/plain": "<__main__.PlayVideo at 0x7850a6cf6110>",
                  "text/html": "\n        <iframe\n            width=\"854\"\n            height=\"480\"\n            src=\"https://player.bilibili.com/player.html?bvid=BV1Qf4y1578t&page=1?fs=1&autoplay=False\"\n            frameborder=\"0\"\n            allowfullscreen\n            \n        ></iframe>\n        "
                },
                "metadata": {}
              }
            ]
          }
        },
        "3451da7c1d0842fa966ff909a25c528d": {
          "model_module": "@jupyter-widgets/base",
          "model_name": "LayoutModel",
          "model_module_version": "1.2.0",
          "state": {
            "_model_module": "@jupyter-widgets/base",
            "_model_module_version": "1.2.0",
            "_model_name": "LayoutModel",
            "_view_count": null,
            "_view_module": "@jupyter-widgets/base",
            "_view_module_version": "1.2.0",
            "_view_name": "LayoutView",
            "align_content": null,
            "align_items": null,
            "align_self": null,
            "border": null,
            "bottom": null,
            "display": null,
            "flex": null,
            "flex_flow": null,
            "grid_area": null,
            "grid_auto_columns": null,
            "grid_auto_flow": null,
            "grid_auto_rows": null,
            "grid_column": null,
            "grid_gap": null,
            "grid_row": null,
            "grid_template_areas": null,
            "grid_template_columns": null,
            "grid_template_rows": null,
            "height": null,
            "justify_content": null,
            "justify_items": null,
            "left": null,
            "margin": null,
            "max_height": null,
            "max_width": null,
            "min_height": null,
            "min_width": null,
            "object_fit": null,
            "object_position": null,
            "order": null,
            "overflow": null,
            "overflow_x": null,
            "overflow_y": null,
            "padding": null,
            "right": null,
            "top": null,
            "visibility": null,
            "width": null
          }
        },
        "5783d98bbbc04e5fadace2001a04ba4e": {
          "model_module": "@jupyter-widgets/base",
          "model_name": "LayoutModel",
          "model_module_version": "1.2.0",
          "state": {
            "_model_module": "@jupyter-widgets/base",
            "_model_module_version": "1.2.0",
            "_model_name": "LayoutModel",
            "_view_count": null,
            "_view_module": "@jupyter-widgets/base",
            "_view_module_version": "1.2.0",
            "_view_name": "LayoutView",
            "align_content": null,
            "align_items": null,
            "align_self": null,
            "border": null,
            "bottom": null,
            "display": null,
            "flex": null,
            "flex_flow": null,
            "grid_area": null,
            "grid_auto_columns": null,
            "grid_auto_flow": null,
            "grid_auto_rows": null,
            "grid_column": null,
            "grid_gap": null,
            "grid_row": null,
            "grid_template_areas": null,
            "grid_template_columns": null,
            "grid_template_rows": null,
            "height": null,
            "justify_content": null,
            "justify_items": null,
            "left": null,
            "margin": null,
            "max_height": null,
            "max_width": null,
            "min_height": null,
            "min_width": null,
            "object_fit": null,
            "object_position": null,
            "order": null,
            "overflow": null,
            "overflow_x": null,
            "overflow_y": null,
            "padding": null,
            "right": null,
            "top": null,
            "visibility": null,
            "width": null
          }
        },
        "750c7abd028743b9badff64bc747ae91": {
          "model_module": "@jupyter-widgets/base",
          "model_name": "LayoutModel",
          "model_module_version": "1.2.0",
          "state": {
            "_model_module": "@jupyter-widgets/base",
            "_model_module_version": "1.2.0",
            "_model_name": "LayoutModel",
            "_view_count": null,
            "_view_module": "@jupyter-widgets/base",
            "_view_module_version": "1.2.0",
            "_view_name": "LayoutView",
            "align_content": null,
            "align_items": null,
            "align_self": null,
            "border": null,
            "bottom": null,
            "display": null,
            "flex": null,
            "flex_flow": null,
            "grid_area": null,
            "grid_auto_columns": null,
            "grid_auto_flow": null,
            "grid_auto_rows": null,
            "grid_column": null,
            "grid_gap": null,
            "grid_row": null,
            "grid_template_areas": null,
            "grid_template_columns": null,
            "grid_template_rows": null,
            "height": null,
            "justify_content": null,
            "justify_items": null,
            "left": null,
            "margin": null,
            "max_height": null,
            "max_width": null,
            "min_height": null,
            "min_width": null,
            "object_fit": null,
            "object_position": null,
            "order": null,
            "overflow": null,
            "overflow_x": null,
            "overflow_y": null,
            "padding": null,
            "right": null,
            "top": null,
            "visibility": null,
            "width": null
          }
        },
        "522a6ec93ce44d8e9d011250bbc03eb7": {
          "model_module": "@jupyter-widgets/controls",
          "model_name": "TabModel",
          "model_module_version": "1.5.0",
          "state": {
            "_dom_classes": [],
            "_model_module": "@jupyter-widgets/controls",
            "_model_module_version": "1.5.0",
            "_model_name": "TabModel",
            "_titles": {
              "0": "Youtube",
              "1": "Bilibili"
            },
            "_view_count": null,
            "_view_module": "@jupyter-widgets/controls",
            "_view_module_version": "1.5.0",
            "_view_name": "TabView",
            "box_style": "",
            "children": [
              "IPY_MODEL_428b2638ad3542358ca78b4d8a55555b",
              "IPY_MODEL_ca9a1e31962b48448bd2047ccaffa960"
            ],
            "layout": "IPY_MODEL_8bbd52dbb2314932ac8b8a3dae731af1",
            "selected_index": 0
          }
        },
        "428b2638ad3542358ca78b4d8a55555b": {
          "model_module": "@jupyter-widgets/output",
          "model_name": "OutputModel",
          "model_module_version": "1.0.0",
          "state": {
            "_dom_classes": [],
            "_model_module": "@jupyter-widgets/output",
            "_model_module_version": "1.0.0",
            "_model_name": "OutputModel",
            "_view_count": null,
            "_view_module": "@jupyter-widgets/output",
            "_view_module_version": "1.0.0",
            "_view_name": "OutputView",
            "layout": "IPY_MODEL_1903156f042e42ddb572169f9aa012ff",
            "msg_id": "",
            "outputs": [
              {
                "output_type": "stream",
                "name": "stdout",
                "text": [
                  "Video available at https://youtube.com/watch?v=UwgA_SgG0TM\n"
                ]
              },
              {
                "output_type": "display_data",
                "data": {
                  "text/plain": "<IPython.lib.display.YouTubeVideo at 0x7850a6d2be90>",
                  "text/html": "\n        <iframe\n            width=\"854\"\n            height=\"480\"\n            src=\"https://www.youtube.com/embed/UwgA_SgG0TM?fs=1&rel=0\"\n            frameborder=\"0\"\n            allowfullscreen\n            \n        ></iframe>\n        ",
                  "image/jpeg": "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\n"
                },
                "metadata": {}
              }
            ]
          }
        },
        "ca9a1e31962b48448bd2047ccaffa960": {
          "model_module": "@jupyter-widgets/output",
          "model_name": "OutputModel",
          "model_module_version": "1.0.0",
          "state": {
            "_dom_classes": [],
            "_model_module": "@jupyter-widgets/output",
            "_model_module_version": "1.0.0",
            "_model_name": "OutputModel",
            "_view_count": null,
            "_view_module": "@jupyter-widgets/output",
            "_view_module_version": "1.0.0",
            "_view_name": "OutputView",
            "layout": "IPY_MODEL_e9ad25ab9bb84dbb85e6adfbf83deeb7",
            "msg_id": "",
            "outputs": [
              {
                "output_type": "stream",
                "name": "stdout",
                "text": [
                  "Video available at https://www.bilibili.com/video/BV1Pq4y1p7em\n"
                ]
              },
              {
                "output_type": "display_data",
                "data": {
                  "text/plain": "<__main__.PlayVideo at 0x7850a6d1e8d0>",
                  "text/html": "\n        <iframe\n            width=\"854\"\n            height=\"480\"\n            src=\"https://player.bilibili.com/player.html?bvid=BV1Pq4y1p7em&page=1?fs=1&autoplay=False\"\n            frameborder=\"0\"\n            allowfullscreen\n            \n        ></iframe>\n        "
                },
                "metadata": {}
              }
            ]
          }
        },
        "8bbd52dbb2314932ac8b8a3dae731af1": {
          "model_module": "@jupyter-widgets/base",
          "model_name": "LayoutModel",
          "model_module_version": "1.2.0",
          "state": {
            "_model_module": "@jupyter-widgets/base",
            "_model_module_version": "1.2.0",
            "_model_name": "LayoutModel",
            "_view_count": null,
            "_view_module": "@jupyter-widgets/base",
            "_view_module_version": "1.2.0",
            "_view_name": "LayoutView",
            "align_content": null,
            "align_items": null,
            "align_self": null,
            "border": null,
            "bottom": null,
            "display": null,
            "flex": null,
            "flex_flow": null,
            "grid_area": null,
            "grid_auto_columns": null,
            "grid_auto_flow": null,
            "grid_auto_rows": null,
            "grid_column": null,
            "grid_gap": null,
            "grid_row": null,
            "grid_template_areas": null,
            "grid_template_columns": null,
            "grid_template_rows": null,
            "height": null,
            "justify_content": null,
            "justify_items": null,
            "left": null,
            "margin": null,
            "max_height": null,
            "max_width": null,
            "min_height": null,
            "min_width": null,
            "object_fit": null,
            "object_position": null,
            "order": null,
            "overflow": null,
            "overflow_x": null,
            "overflow_y": null,
            "padding": null,
            "right": null,
            "top": null,
            "visibility": null,
            "width": null
          }
        },
        "1903156f042e42ddb572169f9aa012ff": {
          "model_module": "@jupyter-widgets/base",
          "model_name": "LayoutModel",
          "model_module_version": "1.2.0",
          "state": {
            "_model_module": "@jupyter-widgets/base",
            "_model_module_version": "1.2.0",
            "_model_name": "LayoutModel",
            "_view_count": null,
            "_view_module": "@jupyter-widgets/base",
            "_view_module_version": "1.2.0",
            "_view_name": "LayoutView",
            "align_content": null,
            "align_items": null,
            "align_self": null,
            "border": null,
            "bottom": null,
            "display": null,
            "flex": null,
            "flex_flow": null,
            "grid_area": null,
            "grid_auto_columns": null,
            "grid_auto_flow": null,
            "grid_auto_rows": null,
            "grid_column": null,
            "grid_gap": null,
            "grid_row": null,
            "grid_template_areas": null,
            "grid_template_columns": null,
            "grid_template_rows": null,
            "height": null,
            "justify_content": null,
            "justify_items": null,
            "left": null,
            "margin": null,
            "max_height": null,
            "max_width": null,
            "min_height": null,
            "min_width": null,
            "object_fit": null,
            "object_position": null,
            "order": null,
            "overflow": null,
            "overflow_x": null,
            "overflow_y": null,
            "padding": null,
            "right": null,
            "top": null,
            "visibility": null,
            "width": null
          }
        },
        "e9ad25ab9bb84dbb85e6adfbf83deeb7": {
          "model_module": "@jupyter-widgets/base",
          "model_name": "LayoutModel",
          "model_module_version": "1.2.0",
          "state": {
            "_model_module": "@jupyter-widgets/base",
            "_model_module_version": "1.2.0",
            "_model_name": "LayoutModel",
            "_view_count": null,
            "_view_module": "@jupyter-widgets/base",
            "_view_module_version": "1.2.0",
            "_view_name": "LayoutView",
            "align_content": null,
            "align_items": null,
            "align_self": null,
            "border": null,
            "bottom": null,
            "display": null,
            "flex": null,
            "flex_flow": null,
            "grid_area": null,
            "grid_auto_columns": null,
            "grid_auto_flow": null,
            "grid_auto_rows": null,
            "grid_column": null,
            "grid_gap": null,
            "grid_row": null,
            "grid_template_areas": null,
            "grid_template_columns": null,
            "grid_template_rows": null,
            "height": null,
            "justify_content": null,
            "justify_items": null,
            "left": null,
            "margin": null,
            "max_height": null,
            "max_width": null,
            "min_height": null,
            "min_width": null,
            "object_fit": null,
            "object_position": null,
            "order": null,
            "overflow": null,
            "overflow_x": null,
            "overflow_y": null,
            "padding": null,
            "right": null,
            "top": null,
            "visibility": null,
            "width": null
          }
        },
        "30374da15b054f38868e62de0bcf0629": {
          "model_module": "@jupyter-widgets/controls",
          "model_name": "TabModel",
          "model_module_version": "1.5.0",
          "state": {
            "_dom_classes": [],
            "_model_module": "@jupyter-widgets/controls",
            "_model_module_version": "1.5.0",
            "_model_name": "TabModel",
            "_titles": {
              "0": "Youtube",
              "1": "Bilibili"
            },
            "_view_count": null,
            "_view_module": "@jupyter-widgets/controls",
            "_view_module_version": "1.5.0",
            "_view_name": "TabView",
            "box_style": "",
            "children": [
              "IPY_MODEL_56cf5f193eb841ee83c4cbd232d00ba2",
              "IPY_MODEL_e0be5d1293be45dc970c098612379124"
            ],
            "layout": "IPY_MODEL_5052267d929d4d4ea3f1684ac5471361",
            "selected_index": 0
          }
        },
        "56cf5f193eb841ee83c4cbd232d00ba2": {
          "model_module": "@jupyter-widgets/output",
          "model_name": "OutputModel",
          "model_module_version": "1.0.0",
          "state": {
            "_dom_classes": [],
            "_model_module": "@jupyter-widgets/output",
            "_model_module_version": "1.0.0",
            "_model_name": "OutputModel",
            "_view_count": null,
            "_view_module": "@jupyter-widgets/output",
            "_view_module_version": "1.0.0",
            "_view_name": "OutputView",
            "layout": "IPY_MODEL_5638f47861b347efba3f0eadf07718cc",
            "msg_id": "",
            "outputs": [
              {
                "output_type": "stream",
                "name": "stdout",
                "text": [
                  "Video available at https://youtube.com/watch?v=8s22ffAfGwI\n"
                ]
              },
              {
                "output_type": "display_data",
                "data": {
                  "text/plain": "<IPython.lib.display.YouTubeVideo at 0x7850a6d1f150>",
                  "text/html": "\n        <iframe\n            width=\"854\"\n            height=\"480\"\n            src=\"https://www.youtube.com/embed/8s22ffAfGwI?fs=1&rel=0\"\n            frameborder=\"0\"\n            allowfullscreen\n            \n        ></iframe>\n        ",
                  "image/jpeg": "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\n"
                },
                "metadata": {}
              }
            ]
          }
        },
        "e0be5d1293be45dc970c098612379124": {
          "model_module": "@jupyter-widgets/output",
          "model_name": "OutputModel",
          "model_module_version": "1.0.0",
          "state": {
            "_dom_classes": [],
            "_model_module": "@jupyter-widgets/output",
            "_model_module_version": "1.0.0",
            "_model_name": "OutputModel",
            "_view_count": null,
            "_view_module": "@jupyter-widgets/output",
            "_view_module_version": "1.0.0",
            "_view_name": "OutputView",
            "layout": "IPY_MODEL_608c3f37b7134811b0bfc30b493e3428",
            "msg_id": "",
            "outputs": [
              {
                "output_type": "stream",
                "name": "stdout",
                "text": [
                  "Video available at https://www.bilibili.com/video/BV1Rf4y157bw\n"
                ]
              },
              {
                "output_type": "display_data",
                "data": {
                  "text/plain": "<__main__.PlayVideo at 0x7850a77f3ed0>",
                  "text/html": "\n        <iframe\n            width=\"854\"\n            height=\"480\"\n            src=\"https://player.bilibili.com/player.html?bvid=BV1Rf4y157bw&page=1?fs=1&autoplay=False\"\n            frameborder=\"0\"\n            allowfullscreen\n            \n        ></iframe>\n        "
                },
                "metadata": {}
              }
            ]
          }
        },
        "5052267d929d4d4ea3f1684ac5471361": {
          "model_module": "@jupyter-widgets/base",
          "model_name": "LayoutModel",
          "model_module_version": "1.2.0",
          "state": {
            "_model_module": "@jupyter-widgets/base",
            "_model_module_version": "1.2.0",
            "_model_name": "LayoutModel",
            "_view_count": null,
            "_view_module": "@jupyter-widgets/base",
            "_view_module_version": "1.2.0",
            "_view_name": "LayoutView",
            "align_content": null,
            "align_items": null,
            "align_self": null,
            "border": null,
            "bottom": null,
            "display": null,
            "flex": null,
            "flex_flow": null,
            "grid_area": null,
            "grid_auto_columns": null,
            "grid_auto_flow": null,
            "grid_auto_rows": null,
            "grid_column": null,
            "grid_gap": null,
            "grid_row": null,
            "grid_template_areas": null,
            "grid_template_columns": null,
            "grid_template_rows": null,
            "height": null,
            "justify_content": null,
            "justify_items": null,
            "left": null,
            "margin": null,
            "max_height": null,
            "max_width": null,
            "min_height": null,
            "min_width": null,
            "object_fit": null,
            "object_position": null,
            "order": null,
            "overflow": null,
            "overflow_x": null,
            "overflow_y": null,
            "padding": null,
            "right": null,
            "top": null,
            "visibility": null,
            "width": null
          }
        },
        "5638f47861b347efba3f0eadf07718cc": {
          "model_module": "@jupyter-widgets/base",
          "model_name": "LayoutModel",
          "model_module_version": "1.2.0",
          "state": {
            "_model_module": "@jupyter-widgets/base",
            "_model_module_version": "1.2.0",
            "_model_name": "LayoutModel",
            "_view_count": null,
            "_view_module": "@jupyter-widgets/base",
            "_view_module_version": "1.2.0",
            "_view_name": "LayoutView",
            "align_content": null,
            "align_items": null,
            "align_self": null,
            "border": null,
            "bottom": null,
            "display": null,
            "flex": null,
            "flex_flow": null,
            "grid_area": null,
            "grid_auto_columns": null,
            "grid_auto_flow": null,
            "grid_auto_rows": null,
            "grid_column": null,
            "grid_gap": null,
            "grid_row": null,
            "grid_template_areas": null,
            "grid_template_columns": null,
            "grid_template_rows": null,
            "height": null,
            "justify_content": null,
            "justify_items": null,
            "left": null,
            "margin": null,
            "max_height": null,
            "max_width": null,
            "min_height": null,
            "min_width": null,
            "object_fit": null,
            "object_position": null,
            "order": null,
            "overflow": null,
            "overflow_x": null,
            "overflow_y": null,
            "padding": null,
            "right": null,
            "top": null,
            "visibility": null,
            "width": null
          }
        },
        "608c3f37b7134811b0bfc30b493e3428": {
          "model_module": "@jupyter-widgets/base",
          "model_name": "LayoutModel",
          "model_module_version": "1.2.0",
          "state": {
            "_model_module": "@jupyter-widgets/base",
            "_model_module_version": "1.2.0",
            "_model_name": "LayoutModel",
            "_view_count": null,
            "_view_module": "@jupyter-widgets/base",
            "_view_module_version": "1.2.0",
            "_view_name": "LayoutView",
            "align_content": null,
            "align_items": null,
            "align_self": null,
            "border": null,
            "bottom": null,
            "display": null,
            "flex": null,
            "flex_flow": null,
            "grid_area": null,
            "grid_auto_columns": null,
            "grid_auto_flow": null,
            "grid_auto_rows": null,
            "grid_column": null,
            "grid_gap": null,
            "grid_row": null,
            "grid_template_areas": null,
            "grid_template_columns": null,
            "grid_template_rows": null,
            "height": null,
            "justify_content": null,
            "justify_items": null,
            "left": null,
            "margin": null,
            "max_height": null,
            "max_width": null,
            "min_height": null,
            "min_width": null,
            "object_fit": null,
            "object_position": null,
            "order": null,
            "overflow": null,
            "overflow_x": null,
            "overflow_y": null,
            "padding": null,
            "right": null,
            "top": null,
            "visibility": null,
            "width": null
          }
        },
        "e923b74eb70a4672b95aa3ad45c4eb40": {
          "model_module": "@jupyter-widgets/controls",
          "model_name": "TabModel",
          "model_module_version": "1.5.0",
          "state": {
            "_dom_classes": [],
            "_model_module": "@jupyter-widgets/controls",
            "_model_module_version": "1.5.0",
            "_model_name": "TabModel",
            "_titles": {
              "0": "Youtube",
              "1": "Bilibili"
            },
            "_view_count": null,
            "_view_module": "@jupyter-widgets/controls",
            "_view_module_version": "1.5.0",
            "_view_name": "TabView",
            "box_style": "",
            "children": [
              "IPY_MODEL_c075fef405574253984ca0bc381aeaa2",
              "IPY_MODEL_dde4052b236b46208b6897f3c229f1ae"
            ],
            "layout": "IPY_MODEL_c9808a3d8fa64d1fafbe2c6670250abd",
            "selected_index": 0
          }
        },
        "c075fef405574253984ca0bc381aeaa2": {
          "model_module": "@jupyter-widgets/output",
          "model_name": "OutputModel",
          "model_module_version": "1.0.0",
          "state": {
            "_dom_classes": [],
            "_model_module": "@jupyter-widgets/output",
            "_model_module_version": "1.0.0",
            "_model_name": "OutputModel",
            "_view_count": null,
            "_view_module": "@jupyter-widgets/output",
            "_view_module_version": "1.0.0",
            "_view_name": "OutputView",
            "layout": "IPY_MODEL_853c44a625d6472ca6e9c5ed0769070e",
            "msg_id": "",
            "outputs": [
              {
                "output_type": "stream",
                "name": "stdout",
                "text": [
                  "Video available at https://youtube.com/watch?v=2z1YX5PonV4\n"
                ]
              },
              {
                "output_type": "display_data",
                "data": {
                  "text/plain": "<IPython.lib.display.YouTubeVideo at 0x7850a7737490>",
                  "text/html": "\n        <iframe\n            width=\"854\"\n            height=\"480\"\n            src=\"https://www.youtube.com/embed/2z1YX5PonV4?fs=1&rel=0\"\n            frameborder=\"0\"\n            allowfullscreen\n            \n        ></iframe>\n        ",
                  "image/jpeg": "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\n"
                },
                "metadata": {}
              }
            ]
          }
        },
        "dde4052b236b46208b6897f3c229f1ae": {
          "model_module": "@jupyter-widgets/output",
          "model_name": "OutputModel",
          "model_module_version": "1.0.0",
          "state": {
            "_dom_classes": [],
            "_model_module": "@jupyter-widgets/output",
            "_model_module_version": "1.0.0",
            "_model_name": "OutputModel",
            "_view_count": null,
            "_view_module": "@jupyter-widgets/output",
            "_view_module_version": "1.0.0",
            "_view_name": "OutputView",
            "layout": "IPY_MODEL_960d396d351c4d618d3385da8267465b",
            "msg_id": "",
            "outputs": [
              {
                "output_type": "stream",
                "name": "stdout",
                "text": [
                  "Video available at https://www.bilibili.com/video/BV1c64y1B7ZG\n"
                ]
              },
              {
                "output_type": "display_data",
                "data": {
                  "text/plain": "<__main__.PlayVideo at 0x7850a7778390>",
                  "text/html": "\n        <iframe\n            width=\"854\"\n            height=\"480\"\n            src=\"https://player.bilibili.com/player.html?bvid=BV1c64y1B7ZG&page=1?fs=1&autoplay=False\"\n            frameborder=\"0\"\n            allowfullscreen\n            \n        ></iframe>\n        "
                },
                "metadata": {}
              }
            ]
          }
        },
        "c9808a3d8fa64d1fafbe2c6670250abd": {
          "model_module": "@jupyter-widgets/base",
          "model_name": "LayoutModel",
          "model_module_version": "1.2.0",
          "state": {
            "_model_module": "@jupyter-widgets/base",
            "_model_module_version": "1.2.0",
            "_model_name": "LayoutModel",
            "_view_count": null,
            "_view_module": "@jupyter-widgets/base",
            "_view_module_version": "1.2.0",
            "_view_name": "LayoutView",
            "align_content": null,
            "align_items": null,
            "align_self": null,
            "border": null,
            "bottom": null,
            "display": null,
            "flex": null,
            "flex_flow": null,
            "grid_area": null,
            "grid_auto_columns": null,
            "grid_auto_flow": null,
            "grid_auto_rows": null,
            "grid_column": null,
            "grid_gap": null,
            "grid_row": null,
            "grid_template_areas": null,
            "grid_template_columns": null,
            "grid_template_rows": null,
            "height": null,
            "justify_content": null,
            "justify_items": null,
            "left": null,
            "margin": null,
            "max_height": null,
            "max_width": null,
            "min_height": null,
            "min_width": null,
            "object_fit": null,
            "object_position": null,
            "order": null,
            "overflow": null,
            "overflow_x": null,
            "overflow_y": null,
            "padding": null,
            "right": null,
            "top": null,
            "visibility": null,
            "width": null
          }
        },
        "853c44a625d6472ca6e9c5ed0769070e": {
          "model_module": "@jupyter-widgets/base",
          "model_name": "LayoutModel",
          "model_module_version": "1.2.0",
          "state": {
            "_model_module": "@jupyter-widgets/base",
            "_model_module_version": "1.2.0",
            "_model_name": "LayoutModel",
            "_view_count": null,
            "_view_module": "@jupyter-widgets/base",
            "_view_module_version": "1.2.0",
            "_view_name": "LayoutView",
            "align_content": null,
            "align_items": null,
            "align_self": null,
            "border": null,
            "bottom": null,
            "display": null,
            "flex": null,
            "flex_flow": null,
            "grid_area": null,
            "grid_auto_columns": null,
            "grid_auto_flow": null,
            "grid_auto_rows": null,
            "grid_column": null,
            "grid_gap": null,
            "grid_row": null,
            "grid_template_areas": null,
            "grid_template_columns": null,
            "grid_template_rows": null,
            "height": null,
            "justify_content": null,
            "justify_items": null,
            "left": null,
            "margin": null,
            "max_height": null,
            "max_width": null,
            "min_height": null,
            "min_width": null,
            "object_fit": null,
            "object_position": null,
            "order": null,
            "overflow": null,
            "overflow_x": null,
            "overflow_y": null,
            "padding": null,
            "right": null,
            "top": null,
            "visibility": null,
            "width": null
          }
        },
        "960d396d351c4d618d3385da8267465b": {
          "model_module": "@jupyter-widgets/base",
          "model_name": "LayoutModel",
          "model_module_version": "1.2.0",
          "state": {
            "_model_module": "@jupyter-widgets/base",
            "_model_module_version": "1.2.0",
            "_model_name": "LayoutModel",
            "_view_count": null,
            "_view_module": "@jupyter-widgets/base",
            "_view_module_version": "1.2.0",
            "_view_name": "LayoutView",
            "align_content": null,
            "align_items": null,
            "align_self": null,
            "border": null,
            "bottom": null,
            "display": null,
            "flex": null,
            "flex_flow": null,
            "grid_area": null,
            "grid_auto_columns": null,
            "grid_auto_flow": null,
            "grid_auto_rows": null,
            "grid_column": null,
            "grid_gap": null,
            "grid_row": null,
            "grid_template_areas": null,
            "grid_template_columns": null,
            "grid_template_rows": null,
            "height": null,
            "justify_content": null,
            "justify_items": null,
            "left": null,
            "margin": null,
            "max_height": null,
            "max_width": null,
            "min_height": null,
            "min_width": null,
            "object_fit": null,
            "object_position": null,
            "order": null,
            "overflow": null,
            "overflow_x": null,
            "overflow_y": null,
            "padding": null,
            "right": null,
            "top": null,
            "visibility": null,
            "width": null
          }
        },
        "30999305e4524a58af7f6a0fc745b5e4": {
          "model_module": "@jupyter-widgets/controls",
          "model_name": "TabModel",
          "model_module_version": "1.5.0",
          "state": {
            "_dom_classes": [],
            "_model_module": "@jupyter-widgets/controls",
            "_model_module_version": "1.5.0",
            "_model_name": "TabModel",
            "_titles": {
              "0": "Youtube",
              "1": "Bilibili"
            },
            "_view_count": null,
            "_view_module": "@jupyter-widgets/controls",
            "_view_module_version": "1.5.0",
            "_view_name": "TabView",
            "box_style": "",
            "children": [
              "IPY_MODEL_0640f461900f48639580a34218fb7c3b",
              "IPY_MODEL_8e9a100c50944040b27119b77452e9d5"
            ],
            "layout": "IPY_MODEL_d1a8b93c5236444c9577338ddda1e2d3",
            "selected_index": 0
          }
        },
        "0640f461900f48639580a34218fb7c3b": {
          "model_module": "@jupyter-widgets/output",
          "model_name": "OutputModel",
          "model_module_version": "1.0.0",
          "state": {
            "_dom_classes": [],
            "_model_module": "@jupyter-widgets/output",
            "_model_module_version": "1.0.0",
            "_model_name": "OutputModel",
            "_view_count": null,
            "_view_module": "@jupyter-widgets/output",
            "_view_module_version": "1.0.0",
            "_view_name": "OutputView",
            "layout": "IPY_MODEL_0ac36ae3b32943aaa99cb047079cf706",
            "msg_id": "",
            "outputs": [
              {
                "output_type": "stream",
                "name": "stdout",
                "text": [
                  "Video available at https://youtube.com/watch?v=IBYFCNyBcF8\n"
                ]
              },
              {
                "output_type": "display_data",
                "data": {
                  "text/plain": "<IPython.lib.display.YouTubeVideo at 0x7850a73ab110>",
                  "text/html": "\n        <iframe\n            width=\"854\"\n            height=\"480\"\n            src=\"https://www.youtube.com/embed/IBYFCNyBcF8?fs=1&rel=0\"\n            frameborder=\"0\"\n            allowfullscreen\n            \n        ></iframe>\n        ",
                  "image/jpeg": "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\n"
                },
                "metadata": {}
              }
            ]
          }
        },
        "8e9a100c50944040b27119b77452e9d5": {
          "model_module": "@jupyter-widgets/output",
          "model_name": "OutputModel",
          "model_module_version": "1.0.0",
          "state": {
            "_dom_classes": [],
            "_model_module": "@jupyter-widgets/output",
            "_model_module_version": "1.0.0",
            "_model_name": "OutputModel",
            "_view_count": null,
            "_view_module": "@jupyter-widgets/output",
            "_view_module_version": "1.0.0",
            "_view_name": "OutputView",
            "layout": "IPY_MODEL_50349c33eb5d4a40aea21bfdc311bfc2",
            "msg_id": "",
            "outputs": [
              {
                "output_type": "stream",
                "name": "stdout",
                "text": [
                  "Video available at https://www.bilibili.com/video/BV1UP4y1s7gv\n"
                ]
              },
              {
                "output_type": "display_data",
                "data": {
                  "text/plain": "<__main__.PlayVideo at 0x7850a7701710>",
                  "text/html": "\n        <iframe\n            width=\"854\"\n            height=\"480\"\n            src=\"https://player.bilibili.com/player.html?bvid=BV1UP4y1s7gv&page=1?fs=1&autoplay=False\"\n            frameborder=\"0\"\n            allowfullscreen\n            \n        ></iframe>\n        "
                },
                "metadata": {}
              }
            ]
          }
        },
        "d1a8b93c5236444c9577338ddda1e2d3": {
          "model_module": "@jupyter-widgets/base",
          "model_name": "LayoutModel",
          "model_module_version": "1.2.0",
          "state": {
            "_model_module": "@jupyter-widgets/base",
            "_model_module_version": "1.2.0",
            "_model_name": "LayoutModel",
            "_view_count": null,
            "_view_module": "@jupyter-widgets/base",
            "_view_module_version": "1.2.0",
            "_view_name": "LayoutView",
            "align_content": null,
            "align_items": null,
            "align_self": null,
            "border": null,
            "bottom": null,
            "display": null,
            "flex": null,
            "flex_flow": null,
            "grid_area": null,
            "grid_auto_columns": null,
            "grid_auto_flow": null,
            "grid_auto_rows": null,
            "grid_column": null,
            "grid_gap": null,
            "grid_row": null,
            "grid_template_areas": null,
            "grid_template_columns": null,
            "grid_template_rows": null,
            "height": null,
            "justify_content": null,
            "justify_items": null,
            "left": null,
            "margin": null,
            "max_height": null,
            "max_width": null,
            "min_height": null,
            "min_width": null,
            "object_fit": null,
            "object_position": null,
            "order": null,
            "overflow": null,
            "overflow_x": null,
            "overflow_y": null,
            "padding": null,
            "right": null,
            "top": null,
            "visibility": null,
            "width": null
          }
        },
        "0ac36ae3b32943aaa99cb047079cf706": {
          "model_module": "@jupyter-widgets/base",
          "model_name": "LayoutModel",
          "model_module_version": "1.2.0",
          "state": {
            "_model_module": "@jupyter-widgets/base",
            "_model_module_version": "1.2.0",
            "_model_name": "LayoutModel",
            "_view_count": null,
            "_view_module": "@jupyter-widgets/base",
            "_view_module_version": "1.2.0",
            "_view_name": "LayoutView",
            "align_content": null,
            "align_items": null,
            "align_self": null,
            "border": null,
            "bottom": null,
            "display": null,
            "flex": null,
            "flex_flow": null,
            "grid_area": null,
            "grid_auto_columns": null,
            "grid_auto_flow": null,
            "grid_auto_rows": null,
            "grid_column": null,
            "grid_gap": null,
            "grid_row": null,
            "grid_template_areas": null,
            "grid_template_columns": null,
            "grid_template_rows": null,
            "height": null,
            "justify_content": null,
            "justify_items": null,
            "left": null,
            "margin": null,
            "max_height": null,
            "max_width": null,
            "min_height": null,
            "min_width": null,
            "object_fit": null,
            "object_position": null,
            "order": null,
            "overflow": null,
            "overflow_x": null,
            "overflow_y": null,
            "padding": null,
            "right": null,
            "top": null,
            "visibility": null,
            "width": null
          }
        },
        "50349c33eb5d4a40aea21bfdc311bfc2": {
          "model_module": "@jupyter-widgets/base",
          "model_name": "LayoutModel",
          "model_module_version": "1.2.0",
          "state": {
            "_model_module": "@jupyter-widgets/base",
            "_model_module_version": "1.2.0",
            "_model_name": "LayoutModel",
            "_view_count": null,
            "_view_module": "@jupyter-widgets/base",
            "_view_module_version": "1.2.0",
            "_view_name": "LayoutView",
            "align_content": null,
            "align_items": null,
            "align_self": null,
            "border": null,
            "bottom": null,
            "display": null,
            "flex": null,
            "flex_flow": null,
            "grid_area": null,
            "grid_auto_columns": null,
            "grid_auto_flow": null,
            "grid_auto_rows": null,
            "grid_column": null,
            "grid_gap": null,
            "grid_row": null,
            "grid_template_areas": null,
            "grid_template_columns": null,
            "grid_template_rows": null,
            "height": null,
            "justify_content": null,
            "justify_items": null,
            "left": null,
            "margin": null,
            "max_height": null,
            "max_width": null,
            "min_height": null,
            "min_width": null,
            "object_fit": null,
            "object_position": null,
            "order": null,
            "overflow": null,
            "overflow_x": null,
            "overflow_y": null,
            "padding": null,
            "right": null,
            "top": null,
            "visibility": null,
            "width": null
          }
        },
        "87736d353c83474cb5065ff39bf455c6": {
          "model_module": "@jupyter-widgets/controls",
          "model_name": "TabModel",
          "model_module_version": "1.5.0",
          "state": {
            "_dom_classes": [],
            "_model_module": "@jupyter-widgets/controls",
            "_model_module_version": "1.5.0",
            "_model_name": "TabModel",
            "_titles": {
              "0": "Youtube",
              "1": "Bilibili"
            },
            "_view_count": null,
            "_view_module": "@jupyter-widgets/controls",
            "_view_module_version": "1.5.0",
            "_view_name": "TabView",
            "box_style": "",
            "children": [
              "IPY_MODEL_19064642e9424a1ea42181feadcdbcab",
              "IPY_MODEL_115aebadf8ad415ab0beb721e3055252"
            ],
            "layout": "IPY_MODEL_9cb0efd076e24fa486e29406f1c6bd8e",
            "selected_index": 0
          }
        },
        "19064642e9424a1ea42181feadcdbcab": {
          "model_module": "@jupyter-widgets/output",
          "model_name": "OutputModel",
          "model_module_version": "1.0.0",
          "state": {
            "_dom_classes": [],
            "_model_module": "@jupyter-widgets/output",
            "_model_module_version": "1.0.0",
            "_model_name": "OutputModel",
            "_view_count": null,
            "_view_module": "@jupyter-widgets/output",
            "_view_module_version": "1.0.0",
            "_view_name": "OutputView",
            "layout": "IPY_MODEL_a6b4505e357543c48f0bf21b4ee4b2d9",
            "msg_id": "",
            "outputs": [
              {
                "output_type": "stream",
                "name": "stdout",
                "text": [
                  "Video available at https://youtube.com/watch?v=jzTbQACq7KE\n"
                ]
              },
              {
                "output_type": "display_data",
                "data": {
                  "text/plain": "<IPython.lib.display.YouTubeVideo at 0x78508d718710>",
                  "text/html": "\n        <iframe\n            width=\"854\"\n            height=\"480\"\n            src=\"https://www.youtube.com/embed/jzTbQACq7KE?fs=1&rel=0\"\n            frameborder=\"0\"\n            allowfullscreen\n            \n        ></iframe>\n        ",
                  "image/jpeg": "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\n"
                },
                "metadata": {}
              }
            ]
          }
        },
        "115aebadf8ad415ab0beb721e3055252": {
          "model_module": "@jupyter-widgets/output",
          "model_name": "OutputModel",
          "model_module_version": "1.0.0",
          "state": {
            "_dom_classes": [],
            "_model_module": "@jupyter-widgets/output",
            "_model_module_version": "1.0.0",
            "_model_name": "OutputModel",
            "_view_count": null,
            "_view_module": "@jupyter-widgets/output",
            "_view_module_version": "1.0.0",
            "_view_name": "OutputView",
            "layout": "IPY_MODEL_0cb8288ca7f5457e8b1c9abd7403e5d0",
            "msg_id": "",
            "outputs": [
              {
                "output_type": "stream",
                "name": "stdout",
                "text": [
                  "Video available at https://www.bilibili.com/video/BV1MU4y1H7WH\n"
                ]
              },
              {
                "output_type": "display_data",
                "data": {
                  "text/plain": "<__main__.PlayVideo at 0x7850a06c6d50>",
                  "text/html": "\n        <iframe\n            width=\"854\"\n            height=\"480\"\n            src=\"https://player.bilibili.com/player.html?bvid=BV1MU4y1H7WH&page=1?fs=1&autoplay=False\"\n            frameborder=\"0\"\n            allowfullscreen\n            \n        ></iframe>\n        "
                },
                "metadata": {}
              }
            ]
          }
        },
        "9cb0efd076e24fa486e29406f1c6bd8e": {
          "model_module": "@jupyter-widgets/base",
          "model_name": "LayoutModel",
          "model_module_version": "1.2.0",
          "state": {
            "_model_module": "@jupyter-widgets/base",
            "_model_module_version": "1.2.0",
            "_model_name": "LayoutModel",
            "_view_count": null,
            "_view_module": "@jupyter-widgets/base",
            "_view_module_version": "1.2.0",
            "_view_name": "LayoutView",
            "align_content": null,
            "align_items": null,
            "align_self": null,
            "border": null,
            "bottom": null,
            "display": null,
            "flex": null,
            "flex_flow": null,
            "grid_area": null,
            "grid_auto_columns": null,
            "grid_auto_flow": null,
            "grid_auto_rows": null,
            "grid_column": null,
            "grid_gap": null,
            "grid_row": null,
            "grid_template_areas": null,
            "grid_template_columns": null,
            "grid_template_rows": null,
            "height": null,
            "justify_content": null,
            "justify_items": null,
            "left": null,
            "margin": null,
            "max_height": null,
            "max_width": null,
            "min_height": null,
            "min_width": null,
            "object_fit": null,
            "object_position": null,
            "order": null,
            "overflow": null,
            "overflow_x": null,
            "overflow_y": null,
            "padding": null,
            "right": null,
            "top": null,
            "visibility": null,
            "width": null
          }
        },
        "a6b4505e357543c48f0bf21b4ee4b2d9": {
          "model_module": "@jupyter-widgets/base",
          "model_name": "LayoutModel",
          "model_module_version": "1.2.0",
          "state": {
            "_model_module": "@jupyter-widgets/base",
            "_model_module_version": "1.2.0",
            "_model_name": "LayoutModel",
            "_view_count": null,
            "_view_module": "@jupyter-widgets/base",
            "_view_module_version": "1.2.0",
            "_view_name": "LayoutView",
            "align_content": null,
            "align_items": null,
            "align_self": null,
            "border": null,
            "bottom": null,
            "display": null,
            "flex": null,
            "flex_flow": null,
            "grid_area": null,
            "grid_auto_columns": null,
            "grid_auto_flow": null,
            "grid_auto_rows": null,
            "grid_column": null,
            "grid_gap": null,
            "grid_row": null,
            "grid_template_areas": null,
            "grid_template_columns": null,
            "grid_template_rows": null,
            "height": null,
            "justify_content": null,
            "justify_items": null,
            "left": null,
            "margin": null,
            "max_height": null,
            "max_width": null,
            "min_height": null,
            "min_width": null,
            "object_fit": null,
            "object_position": null,
            "order": null,
            "overflow": null,
            "overflow_x": null,
            "overflow_y": null,
            "padding": null,
            "right": null,
            "top": null,
            "visibility": null,
            "width": null
          }
        },
        "0cb8288ca7f5457e8b1c9abd7403e5d0": {
          "model_module": "@jupyter-widgets/base",
          "model_name": "LayoutModel",
          "model_module_version": "1.2.0",
          "state": {
            "_model_module": "@jupyter-widgets/base",
            "_model_module_version": "1.2.0",
            "_model_name": "LayoutModel",
            "_view_count": null,
            "_view_module": "@jupyter-widgets/base",
            "_view_module_version": "1.2.0",
            "_view_name": "LayoutView",
            "align_content": null,
            "align_items": null,
            "align_self": null,
            "border": null,
            "bottom": null,
            "display": null,
            "flex": null,
            "flex_flow": null,
            "grid_area": null,
            "grid_auto_columns": null,
            "grid_auto_flow": null,
            "grid_auto_rows": null,
            "grid_column": null,
            "grid_gap": null,
            "grid_row": null,
            "grid_template_areas": null,
            "grid_template_columns": null,
            "grid_template_rows": null,
            "height": null,
            "justify_content": null,
            "justify_items": null,
            "left": null,
            "margin": null,
            "max_height": null,
            "max_width": null,
            "min_height": null,
            "min_width": null,
            "object_fit": null,
            "object_position": null,
            "order": null,
            "overflow": null,
            "overflow_x": null,
            "overflow_y": null,
            "padding": null,
            "right": null,
            "top": null,
            "visibility": null,
            "width": null
          }
        }
      }
    }
  },
  "nbformat": 4,
  "nbformat_minor": 0
}