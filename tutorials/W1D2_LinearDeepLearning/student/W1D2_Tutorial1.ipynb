{
  "cells": [
    {
      "cell_type": "markdown",
      "metadata": {
        "id": "view-in-github",
        "colab_type": "text"
      },
      "source": [
        "<a href=\"https://colab.research.google.com/github/AminFathollahi/NMA_DL/blob/main/tutorials/W1D2_LinearDeepLearning/student/W1D2_Tutorial1.ipynb\" target=\"_parent\"><img src=\"https://colab.research.google.com/assets/colab-badge.svg\" alt=\"Open In Colab\"/></a>"
      ]
    },
    {
      "cell_type": "markdown",
      "metadata": {
        "execution": {},
        "id": "1N-fNxIFluQz"
      },
      "source": [
        "# Tutorial 1: Gradient Descent and AutoGrad\n",
        "\n",
        "**Week 1, Day 2: Linear Deep Learning**\n",
        "\n",
        "**By Neuromatch Academy**\n",
        "\n",
        "__Content creators:__ Saeed Salehi, Vladimir Haltakov, Andrew Saxe\n",
        "\n",
        "__Content reviewers:__ Polina Turishcheva, Antoine De Comite, Kelson Shilling-Scrivo\n",
        "\n",
        "__Content editors:__ Anoop Kulkarni, Spiros Chavlis\n",
        "\n",
        "__Production editors:__ Khalid Almubarak, Gagana B, Spiros Chavlis"
      ]
    },
    {
      "cell_type": "markdown",
      "metadata": {
        "execution": {},
        "id": "KgUiSe03luQ3"
      },
      "source": [
        "---\n",
        "# Tutorial Objectives\n",
        "\n",
        "Day 2 Tutorial 1 will continue on buiding PyTorch skillset and motivate its core functionality: Autograd. In this notebook, we will cover the key concepts and ideas of:\n",
        "\n",
        "* Gradient descent\n",
        "* PyTorch Autograd\n",
        "* PyTorch `nn` module"
      ]
    },
    {
      "cell_type": "code",
      "execution_count": null,
      "metadata": {
        "cellView": "form",
        "execution": {},
        "id": "sm08yDyfluQ5"
      },
      "outputs": [],
      "source": [
        "# @title Tutorial slides\n",
        "from IPython.display import IFrame\n",
        "link_id = \"3qevp\"\n",
        "print(f\"If you want to download the slides: https://osf.io/download/{link_id}/\")\n",
        "IFrame(src=f\"https://mfr.ca-1.osf.io/render?url=https://osf.io/{link_id}/?direct%26mode=render%26action=download%26mode=render\", width=854, height=480)"
      ]
    },
    {
      "cell_type": "markdown",
      "metadata": {
        "execution": {},
        "id": "OyEZUtnLluQ6"
      },
      "source": [
        "---\n",
        "# Setup\n",
        "\n",
        "This a GPU-Free tutorial!\n"
      ]
    },
    {
      "cell_type": "code",
      "execution_count": 9,
      "metadata": {
        "execution": {},
        "colab": {
          "base_uri": "https://localhost:8080/"
        },
        "id": "LgBmQ3mkluQ7",
        "outputId": "6cb616fc-facb-4385-de12-d1263cff5a6a"
      },
      "outputs": [
        {
          "output_type": "stream",
          "name": "stdout",
          "text": [
            "  Preparing metadata (setup.py) ... \u001b[?25l\u001b[?25hdone\n",
            "  Preparing metadata (setup.py) ... \u001b[?25l\u001b[?25hdone\n",
            "\u001b[2K   \u001b[90m━━━━━━━━━━━━━━━━━━━━━━━━━━━━━━━━━━━━━━━━\u001b[0m \u001b[32m1.6/1.6 MB\u001b[0m \u001b[31m31.8 MB/s\u001b[0m eta \u001b[36m0:00:00\u001b[0m\n",
            "\u001b[?25h  Building wheel for vibecheck (setup.py) ... \u001b[?25l\u001b[?25hdone\n",
            "  Building wheel for datatops (setup.py) ... \u001b[?25l\u001b[?25hdone\n"
          ]
        }
      ],
      "source": [
        "# @title Install and import feedback gadget\n",
        "\n",
        "!pip3 install vibecheck datatops --quiet\n",
        "\n",
        "from vibecheck import DatatopsContentReviewContainer\n",
        "def content_review(notebook_section: str):\n",
        "    return DatatopsContentReviewContainer(\n",
        "        \"\",  # No text prompt\n",
        "        notebook_section,\n",
        "        {\n",
        "            \"url\": \"https://pmyvdlilci.execute-api.us-east-1.amazonaws.com/klab\",\n",
        "            \"name\": \"neuromatch_dl\",\n",
        "            \"user_key\": \"f379rz8y\",\n",
        "        },\n",
        "    ).render()\n",
        "\n",
        "\n",
        "feedback_prefix = \"W1D2_T1\""
      ]
    },
    {
      "cell_type": "code",
      "execution_count": 10,
      "metadata": {
        "execution": {},
        "id": "tAsmvQoiluQ8"
      },
      "outputs": [],
      "source": [
        "# Imports\n",
        "import torch\n",
        "import numpy as np\n",
        "from torch import nn\n",
        "from math import pi\n",
        "import matplotlib.pyplot as plt"
      ]
    },
    {
      "cell_type": "code",
      "execution_count": 11,
      "metadata": {
        "cellView": "form",
        "execution": {},
        "id": "nZLLIlaaluQ-"
      },
      "outputs": [],
      "source": [
        "# @title Figure settings\n",
        "import logging\n",
        "logging.getLogger('matplotlib.font_manager').disabled = True\n",
        "\n",
        "import ipywidgets as widgets  # Interactive display\n",
        "%config InlineBackend.figure_format = 'retina'\n",
        "plt.style.use(\"https://raw.githubusercontent.com/NeuromatchAcademy/content-creation/main/nma.mplstyle\")"
      ]
    },
    {
      "cell_type": "code",
      "execution_count": 12,
      "metadata": {
        "cellView": "form",
        "execution": {},
        "id": "NCKh6WfmluQ-"
      },
      "outputs": [],
      "source": [
        "# @title Plotting functions\n",
        "\n",
        "from mpl_toolkits.axes_grid1 import make_axes_locatable\n",
        "\n",
        "def ex3_plot(model, x, y, ep, lss):\n",
        "  \"\"\"\n",
        "  Plot training loss\n",
        "\n",
        "  Args:\n",
        "    model: nn.module\n",
        "      Model implementing regression\n",
        "    x: np.ndarray\n",
        "      Training Data\n",
        "    y: np.ndarray\n",
        "      Targets\n",
        "    ep: int\n",
        "      Number of epochs\n",
        "    lss: function\n",
        "      Loss function\n",
        "\n",
        "  Returns:\n",
        "    Nothing\n",
        "  \"\"\"\n",
        "  f, (ax1, ax2) = plt.subplots(1, 2, figsize=(12, 4))\n",
        "  ax1.set_title(\"Regression\")\n",
        "  ax1.plot(x, model(x).detach().numpy(), color='r', label='prediction')\n",
        "  ax1.scatter(x, y, c='c', label='targets')\n",
        "  ax1.set_xlabel('x')\n",
        "  ax1.set_ylabel('y')\n",
        "  ax1.legend()\n",
        "\n",
        "  ax2.set_title(\"Training loss\")\n",
        "  ax2.plot(np.linspace(1, epochs, epochs), losses, color='y')\n",
        "  ax2.set_xlabel(\"Epoch\")\n",
        "  ax2.set_ylabel(\"MSE\")\n",
        "\n",
        "  plt.show()\n",
        "\n",
        "\n",
        "def ex1_plot(fun_z, fun_dz):\n",
        "  \"\"\"\n",
        "  Plots the function and gradient vectors\n",
        "\n",
        "  Args:\n",
        "    fun_z: f.__name__\n",
        "      Function implementing sine function\n",
        "    fun_dz: f.__name__\n",
        "      Function implementing sine function as gradient vector\n",
        "\n",
        "  Returns:\n",
        "    Nothing\n",
        "  \"\"\"\n",
        "  x, y = np.arange(-3, 3.01, 0.02), np.arange(-3, 3.01, 0.02)\n",
        "  xx, yy = np.meshgrid(x, y, sparse=True)\n",
        "  zz = fun_z(xx, yy)\n",
        "  xg, yg = np.arange(-2.5, 2.6, 0.5), np.arange(-2.5, 2.6, 0.5)\n",
        "  xxg, yyg = np.meshgrid(xg, yg, sparse=True)\n",
        "  zxg, zyg = fun_dz(xxg, yyg)\n",
        "\n",
        "  plt.figure(figsize=(8, 7))\n",
        "  plt.title(\"Gradient vectors point towards steepest ascent\")\n",
        "  contplt = plt.contourf(x, y, zz, levels=20)\n",
        "  plt.quiver(xxg, yyg, zxg, zyg, scale=50, color='r', )\n",
        "  plt.xlabel('$x$')\n",
        "  plt.ylabel('$y$')\n",
        "  ax = plt.gca()\n",
        "  divider = make_axes_locatable(ax)\n",
        "  cax = divider.append_axes(\"right\", size=\"5%\", pad=0.05)\n",
        "  cbar = plt.colorbar(contplt, cax=cax)\n",
        "  cbar.set_label('$z = h(x, y)$')\n",
        "\n",
        "  plt.show()"
      ]
    },
    {
      "cell_type": "code",
      "execution_count": 13,
      "metadata": {
        "cellView": "form",
        "execution": {},
        "id": "1OrmO4w3luQ_"
      },
      "outputs": [],
      "source": [
        "# @title Set random seed\n",
        "\n",
        "# @markdown Executing `set_seed(seed=seed)` you are setting the seed\n",
        "\n",
        "# For DL its critical to set the random seed so that students can have a\n",
        "# baseline to compare their results to expected results.\n",
        "# Read more here: https://pytorch.org/docs/stable/notes/randomness.html\n",
        "\n",
        "# Call `set_seed` function in the exercises to ensure reproducibility.\n",
        "import random\n",
        "import torch\n",
        "\n",
        "def set_seed(seed=None, seed_torch=True):\n",
        "  \"\"\"\n",
        "  Function that controls randomness. NumPy and random modules must be imported.\n",
        "\n",
        "  Args:\n",
        "    seed : Integer\n",
        "      A non-negative integer that defines the random state. Default is `None`.\n",
        "    seed_torch : Boolean\n",
        "      If `True` sets the random seed for pytorch tensors, so pytorch module\n",
        "      must be imported. Default is `True`.\n",
        "\n",
        "  Returns:\n",
        "    Nothing.\n",
        "  \"\"\"\n",
        "  if seed is None:\n",
        "    seed = np.random.choice(2 ** 32)\n",
        "  random.seed(seed)\n",
        "  np.random.seed(seed)\n",
        "  if seed_torch:\n",
        "    torch.manual_seed(seed)\n",
        "    torch.cuda.manual_seed_all(seed)\n",
        "    torch.cuda.manual_seed(seed)\n",
        "    torch.backends.cudnn.benchmark = False\n",
        "    torch.backends.cudnn.deterministic = True\n",
        "\n",
        "  print(f'Random seed {seed} has been set.')\n",
        "\n",
        "\n",
        "# In case that `DataLoader` is used\n",
        "def seed_worker(worker_id):\n",
        "  \"\"\"\n",
        "  DataLoader will reseed workers following randomness in\n",
        "  multi-process data loading algorithm.\n",
        "\n",
        "  Args:\n",
        "    worker_id: integer\n",
        "      ID of subprocess to seed. 0 means that\n",
        "      the data will be loaded in the main process\n",
        "      Refer: https://pytorch.org/docs/stable/data.html#data-loading-randomness for more details\n",
        "\n",
        "  Returns:\n",
        "    Nothing\n",
        "  \"\"\"\n",
        "  worker_seed = torch.initial_seed() % 2**32\n",
        "  np.random.seed(worker_seed)\n",
        "  random.seed(worker_seed)"
      ]
    },
    {
      "cell_type": "code",
      "execution_count": 14,
      "metadata": {
        "execution": {},
        "id": "1Ny64KAJluRB"
      },
      "outputs": [],
      "source": [
        "# @title Set device (GPU or CPU). Execute `set_device()`\n",
        "# especially if torch modules used.\n",
        "\n",
        "# inform the user if the notebook uses GPU or CPU.\n",
        "\n",
        "def set_device():\n",
        "  \"\"\"\n",
        "  Set the device. CUDA if available, CPU otherwise\n",
        "\n",
        "  Args:\n",
        "    None\n",
        "\n",
        "  Returns:\n",
        "    Nothing\n",
        "  \"\"\"\n",
        "  device = \"cuda\" if torch.cuda.is_available() else \"cpu\"\n",
        "  if device != \"cuda\":\n",
        "    print(\"GPU is not enabled in this notebook. \\n\"\n",
        "          \"If you want to enable it, in the menu under `Runtime` -> \\n\"\n",
        "          \"`Hardware accelerator.` and select `GPU` from the dropdown menu\")\n",
        "  else:\n",
        "    print(\"GPU is enabled in this notebook. \\n\"\n",
        "          \"If you want to disable it, in the menu under `Runtime` -> \\n\"\n",
        "          \"`Hardware accelerator.` and select `None` from the dropdown menu\")\n",
        "\n",
        "  return device"
      ]
    },
    {
      "cell_type": "code",
      "execution_count": 15,
      "metadata": {
        "execution": {},
        "colab": {
          "base_uri": "https://localhost:8080/"
        },
        "id": "fg9c20zeluRB",
        "outputId": "07924cd5-96b8-4c93-eb04-eee123003106"
      },
      "outputs": [
        {
          "output_type": "stream",
          "name": "stdout",
          "text": [
            "Random seed 2021 has been set.\n",
            "GPU is enabled in this notebook. \n",
            "If you want to disable it, in the menu under `Runtime` -> \n",
            "`Hardware accelerator.` and select `None` from the dropdown menu\n"
          ]
        }
      ],
      "source": [
        "SEED = 2021\n",
        "set_seed(seed=SEED)\n",
        "DEVICE = set_device()"
      ]
    },
    {
      "cell_type": "markdown",
      "metadata": {
        "execution": {},
        "id": "_APFZhmAluRC"
      },
      "source": [
        "---\n",
        "# Section 0: Introduction"
      ]
    },
    {
      "cell_type": "markdown",
      "metadata": {
        "execution": {},
        "id": "-ELtDILiluRD"
      },
      "source": [
        "Today, we will go through 3 tutorials.\n",
        "\n",
        "- Starting with Gradient Descent, the workhorse of deep learning algorithms.\n",
        "- The second tutorial will help us build a better intuition about neural networks and basic hyper-parameters.\n",
        "- Finally, in tutorial 3, we learn about the learning dynamics, what the (a good) deep network is learning, and why sometimes they may perform poorly."
      ]
    },
    {
      "cell_type": "code",
      "execution_count": 16,
      "metadata": {
        "cellView": "form",
        "execution": {},
        "colab": {
          "base_uri": "https://localhost:8080/",
          "height": 580,
          "referenced_widgets": [
            "4600bd61477e4b3492fc2a75c8d39382",
            "af20d21ab3244b93a3f99ceb3c38b138",
            "a256a65def204b57bd6f771d1ea83753",
            "3451da7c1d0842fa966ff909a25c528d",
            "5783d98bbbc04e5fadace2001a04ba4e",
            "750c7abd028743b9badff64bc747ae91"
          ]
        },
        "id": "l4xgHZfMluRD",
        "outputId": "4c486d23-1013-4115-f68b-34c9639889a0"
      },
      "outputs": [
        {
          "output_type": "display_data",
          "data": {
            "text/plain": [
              "Tab(children=(Output(), Output()), _titles={'0': 'Youtube', '1': 'Bilibili'})"
            ],
            "application/vnd.jupyter.widget-view+json": {
              "version_major": 2,
              "version_minor": 0,
              "model_id": "4600bd61477e4b3492fc2a75c8d39382"
            }
          },
          "metadata": {}
        }
      ],
      "source": [
        "# @title Video 0: Introduction\n",
        "from ipywidgets import widgets\n",
        "from IPython.display import YouTubeVideo\n",
        "from IPython.display import IFrame\n",
        "from IPython.display import display\n",
        "\n",
        "\n",
        "class PlayVideo(IFrame):\n",
        "  def __init__(self, id, source, page=1, width=400, height=300, **kwargs):\n",
        "    self.id = id\n",
        "    if source == 'Bilibili':\n",
        "      src = f'https://player.bilibili.com/player.html?bvid={id}&page={page}'\n",
        "    elif source == 'Osf':\n",
        "      src = f'https://mfr.ca-1.osf.io/render?url=https://osf.io/download/{id}/?direct%26mode=render'\n",
        "    super(PlayVideo, self).__init__(src, width, height, **kwargs)\n",
        "\n",
        "\n",
        "def display_videos(video_ids, W=400, H=300, fs=1):\n",
        "  tab_contents = []\n",
        "  for i, video_id in enumerate(video_ids):\n",
        "    out = widgets.Output()\n",
        "    with out:\n",
        "      if video_ids[i][0] == 'Youtube':\n",
        "        video = YouTubeVideo(id=video_ids[i][1], width=W,\n",
        "                             height=H, fs=fs, rel=0)\n",
        "        print(f'Video available at https://youtube.com/watch?v={video.id}')\n",
        "      else:\n",
        "        video = PlayVideo(id=video_ids[i][1], source=video_ids[i][0], width=W,\n",
        "                          height=H, fs=fs, autoplay=False)\n",
        "        if video_ids[i][0] == 'Bilibili':\n",
        "          print(f'Video available at https://www.bilibili.com/video/{video.id}')\n",
        "        elif video_ids[i][0] == 'Osf':\n",
        "          print(f'Video available at https://osf.io/{video.id}')\n",
        "      display(video)\n",
        "    tab_contents.append(out)\n",
        "  return tab_contents\n",
        "\n",
        "\n",
        "video_ids = [('Youtube', 'i7djAv2jnzY'), ('Bilibili', 'BV1Qf4y1578t')]\n",
        "tab_contents = display_videos(video_ids, W=854, H=480)\n",
        "tabs = widgets.Tab()\n",
        "tabs.children = tab_contents\n",
        "for i in range(len(tab_contents)):\n",
        "  tabs.set_title(i, video_ids[i][0])\n",
        "display(tabs)"
      ]
    },
    {
      "cell_type": "code",
      "execution_count": null,
      "metadata": {
        "cellView": "form",
        "execution": {},
        "id": "W8e85tCaluRD"
      },
      "outputs": [],
      "source": [
        "# @title Submit your feedback\n",
        "content_review(f\"{feedback_prefix}_Introduction_Video\")"
      ]
    },
    {
      "cell_type": "markdown",
      "metadata": {
        "execution": {},
        "id": "ZTbWn_k3luRE"
      },
      "source": [
        "---\n",
        "# Section 1: Gradient Descent Algorithm\n",
        "\n",
        "*Time estimate: ~30-45 mins*"
      ]
    },
    {
      "cell_type": "markdown",
      "metadata": {
        "execution": {},
        "id": "Vg2wSEZFluRF"
      },
      "source": [
        "Since the goal of most learning algorithms is **minimizing the risk (also known as the cost or loss) function**, optimization is often the core of most machine learning techniques! The gradient descent algorithm, along with its variations such as stochastic gradient descent, is one of the most powerful and popular optimization methods used for deep learning. Today we will introduce the basics, but you will learn much more about Optimization in the coming days (Week 1, Day 4)."
      ]
    },
    {
      "cell_type": "markdown",
      "metadata": {
        "execution": {},
        "id": "sbLHohqCluRF"
      },
      "source": [
        "## Section 1.1: Gradients & Steepest Ascent"
      ]
    },
    {
      "cell_type": "code",
      "execution_count": null,
      "metadata": {
        "cellView": "form",
        "execution": {},
        "id": "M-c4D14IluRF"
      },
      "outputs": [],
      "source": [
        "# @title Video 1: Gradient Descent\n",
        "from ipywidgets import widgets\n",
        "from IPython.display import YouTubeVideo\n",
        "from IPython.display import IFrame\n",
        "from IPython.display import display\n",
        "\n",
        "\n",
        "class PlayVideo(IFrame):\n",
        "  def __init__(self, id, source, page=1, width=400, height=300, **kwargs):\n",
        "    self.id = id\n",
        "    if source == 'Bilibili':\n",
        "      src = f'https://player.bilibili.com/player.html?bvid={id}&page={page}'\n",
        "    elif source == 'Osf':\n",
        "      src = f'https://mfr.ca-1.osf.io/render?url=https://osf.io/download/{id}/?direct%26mode=render'\n",
        "    super(PlayVideo, self).__init__(src, width, height, **kwargs)\n",
        "\n",
        "\n",
        "def display_videos(video_ids, W=400, H=300, fs=1):\n",
        "  tab_contents = []\n",
        "  for i, video_id in enumerate(video_ids):\n",
        "    out = widgets.Output()\n",
        "    with out:\n",
        "      if video_ids[i][0] == 'Youtube':\n",
        "        video = YouTubeVideo(id=video_ids[i][1], width=W,\n",
        "                             height=H, fs=fs, rel=0)\n",
        "        print(f'Video available at https://youtube.com/watch?v={video.id}')\n",
        "      else:\n",
        "        video = PlayVideo(id=video_ids[i][1], source=video_ids[i][0], width=W,\n",
        "                          height=H, fs=fs, autoplay=False)\n",
        "        if video_ids[i][0] == 'Bilibili':\n",
        "          print(f'Video available at https://www.bilibili.com/video/{video.id}')\n",
        "        elif video_ids[i][0] == 'Osf':\n",
        "          print(f'Video available at https://osf.io/{video.id}')\n",
        "      display(video)\n",
        "    tab_contents.append(out)\n",
        "  return tab_contents\n",
        "\n",
        "\n",
        "video_ids = [('Youtube', 'UwgA_SgG0TM'), ('Bilibili', 'BV1Pq4y1p7em')]\n",
        "tab_contents = display_videos(video_ids, W=854, H=480)\n",
        "tabs = widgets.Tab()\n",
        "tabs.children = tab_contents\n",
        "for i in range(len(tab_contents)):\n",
        "  tabs.set_title(i, video_ids[i][0])\n",
        "display(tabs)"
      ]
    },
    {
      "cell_type": "code",
      "execution_count": null,
      "metadata": {
        "cellView": "form",
        "execution": {},
        "id": "lth71IJlluRG"
      },
      "outputs": [],
      "source": [
        "# @title Submit your feedback\n",
        "content_review(f\"{feedback_prefix}_Gradient_Descent_Video\")"
      ]
    },
    {
      "cell_type": "markdown",
      "metadata": {
        "execution": {},
        "id": "xPTFBbqcluRG"
      },
      "source": [
        "Before introducing the gradient descent algorithm, let's review a very important property of gradients. The gradient of a function always points in the direction of the steepest ascent. The following exercise will help clarify this."
      ]
    },
    {
      "cell_type": "markdown",
      "metadata": {
        "execution": {},
        "id": "jdPjbwSiluRG"
      },
      "source": [
        "### Analytical Exercise 1.1: Gradient vector (Optional)\n",
        "\n",
        "Given the following function:\n",
        "\n",
        "\\begin{equation}\n",
        "z = h(x, y) = \\sin(x^2 + y^2)\n",
        "\\end{equation}\n",
        "\n",
        "find the gradient vector:\n",
        "\n",
        "\\begin{equation}\n",
        "  \\begin{bmatrix}\n",
        "  \\dfrac{\\partial z}{\\partial x} \\\\ \\\\ \\dfrac{\\partial z}{\\partial y}\n",
        "  \\end{bmatrix}\n",
        "\\end{equation}\n",
        "\n",
        "\n",
        "*Hint: Use the chain rule!*\n",
        "\n",
        "**Chain rule**: For a composite function $F(x) = g(h(x)) \\equiv (g \\circ h)(x)$:\n",
        "\n",
        "\\begin{equation}\n",
        "F'(x) = g'(h(x)) \\cdot h'(x)\n",
        "\\end{equation}\n",
        "\n",
        "or differently denoted:\n",
        "\n",
        "\\begin{equation}\n",
        "\\frac{dF}{dx} = \\frac{dg}{dh} ~ \\frac{dh}{dx}\n",
        "\\end{equation}\n",
        "\n",
        "<details>\n",
        "<summary> <font color='green'>Click here for the solution </font></summary>\n",
        "\n",
        "We can rewrite the function as a composite function:\n",
        "\n",
        "\\begin{equation}\n",
        "z = f\\left( g(x,y) \\right), ~~ f(u) = \\sin(u), ~~ g(x, y) = x^2 + y^2\n",
        "\\end{equation}\n",
        "\n",
        "Using the [chain rule](https://en.wikipedia.org/wiki/Chain_rule):\n",
        "\n",
        "\\begin{align}\n",
        "\\dfrac{\\partial z}{\\partial x} &= \\dfrac{\\partial f}{\\partial g} \\dfrac{\\partial g}{\\partial x} = \\cos(g(x,y)) ~ (2x) = \\cos(x^2 + y^2) \\cdot 2x \\\\ \\\\\n",
        "\\dfrac{\\partial z}{\\partial y} &= \\dfrac{\\partial f}{\\partial g} \\dfrac{\\partial g}{\\partial y} = \\cos(g(x,y)) ~ (2y) = \\cos(x^2 + y^2) \\cdot 2y\n",
        "\\end{align}"
      ]
    },
    {
      "cell_type": "code",
      "execution_count": null,
      "metadata": {
        "cellView": "form",
        "execution": {},
        "id": "rBRUqTdJluRG"
      },
      "outputs": [],
      "source": [
        "# @title Submit your feedback\n",
        "content_review(f\"{feedback_prefix}_Gradient_Vector_Analytical_Exercise\")"
      ]
    },
    {
      "cell_type": "markdown",
      "metadata": {
        "execution": {},
        "id": "VMEbkfQ0luRH"
      },
      "source": [
        "### Coding Exercise 1.1: Gradient Vector\n",
        "\n",
        "Implement (complete) the function which returns the gradient vector for $z=\\sin(x^2 + y^2)$."
      ]
    },
    {
      "cell_type": "code",
      "execution_count": null,
      "metadata": {
        "execution": {},
        "id": "CgeoFkPnluRH"
      },
      "outputs": [],
      "source": [
        "def fun_z(x, y):\n",
        "  \"\"\"\n",
        "  Implements function sin(x^2 + y^2)\n",
        "\n",
        "  Args:\n",
        "    x: (float, np.ndarray)\n",
        "      Variable x\n",
        "    y: (float, np.ndarray)\n",
        "      Variable y\n",
        "\n",
        "  Returns:\n",
        "    z: (float, np.ndarray)\n",
        "      sin(x^2 + y^2)\n",
        "  \"\"\"\n",
        "  z = np.sin(x**2 + y**2)\n",
        "  return z\n",
        "\n",
        "\n",
        "def fun_dz(x, y):\n",
        "  \"\"\"\n",
        "  Implements function sin(x^2 + y^2)\n",
        "\n",
        "  Args:\n",
        "    x: (float, np.ndarray)\n",
        "      Variable x\n",
        "    y: (float, np.ndarray)\n",
        "      Variable y\n",
        "\n",
        "  Returns:\n",
        "    Tuple of gradient vector for sin(x^2 + y^2)\n",
        "  \"\"\"\n",
        "  #################################################\n",
        "  ## Implement the function which returns gradient vector\n",
        "  ## Complete the partial derivatives dz_dx and dz_dy\n",
        "  # Complete the function and remove or comment the line below\n",
        "  raise NotImplementedError(\"Gradient function `fun_dz`\")\n",
        "  #################################################\n",
        "  dz_dx = ...\n",
        "  dz_dy = ...\n",
        "  return (dz_dx, dz_dy)\n",
        "\n",
        "\n",
        "## Uncomment to run\n",
        "# ex1_plot(fun_z, fun_dz)"
      ]
    },
    {
      "cell_type": "markdown",
      "metadata": {
        "execution": {},
        "id": "WwbwvMH2luRI"
      },
      "source": [
        "[*Click for solution*](https://github.com/NeuromatchAcademy/course-content-dl/tree/main/tutorials/W1D2_LinearDeepLearning/solutions/W1D2_Tutorial1_Solution_25404147.py)\n",
        "\n"
      ]
    },
    {
      "cell_type": "markdown",
      "metadata": {
        "execution": {},
        "id": "TbjmzhqzluRI"
      },
      "source": [
        "We can see from the plot that for any given $x_0$ and $y_0$, the gradient vector $\\left[ \\dfrac{\\partial z}{\\partial x}, \\dfrac{\\partial z}{\\partial y}\\right]^{\\top}_{(x_0, y_0)}$ points in the direction of $x$ and $y$ for which $z$ increases the most. It is important to note that gradient vectors only see their local values, not the whole landscape! Also, length (size) of each vector, which indicates the steepness of the function, can be very small near local plateaus (i.e. minima or maxima).\n",
        "\n",
        "Thus, we can simply use the aforementioned formula to find the local minima.\n",
        "\n",
        "In 1847, Augustin-Louis Cauchy used **negative of gradients**  to develop the Gradient Descent algorithm as an **iterative** method to **minimize** a **continuous** and (ideally) **differentiable function** of **many variables**."
      ]
    },
    {
      "cell_type": "code",
      "execution_count": null,
      "metadata": {
        "cellView": "form",
        "execution": {},
        "id": "I-ZZg3A4luRI"
      },
      "outputs": [],
      "source": [
        "# @title Submit your feedback\n",
        "content_review(f\"{feedback_prefix}_Gradient_Vector_Exercise\")"
      ]
    },
    {
      "cell_type": "code",
      "execution_count": null,
      "metadata": {
        "cellView": "form",
        "execution": {},
        "id": "Qm_cAlwGluRI"
      },
      "outputs": [],
      "source": [
        "# @title Video 2: Gradient Descent - Discussion\n",
        "from ipywidgets import widgets\n",
        "from IPython.display import YouTubeVideo\n",
        "from IPython.display import IFrame\n",
        "from IPython.display import display\n",
        "\n",
        "\n",
        "class PlayVideo(IFrame):\n",
        "  def __init__(self, id, source, page=1, width=400, height=300, **kwargs):\n",
        "    self.id = id\n",
        "    if source == 'Bilibili':\n",
        "      src = f'https://player.bilibili.com/player.html?bvid={id}&page={page}'\n",
        "    elif source == 'Osf':\n",
        "      src = f'https://mfr.ca-1.osf.io/render?url=https://osf.io/download/{id}/?direct%26mode=render'\n",
        "    super(PlayVideo, self).__init__(src, width, height, **kwargs)\n",
        "\n",
        "\n",
        "def display_videos(video_ids, W=400, H=300, fs=1):\n",
        "  tab_contents = []\n",
        "  for i, video_id in enumerate(video_ids):\n",
        "    out = widgets.Output()\n",
        "    with out:\n",
        "      if video_ids[i][0] == 'Youtube':\n",
        "        video = YouTubeVideo(id=video_ids[i][1], width=W,\n",
        "                             height=H, fs=fs, rel=0)\n",
        "        print(f'Video available at https://youtube.com/watch?v={video.id}')\n",
        "      else:\n",
        "        video = PlayVideo(id=video_ids[i][1], source=video_ids[i][0], width=W,\n",
        "                          height=H, fs=fs, autoplay=False)\n",
        "        if video_ids[i][0] == 'Bilibili':\n",
        "          print(f'Video available at https://www.bilibili.com/video/{video.id}')\n",
        "        elif video_ids[i][0] == 'Osf':\n",
        "          print(f'Video available at https://osf.io/{video.id}')\n",
        "      display(video)\n",
        "    tab_contents.append(out)\n",
        "  return tab_contents\n",
        "\n",
        "\n",
        "video_ids = [('Youtube', '8s22ffAfGwI'), ('Bilibili', 'BV1Rf4y157bw')]\n",
        "tab_contents = display_videos(video_ids, W=854, H=480)\n",
        "tabs = widgets.Tab()\n",
        "tabs.children = tab_contents\n",
        "for i in range(len(tab_contents)):\n",
        "  tabs.set_title(i, video_ids[i][0])\n",
        "display(tabs)"
      ]
    },
    {
      "cell_type": "code",
      "execution_count": null,
      "metadata": {
        "cellView": "form",
        "execution": {},
        "id": "-yrbt8BsluRJ"
      },
      "outputs": [],
      "source": [
        "# @title Submit your feedback\n",
        "content_review(f\"{feedback_prefix}_Gradient_Descent_Discussion_Video\")"
      ]
    },
    {
      "cell_type": "markdown",
      "metadata": {
        "execution": {},
        "id": "QlnZvdN6luRJ"
      },
      "source": [
        "## Section 1.2: Gradient Descent Algorithm"
      ]
    },
    {
      "cell_type": "markdown",
      "metadata": {
        "execution": {},
        "id": "w_Kauvm2luRK"
      },
      "source": [
        "Let $f(\\mathbf{w}): \\mathbb{R}^d \\rightarrow \\mathbb{R}$ be a differentiable function. Gradient Descent is an iterative algorithm for minimizing the function $f$, starting with an initial value for variables $\\mathbf{w}$, taking steps of size $\\eta$ (learning rate) in the direction of the negative gradient at the current point to update the variables $\\mathbf{w}$.\n",
        "\n",
        "\\begin{equation}\n",
        "\\mathbf{w}^{(t+1)} = \\mathbf{w}^{(t)} - \\eta \\nabla f \\left( \\mathbf{w}^{(t)} \\right)\n",
        "\\end{equation}\n",
        "\n",
        "where $\\eta > 0$ and $\\nabla f (\\mathbf{w})= \\left( \\frac{\\partial f(\\mathbf{w})}{\\partial w_1}, ..., \\frac{\\partial f(\\mathbf{w})}{\\partial w_d} \\right)$. Since negative gradients always point locally in the direction of steepest descent, the algorithm makes small steps at each point **towards** the minimum.\n",
        "\n",
        "<br/>\n",
        "\n",
        "**Vanilla Algorithm**\n",
        "\n",
        "---\n",
        "> **Inputs:** initial guess $\\mathbf{w}^{(0)}$, step size $\\eta > 0$, number of steps $T$.\n",
        "\n",
        "> **For** $t = 0, 1, 2, \\dots , T-1$ **do** \\\n",
        "$\\qquad$ $\\mathbf{w}^{(t+1)} = \\mathbf{w}^{(t)} - \\eta \\nabla f \\left( \\mathbf{w}^{(t)} \\right)$\\\n",
        "**end**\n",
        "\n",
        "> **Return:** $\\mathbf{w}^{(t+1)}$\n",
        "\n",
        "---\n",
        "\n",
        "<br/>\n",
        "\n",
        "Hence, all we need is to calculate the gradient of the loss function with respect to the learnable parameters (i.e., weights):\n",
        "\n",
        "\\begin{equation}\n",
        "\\dfrac{\\partial Loss}{\\partial \\mathbf{w}} = \\left[ \\dfrac{\\partial Loss}{\\partial w_1}, \\dfrac{\\partial Loss}{\\partial w_2} , \\dots, \\dfrac{\\partial Loss}{\\partial w_d} \\right]^{\\top}\n",
        "\\end{equation}"
      ]
    },
    {
      "cell_type": "markdown",
      "metadata": {
        "execution": {},
        "id": "1ohzlqTXluRK"
      },
      "source": [
        "### Analytical Exercise 1.2: Gradients\n",
        "\n",
        "Given $f(x, y, z) = \\tanh \\left( \\ln \\left[1 + z \\frac{2x}{sin(y)} \\right] \\right)$, how easy is it to derive $\\dfrac{\\partial f}{\\partial x}$, $\\dfrac{\\partial f}{\\partial y}$ and $\\dfrac{\\partial f}{\\partial z}$?\n",
        "\n",
        "**Hint:** You don't have to actually calculate them!"
      ]
    },
    {
      "cell_type": "code",
      "execution_count": null,
      "metadata": {
        "cellView": "form",
        "execution": {},
        "id": "CLJ1PotoluRL"
      },
      "outputs": [],
      "source": [
        "# @title Submit your feedback\n",
        "content_review(f\"{feedback_prefix}_Gradients_Analytical_Exercise\")"
      ]
    },
    {
      "cell_type": "markdown",
      "metadata": {
        "execution": {},
        "id": "BfR63yqAluRL"
      },
      "source": [
        "## Section 1.3: Computational Graphs and Backprop\n"
      ]
    },
    {
      "cell_type": "code",
      "execution_count": null,
      "metadata": {
        "cellView": "form",
        "execution": {},
        "id": "WTcIE16SluRL"
      },
      "outputs": [],
      "source": [
        "# @title Video 3: Computational Graph\n",
        "from ipywidgets import widgets\n",
        "from IPython.display import YouTubeVideo\n",
        "from IPython.display import IFrame\n",
        "from IPython.display import display\n",
        "\n",
        "\n",
        "class PlayVideo(IFrame):\n",
        "  def __init__(self, id, source, page=1, width=400, height=300, **kwargs):\n",
        "    self.id = id\n",
        "    if source == 'Bilibili':\n",
        "      src = f'https://player.bilibili.com/player.html?bvid={id}&page={page}'\n",
        "    elif source == 'Osf':\n",
        "      src = f'https://mfr.ca-1.osf.io/render?url=https://osf.io/download/{id}/?direct%26mode=render'\n",
        "    super(PlayVideo, self).__init__(src, width, height, **kwargs)\n",
        "\n",
        "\n",
        "def display_videos(video_ids, W=400, H=300, fs=1):\n",
        "  tab_contents = []\n",
        "  for i, video_id in enumerate(video_ids):\n",
        "    out = widgets.Output()\n",
        "    with out:\n",
        "      if video_ids[i][0] == 'Youtube':\n",
        "        video = YouTubeVideo(id=video_ids[i][1], width=W,\n",
        "                             height=H, fs=fs, rel=0)\n",
        "        print(f'Video available at https://youtube.com/watch?v={video.id}')\n",
        "      else:\n",
        "        video = PlayVideo(id=video_ids[i][1], source=video_ids[i][0], width=W,\n",
        "                          height=H, fs=fs, autoplay=False)\n",
        "        if video_ids[i][0] == 'Bilibili':\n",
        "          print(f'Video available at https://www.bilibili.com/video/{video.id}')\n",
        "        elif video_ids[i][0] == 'Osf':\n",
        "          print(f'Video available at https://osf.io/{video.id}')\n",
        "      display(video)\n",
        "    tab_contents.append(out)\n",
        "  return tab_contents\n",
        "\n",
        "\n",
        "video_ids = [('Youtube', '2z1YX5PonV4'), ('Bilibili', 'BV1c64y1B7ZG')]\n",
        "tab_contents = display_videos(video_ids, W=854, H=480)\n",
        "tabs = widgets.Tab()\n",
        "tabs.children = tab_contents\n",
        "for i in range(len(tab_contents)):\n",
        "  tabs.set_title(i, video_ids[i][0])\n",
        "display(tabs)"
      ]
    },
    {
      "cell_type": "code",
      "execution_count": null,
      "metadata": {
        "cellView": "form",
        "execution": {},
        "id": "7gCDZ7VdluRL"
      },
      "outputs": [],
      "source": [
        "# @title Submit your feedback\n",
        "content_review(f\"{feedback_prefix}_Computational_Graph_Video\")"
      ]
    },
    {
      "cell_type": "markdown",
      "metadata": {
        "execution": {},
        "id": "ySLKt2LQluRM"
      },
      "source": [
        "*Exercise 1.2* is an example of how overwhelming the derivation of gradients can get, as the number of variables and nested functions increases. This function is still extraordinarily simple compared to the loss functions of modern neural networks. So how can we (as well as PyTorch and similar frameworks) approach such beasts?\n",
        "\n",
        "Let’s look at the function again:\n",
        "\n",
        "\\begin{equation}\n",
        "f(x, y, z) = \\tanh \\left(\\ln \\left[1 + z \\frac{2x}{sin(y)} \\right] \\right)\n",
        "\\end{equation}\n",
        "\n",
        "We can build a so-called computational graph (shown below) to break the original function into smaller and more approachable expressions.\n",
        "\n",
        "<center><img src=\"https://raw.githubusercontent.com/NeuromatchAcademy/course-content-dl/main/tutorials/W1D2_LinearDeepLearning/static/comput_graph.png\" alt=\"Computation Graph\" width=\"700\"/></center>\n",
        "\n",
        "Starting from $x$, $y$, and $z$ and following the arrows and expressions, you would see that our graph returns the same function as $f$. It does so by calculating intermediate variables $a,b,c,d,$ and $e$. This is called the **forward pass**.\n",
        "\n",
        "Now, let’s start from $f$, and work our way against the arrows while calculating the gradient of each expression as we go. This is called the **backward pass**, from which the **backpropagation of errors** algorithm gets its name.\n",
        "\n",
        "<center><img src=\"https://raw.githubusercontent.com/NeuromatchAcademy/course-content-dl/main/tutorials/W1D2_LinearDeepLearning/static/comput_graph_full.png\" alt=\"Computation Graph full\" width=\"1200\"/></center>\n",
        "\n",
        "By breaking the computation into simple operations on intermediate variables, we can use the chain rule to calculate any gradient:\n",
        "\n",
        "\\begin{equation}\n",
        "\\dfrac{\\partial f}{\\partial x} = \\dfrac{\\partial f}{\\partial e}~\\dfrac{\\partial e}{\\partial d}~\\dfrac{\\partial d}{\\partial c}~\\dfrac{\\partial c}{\\partial a}~\\dfrac{\\partial a}{\\partial x} = \\left( 1-\\tanh^2(e) \\right) \\cdot \\frac{1}{d+1}\\cdot z \\cdot \\frac{1}{b} \\cdot 2\n",
        "\\end{equation}\n",
        "\n",
        "Conveniently, the values for $e$, $b$, and $d$ are available to us from when we did the forward pass through the graph. That is, the partial derivatives have simple expressions in terms of the intermediate variables $a,b,c,d,e$ that we calculated and stored during the forward pass."
      ]
    },
    {
      "cell_type": "markdown",
      "metadata": {
        "execution": {},
        "id": "DJHzu3ASluRM"
      },
      "source": [
        "### Analytical Exercise 1.3: Chain Rule (Optional)\n",
        "\n",
        "For the function above, calculate the $\\dfrac{\\partial f}{\\partial y}$ using the computational graph and chain rule.\n",
        "\n",
        "<details>\n",
        "<summary> <font color='green'>Click here for the solution </font></summary>\n",
        "\n",
        "\\begin{equation}\n",
        "\\dfrac{\\partial f}{\\partial y} = \\dfrac{\\partial f}{\\partial e}~\\dfrac{\\partial e}{\\partial d}~\\dfrac{\\partial d}{\\partial c}~\\dfrac{\\partial c}{\\partial b}~\\dfrac{\\partial b}{\\partial y} = \\left( 1-\\tanh^2(e) \\right) \\cdot \\frac{1}{d+1}\\cdot z \\cdot \\frac{-a}{b^2} \\cdot \\cos(y)\n",
        "\\end{equation}"
      ]
    },
    {
      "cell_type": "markdown",
      "metadata": {
        "execution": {},
        "id": "bIwsG1cdluRN"
      },
      "source": [
        "For more: [Calculus on Computational Graphs: Backpropagation](https://colah.github.io/posts/2015-08-Backprop/)"
      ]
    },
    {
      "cell_type": "code",
      "execution_count": null,
      "metadata": {
        "cellView": "form",
        "execution": {},
        "id": "vKDlmwHfluRN"
      },
      "outputs": [],
      "source": [
        "# @title Submit your feedback\n",
        "content_review(f\"{feedback_prefix}_Chain_Rule_Analytical_Exercise\")"
      ]
    },
    {
      "cell_type": "markdown",
      "metadata": {
        "execution": {},
        "id": "1Gw6I1EUluRN"
      },
      "source": [
        "---\n",
        "# Section 2: PyTorch AutoGrad\n",
        "\n",
        "*Time estimate: ~30-45 mins*"
      ]
    },
    {
      "cell_type": "code",
      "execution_count": null,
      "metadata": {
        "cellView": "form",
        "execution": {},
        "id": "-WMP2FVLluRO"
      },
      "outputs": [],
      "source": [
        "# @title Video 4: Auto-Differentiation\n",
        "from ipywidgets import widgets\n",
        "from IPython.display import YouTubeVideo\n",
        "from IPython.display import IFrame\n",
        "from IPython.display import display\n",
        "\n",
        "\n",
        "class PlayVideo(IFrame):\n",
        "  def __init__(self, id, source, page=1, width=400, height=300, **kwargs):\n",
        "    self.id = id\n",
        "    if source == 'Bilibili':\n",
        "      src = f'https://player.bilibili.com/player.html?bvid={id}&page={page}'\n",
        "    elif source == 'Osf':\n",
        "      src = f'https://mfr.ca-1.osf.io/render?url=https://osf.io/download/{id}/?direct%26mode=render'\n",
        "    super(PlayVideo, self).__init__(src, width, height, **kwargs)\n",
        "\n",
        "\n",
        "def display_videos(video_ids, W=400, H=300, fs=1):\n",
        "  tab_contents = []\n",
        "  for i, video_id in enumerate(video_ids):\n",
        "    out = widgets.Output()\n",
        "    with out:\n",
        "      if video_ids[i][0] == 'Youtube':\n",
        "        video = YouTubeVideo(id=video_ids[i][1], width=W,\n",
        "                             height=H, fs=fs, rel=0)\n",
        "        print(f'Video available at https://youtube.com/watch?v={video.id}')\n",
        "      else:\n",
        "        video = PlayVideo(id=video_ids[i][1], source=video_ids[i][0], width=W,\n",
        "                          height=H, fs=fs, autoplay=False)\n",
        "        if video_ids[i][0] == 'Bilibili':\n",
        "          print(f'Video available at https://www.bilibili.com/video/{video.id}')\n",
        "        elif video_ids[i][0] == 'Osf':\n",
        "          print(f'Video available at https://osf.io/{video.id}')\n",
        "      display(video)\n",
        "    tab_contents.append(out)\n",
        "  return tab_contents\n",
        "\n",
        "\n",
        "video_ids = [('Youtube', 'IBYFCNyBcF8'), ('Bilibili', 'BV1UP4y1s7gv')]\n",
        "tab_contents = display_videos(video_ids, W=854, H=480)\n",
        "tabs = widgets.Tab()\n",
        "tabs.children = tab_contents\n",
        "for i in range(len(tab_contents)):\n",
        "  tabs.set_title(i, video_ids[i][0])\n",
        "display(tabs)"
      ]
    },
    {
      "cell_type": "code",
      "execution_count": null,
      "metadata": {
        "cellView": "form",
        "execution": {},
        "id": "8InKw0IkluRO"
      },
      "outputs": [],
      "source": [
        "# @title Submit your feedback\n",
        "content_review(f\"{feedback_prefix}_AutoDifferentiation_Video\")"
      ]
    },
    {
      "cell_type": "markdown",
      "metadata": {
        "execution": {},
        "id": "TfYJOXk_luRO"
      },
      "source": [
        "Deep learning frameworks such as PyTorch, JAX, and TensorFlow come with a very efficient and sophisticated set of algorithms, commonly known as Automatic Differentiation. AutoGrad is PyTorch's automatic differentiation engine. Here we start by covering the essentials of AutoGrad, and you will learn more in the coming days."
      ]
    },
    {
      "cell_type": "markdown",
      "metadata": {
        "execution": {},
        "id": "A81SElWjluRO"
      },
      "source": [
        "## Section 2.1: Forward Propagation\n",
        "\n",
        "Everything starts with the forward propagation (pass). PyTorch tracks all the instructions, as we declare the variables and operations, and it builds the graph when we call the `.backward()` pass. PyTorch rebuilds the graph every time we iterate or change it (or simply put, PyTorch uses a dynamic graph).\n",
        "\n",
        "For gradient descent, it is only required to have the gradients of cost function with respect to the variables we wish to learn. These variables are often called \"learnable / trainable parameters\" or simply \"parameters\" in PyTorch. In neural nets, weights and biases are often the learnable parameters."
      ]
    },
    {
      "cell_type": "markdown",
      "metadata": {
        "execution": {},
        "id": "c6BVNCWqluRO"
      },
      "source": [
        "### Coding Exercise 2.1: Buiding a Computational Graph\n",
        "\n",
        "In PyTorch, to indicate that a certain tensor contains learnable parameters, we can set the optional argument `requires_grad` to `True`. PyTorch will then track every operation using this tensor while configuring the computational graph. For this exercise, use the provided tensors to build the following graph, which implements a single neuron with scalar input and output.\n",
        "\n",
        "<br>\n",
        "\n",
        "<center><img src=\"https://raw.githubusercontent.com/NeuromatchAcademy/course-content-dl/main/tutorials/W1D2_LinearDeepLearning/static/simple_graph.png\" alt=\"Simple nn graph\" width=\"600\"/></center>"
      ]
    },
    {
      "cell_type": "code",
      "execution_count": null,
      "metadata": {
        "execution": {},
        "id": "3DBUK-1xluRP"
      },
      "outputs": [],
      "source": [
        "class SimpleGraph:\n",
        "  \"\"\"\n",
        "  Implementing Simple Computational Graph\n",
        "  \"\"\"\n",
        "\n",
        "  def __init__(self, w, b):\n",
        "    \"\"\"\n",
        "    Initializing the SimpleGraph\n",
        "\n",
        "    Args:\n",
        "      w: float\n",
        "        Initial value for weight\n",
        "      b: float\n",
        "        Initial value for bias\n",
        "\n",
        "    Returns:\n",
        "      Nothing\n",
        "    \"\"\"\n",
        "    assert isinstance(w, float)\n",
        "    assert isinstance(b, float)\n",
        "    self.w = torch.tensor([w], requires_grad=True)\n",
        "    self.b = torch.tensor([b], requires_grad=True)\n",
        "\n",
        "  def forward(self, x):\n",
        "    \"\"\"\n",
        "    Forward pass\n",
        "\n",
        "    Args:\n",
        "      x: torch.Tensor\n",
        "        1D tensor of features\n",
        "\n",
        "    Returns:\n",
        "      prediction: torch.Tensor\n",
        "        Model predictions\n",
        "    \"\"\"\n",
        "    assert isinstance(x, torch.Tensor)\n",
        "    #################################################\n",
        "    ## Implement the the forward pass to calculate prediction\n",
        "    ## Note that prediction is not the loss, but the value after `tanh`\n",
        "    # Complete the function and remove or comment the line below\n",
        "    raise NotImplementedError(\"Forward Pass `forward`\")\n",
        "    #################################################\n",
        "    prediction = ...\n",
        "    return prediction\n",
        "\n",
        "\n",
        "def sq_loss(y_true, y_prediction):\n",
        "  \"\"\"\n",
        "  L2 loss function\n",
        "\n",
        "  Args:\n",
        "    y_true: torch.Tensor\n",
        "      1D tensor of target labels\n",
        "    y_prediction: torch.Tensor\n",
        "      1D tensor of predictions\n",
        "\n",
        "  Returns:\n",
        "    loss: torch.Tensor\n",
        "      L2-loss (squared error)\n",
        "  \"\"\"\n",
        "  assert isinstance(y_true, torch.Tensor)\n",
        "  assert isinstance(y_prediction, torch.Tensor)\n",
        "  #################################################\n",
        "  ## Implement the L2-loss (squred error) given true label and prediction\n",
        "  # Complete the function and remove or comment the line below\n",
        "  raise NotImplementedError(\"Loss function `sq_loss`\")\n",
        "  #################################################\n",
        "  loss = ...\n",
        "  return loss\n",
        "\n",
        "\n",
        "\n",
        "feature = torch.tensor([1])  # Input tensor\n",
        "target = torch.tensor([7])  # Target tensor\n",
        "## Uncomment to run\n",
        "# simple_graph = SimpleGraph(-0.5, 0.5)\n",
        "# print(f\"initial weight = {simple_graph.w.item()}, \"\n",
        "#       f\"\\ninitial bias = {simple_graph.b.item()}\")\n",
        "# prediction = simple_graph.forward(feature)\n",
        "# square_loss = sq_loss(target, prediction)\n",
        "# print(f\"for x={feature.item()} and y={target.item()}, \"\n",
        "#       f\"prediction={prediction.item()}, and L2 Loss = {square_loss.item()}\")"
      ]
    },
    {
      "cell_type": "markdown",
      "metadata": {
        "execution": {},
        "id": "FFVEnUSZluRP"
      },
      "source": [
        "[*Click for solution*](https://github.com/NeuromatchAcademy/course-content-dl/tree/main/tutorials/W1D2_LinearDeepLearning/solutions/W1D2_Tutorial1_Solution_8510dab4.py)\n",
        "\n"
      ]
    },
    {
      "cell_type": "markdown",
      "metadata": {
        "execution": {},
        "id": "0-X7Aw-fluRP"
      },
      "source": [
        "It is important to appreciate the fact that PyTorch can follow our operations as we arbitrarily go through classes and functions."
      ]
    },
    {
      "cell_type": "code",
      "execution_count": null,
      "metadata": {
        "cellView": "form",
        "execution": {},
        "id": "fv1HGlEYluRQ"
      },
      "outputs": [],
      "source": [
        "# @title Submit your feedback\n",
        "content_review(f\"{feedback_prefix}_Building_a_computational_graph_Exercise\")"
      ]
    },
    {
      "cell_type": "markdown",
      "metadata": {
        "execution": {},
        "id": "x_51UTdOluRQ"
      },
      "source": [
        "## Section 2.2: Backward Propagation\n",
        "\n",
        "Here is where all the magic lies. In PyTorch, `Tensor` and `Function` are interconnected and build up an acyclic graph, that encodes a complete history of computation. Each variable has a `grad_fn` attribute that references a function that has created the Tensor (except for Tensors created by the user - these have `None` as `grad_fn`).  The example below shows that the tensor `c = a + b` is created by the `Add` operation and the gradient function is the object `<AddBackward...>`. Replace `+` with other single operations (e.g., `c = a * b` or `c = torch.sin(a)`) and examine the results."
      ]
    },
    {
      "cell_type": "code",
      "execution_count": null,
      "metadata": {
        "execution": {},
        "id": "nI6QDnpbluRQ"
      },
      "outputs": [],
      "source": [
        "a = torch.tensor([1.0], requires_grad=True)\n",
        "b = torch.tensor([-1.0], requires_grad=True)\n",
        "c = a + b\n",
        "print(f'Gradient function = {c.grad_fn}')"
      ]
    },
    {
      "cell_type": "markdown",
      "metadata": {
        "execution": {},
        "id": "LrjNb4UjluRQ"
      },
      "source": [
        "For more complex functions, printing the `grad_fn` would only show the last operation, even though the object tracks all the operations up to that point:"
      ]
    },
    {
      "cell_type": "code",
      "execution_count": null,
      "metadata": {
        "execution": {},
        "id": "EKHbVsd8luRR"
      },
      "outputs": [],
      "source": [
        "print(f'Gradient function for prediction = {prediction.grad_fn}')\n",
        "print(f'Gradient function for loss = {square_loss.grad_fn}')"
      ]
    },
    {
      "cell_type": "markdown",
      "metadata": {
        "execution": {},
        "id": "UPQcsXMUluRR"
      },
      "source": [
        "Now let's kick off the backward pass to calculate the gradients by calling `.backward()` on the tensor we wish to initiate the backpropagation from. Often, `.backward()` is called on the loss, which is the last node on the graph. Before doing that, let's calculate the loss gradients by hand:\n",
        "\n",
        "$$\\frac{\\partial{loss}}{\\partial{w}} = - 2 x (y_t - y_p)(1 - y_p^2)$$\n",
        "\n",
        "$$\\frac{\\partial{loss}}{\\partial{b}} = - 2 (y_t - y_p)(1 - y_p^2)$$\n",
        "\n",
        "Where $y_t$ is the target (true label), and $y_p$ is the prediction (model output). We can then compare it to PyTorch gradients, which can be obtained by calling `.grad` on the relevant tensors.\n",
        "\n",
        "**Important Notes:**\n",
        "* Learnable parameters (i.e. `requires_grad` tensors) are \"contagious\". Let's look at a simple example: `Y = W @ X`, where `X` is the feature tensors and `W` is the weight tensor (learnable parameters, `requires_grad`), the newly generated output tensor `Y` will be also `requires_grad`. So any operation that is applied to `Y` will be part of the computational graph. Therefore, if we need to plot or store a tensor that is `requires_grad`, we must first `.detach()` it from the graph by calling the `.detach()` method on that tensor.\n",
        "\n",
        "* `.backward()` accumulates gradients in the leaf nodes (i.e., the input nodes to the node of interest). We can call `.zero_grad()` on the loss or optimizer to zero out all `.grad` attributes (see [autograd.backward](https://pytorch.org/docs/stable/autograd.html#torch.autograd.backward) for more information).\n",
        "\n",
        "* Recall that in python we can access variables and associated methods with `.method_name`. You can use the command `dir(my_object)` to observe all variables and associated methods to your object, e.g., `dir(simple_graph.w)`."
      ]
    },
    {
      "cell_type": "code",
      "execution_count": null,
      "metadata": {
        "execution": {},
        "id": "d17HuJMBluRR"
      },
      "outputs": [],
      "source": [
        "# Analytical gradients (Remember detaching)\n",
        "ana_dloss_dw = - 2 * feature * (target - prediction.detach())*(1 - prediction.detach()**2)\n",
        "ana_dloss_db = - 2 * (target - prediction.detach())*(1 - prediction.detach()**2)\n",
        "\n",
        "square_loss.backward()  # First we should call the backward to build the graph\n",
        "autograd_dloss_dw = simple_graph.w.grad  # We calculate the derivative w.r.t weights\n",
        "autograd_dloss_db = simple_graph.b.grad  # We calculate the derivative w.r.t bias\n",
        "\n",
        "print(ana_dloss_dw == autograd_dloss_dw)\n",
        "print(ana_dloss_db == autograd_dloss_db)"
      ]
    },
    {
      "cell_type": "markdown",
      "metadata": {
        "execution": {},
        "id": "8yUMcISeluRR"
      },
      "source": [
        "### References and more\n",
        "\n",
        "* [A gentle introduction to torch.autograd](https://pytorch.org/tutorials/beginner/blitz/autograd_tutorial.html)\n",
        "\n",
        "* [Automatic Differentiation package - torch.autograd](https://pytorch.org/docs/stable/autograd.html)\n",
        "\n",
        "* [Autograd mechanics](https://pytorch.org/docs/stable/notes/autograd.html)\n",
        "\n",
        "* [Automatic Differentiation with torch.autograd](https://pytorch.org/tutorials/beginner/basics/autogradqs_tutorial.html)"
      ]
    },
    {
      "cell_type": "markdown",
      "metadata": {
        "execution": {},
        "id": "DdluOdn8luRR"
      },
      "source": [
        "---\n",
        "# Section 3: PyTorch's Neural Net module (`nn.Module`)\n",
        "\n",
        "*Time estimate: ~30 mins*"
      ]
    },
    {
      "cell_type": "code",
      "execution_count": null,
      "metadata": {
        "cellView": "form",
        "execution": {},
        "id": "hLXcG5sDluRS"
      },
      "outputs": [],
      "source": [
        "# @title Video 5: PyTorch `nn` module\n",
        "from ipywidgets import widgets\n",
        "from IPython.display import YouTubeVideo\n",
        "from IPython.display import IFrame\n",
        "from IPython.display import display\n",
        "\n",
        "\n",
        "class PlayVideo(IFrame):\n",
        "  def __init__(self, id, source, page=1, width=400, height=300, **kwargs):\n",
        "    self.id = id\n",
        "    if source == 'Bilibili':\n",
        "      src = f'https://player.bilibili.com/player.html?bvid={id}&page={page}'\n",
        "    elif source == 'Osf':\n",
        "      src = f'https://mfr.ca-1.osf.io/render?url=https://osf.io/download/{id}/?direct%26mode=render'\n",
        "    super(PlayVideo, self).__init__(src, width, height, **kwargs)\n",
        "\n",
        "\n",
        "def display_videos(video_ids, W=400, H=300, fs=1):\n",
        "  tab_contents = []\n",
        "  for i, video_id in enumerate(video_ids):\n",
        "    out = widgets.Output()\n",
        "    with out:\n",
        "      if video_ids[i][0] == 'Youtube':\n",
        "        video = YouTubeVideo(id=video_ids[i][1], width=W,\n",
        "                             height=H, fs=fs, rel=0)\n",
        "        print(f'Video available at https://youtube.com/watch?v={video.id}')\n",
        "      else:\n",
        "        video = PlayVideo(id=video_ids[i][1], source=video_ids[i][0], width=W,\n",
        "                          height=H, fs=fs, autoplay=False)\n",
        "        if video_ids[i][0] == 'Bilibili':\n",
        "          print(f'Video available at https://www.bilibili.com/video/{video.id}')\n",
        "        elif video_ids[i][0] == 'Osf':\n",
        "          print(f'Video available at https://osf.io/{video.id}')\n",
        "      display(video)\n",
        "    tab_contents.append(out)\n",
        "  return tab_contents\n",
        "\n",
        "\n",
        "video_ids = [('Youtube', 'jzTbQACq7KE'), ('Bilibili', 'BV1MU4y1H7WH')]\n",
        "tab_contents = display_videos(video_ids, W=854, H=480)\n",
        "tabs = widgets.Tab()\n",
        "tabs.children = tab_contents\n",
        "for i in range(len(tab_contents)):\n",
        "  tabs.set_title(i, video_ids[i][0])\n",
        "display(tabs)"
      ]
    },
    {
      "cell_type": "code",
      "execution_count": null,
      "metadata": {
        "cellView": "form",
        "execution": {},
        "id": "Wt4RJ8VzluRS"
      },
      "outputs": [],
      "source": [
        "# @title Submit your feedback\n",
        "content_review(f\"{feedback_prefix}_Pytorch_nn_module_Video\")"
      ]
    },
    {
      "cell_type": "markdown",
      "metadata": {
        "execution": {},
        "id": "5zGsZzSyluRS"
      },
      "source": [
        "PyTorch provides us with ready-to-use neural network building blocks, such as layers (e.g., linear, recurrent, etc.), different activation and loss functions, and much more, packed in the [`torch.nn`](https://pytorch.org/docs/stable/nn.html) module. If we build a neural network using `torch.nn` layers, the weights and biases are already in `requires_grad` mode and will be registered as model parameters.\n",
        "\n",
        "For training, we need three things:\n",
        "\n",
        "* **Model parameters:** Model parameters refer to all the learnable parameters of the model, which are accessible by calling `.parameters()` on the model. Please note that NOT all the `requires_grad` tensors are seen as model parameters. To create a custom model parameter, we can use [`nn.Parameter`](https://pytorch.org/docs/stable/generated/torch.nn.parameter.Parameter.html) (*A kind of Tensor that is to be considered a module parameter*).\n",
        "\n",
        "* **Loss function:** The loss that we are going to be optimizing, which is often combined with regularization terms (coming up in few days).\n",
        "\n",
        "* **Optimizer:** PyTorch provides us with many optimization methods (different versions of gradient descent). Optimizer holds the current state of the model and by calling the `step()` method, will update the parameters based on the computed gradients.\n",
        "\n",
        "You will learn more details about choosing the right model architecture, loss function, and optimizer later in the course."
      ]
    },
    {
      "cell_type": "markdown",
      "metadata": {
        "execution": {},
        "id": "Nh4SNUpzluRT"
      },
      "source": [
        "## Section 3.1: Training loop in PyTorch\n",
        "\n",
        "We use a regression problem to study the training loop in PyTorch.\n",
        "\n",
        "The task is to train a wide nonlinear (using $\\tanh$ activation function) neural net for a simple $\\sin$ regression task. Wide neural networks are thought to be really good at generalization."
      ]
    },
    {
      "cell_type": "code",
      "execution_count": null,
      "metadata": {
        "cellView": "form",
        "execution": {},
        "id": "67uzc5s7luRT"
      },
      "outputs": [],
      "source": [
        "# @markdown #### Generate the sample dataset\n",
        "set_seed(seed=SEED)\n",
        "n_samples = 32\n",
        "inputs = torch.linspace(-1.0, 1.0, n_samples).reshape(n_samples, 1)\n",
        "noise = torch.randn(n_samples, 1) / 4\n",
        "targets = torch.sin(pi * inputs) + noise\n",
        "plt.figure(figsize=(8, 5))\n",
        "plt.scatter(inputs, targets, c='c')\n",
        "plt.xlabel('x (inputs)')\n",
        "plt.ylabel('y (targets)')\n",
        "plt.show()"
      ]
    },
    {
      "cell_type": "markdown",
      "metadata": {
        "execution": {},
        "id": "xK6VNHb6luRT"
      },
      "source": [
        "Let's define a very wide (512 neurons) neural net with one hidden layer and `nn.Tanh()` activation function."
      ]
    },
    {
      "cell_type": "code",
      "execution_count": null,
      "metadata": {
        "execution": {},
        "id": "9DrpUe5qluRT"
      },
      "outputs": [],
      "source": [
        "class WideNet(nn.Module):\n",
        "  \"\"\"\n",
        "   A Wide neural network with a single hidden layer\n",
        "   Structure is as follows:\n",
        "   nn.Sequential(\n",
        "        nn.Linear(1, n_cells) + nn.Tanh(), # Fully connected layer with tanh activation\n",
        "        nn.Linear(n_cells, 1) # Final fully connected layer\n",
        "    )\n",
        "  \"\"\"\n",
        "\n",
        "  def __init__(self):\n",
        "    \"\"\"\n",
        "    Initializing the parameters of WideNet\n",
        "\n",
        "    Args:\n",
        "      None\n",
        "\n",
        "    Returns:\n",
        "      Nothing\n",
        "    \"\"\"\n",
        "    n_cells = 512\n",
        "    super().__init__()\n",
        "    self.layers = nn.Sequential(\n",
        "        nn.Linear(1, n_cells),\n",
        "        nn.Tanh(),\n",
        "        nn.Linear(n_cells, 1),\n",
        "    )\n",
        "\n",
        "  def forward(self, x):\n",
        "    \"\"\"\n",
        "    Forward pass of WideNet\n",
        "\n",
        "    Args:\n",
        "      x: torch.Tensor\n",
        "        2D tensor of features\n",
        "\n",
        "    Returns:\n",
        "      Torch tensor of model predictions\n",
        "    \"\"\"\n",
        "    return self.layers(x)"
      ]
    },
    {
      "cell_type": "markdown",
      "metadata": {
        "execution": {},
        "id": "9FfnCsYSluRU"
      },
      "source": [
        "We can now create an instance of our neural net and print its parameters."
      ]
    },
    {
      "cell_type": "code",
      "execution_count": null,
      "metadata": {
        "execution": {},
        "id": "XOwpZOjVluRU"
      },
      "outputs": [],
      "source": [
        "# Creating an instance\n",
        "set_seed(seed=SEED)\n",
        "wide_net = WideNet()\n",
        "print(wide_net)"
      ]
    },
    {
      "cell_type": "code",
      "execution_count": null,
      "metadata": {
        "execution": {},
        "id": "0hcJtsDWluRU"
      },
      "outputs": [],
      "source": [
        "# Create a mse loss function\n",
        "loss_function = nn.MSELoss()\n",
        "\n",
        "# Stochstic Gradient Descent optimizer (you will learn about momentum soon)\n",
        "lr = 0.003  # Learning rate\n",
        "sgd_optimizer = torch.optim.SGD(wide_net.parameters(), lr=lr, momentum=0.9)"
      ]
    },
    {
      "cell_type": "markdown",
      "metadata": {
        "execution": {},
        "id": "x6pGn8UhluRU"
      },
      "source": [
        "The training process in PyTorch is interactive - you can perform training iterations as you wish and inspect the results after each iteration.\n",
        "\n",
        "Let's perform one training iteration. You can run the cell multiple times and see how the parameters are being updated and the loss is reducing. This code block is the core of everything to come: please make sure you go line-by-line through all the commands and discuss their purpose with your pod."
      ]
    },
    {
      "cell_type": "code",
      "execution_count": null,
      "metadata": {
        "execution": {},
        "id": "n6aCq7J0luRV"
      },
      "outputs": [],
      "source": [
        "# Reset all gradients to zero\n",
        "sgd_optimizer.zero_grad()\n",
        "\n",
        "# Forward pass (Compute the output of the model on the features (inputs))\n",
        "prediction = wide_net(inputs)\n",
        "\n",
        "# Compute the loss\n",
        "loss = loss_function(prediction, targets)\n",
        "print(f'Loss: {loss.item()}')\n",
        "\n",
        "# Perform backpropagation to build the graph and compute the gradients\n",
        "loss.backward()\n",
        "\n",
        "# Optimizer takes a tiny step in the steepest direction (negative of gradient)\n",
        "# and \"updates\" the weights and biases of the network\n",
        "sgd_optimizer.step()"
      ]
    },
    {
      "cell_type": "markdown",
      "metadata": {
        "execution": {},
        "id": "FeMqaTMnluRV"
      },
      "source": [
        "### Coding Exercise 3.1: Training Loop\n",
        "\n",
        "Using everything we've learned so far, we ask you to complete the `train` function below."
      ]
    },
    {
      "cell_type": "code",
      "execution_count": null,
      "metadata": {
        "execution": {},
        "id": "G_tJMwHNluRV"
      },
      "outputs": [],
      "source": [
        "def train(features, labels, model, loss_fun, optimizer, n_epochs):\n",
        "  \"\"\"\n",
        "  Training function\n",
        "\n",
        "  Args:\n",
        "    features: torch.Tensor\n",
        "      Features (input) with shape torch.Size([n_samples, 1])\n",
        "    labels: torch.Tensor\n",
        "      Labels (targets) with shape torch.Size([n_samples, 1])\n",
        "    model: torch nn.Module\n",
        "      The neural network\n",
        "    loss_fun: function\n",
        "      Loss function\n",
        "    optimizer: function\n",
        "      Optimizer\n",
        "    n_epochs: int\n",
        "      Number of training iterations\n",
        "\n",
        "  Returns:\n",
        "    loss_record: list\n",
        "      Record (evolution) of training losses\n",
        "  \"\"\"\n",
        "  loss_record = []  # Keeping recods of loss\n",
        "\n",
        "  for i in range(n_epochs):\n",
        "    #################################################\n",
        "    ## Implement the missing parts of the training loop\n",
        "    # Complete the function and remove or comment the line below\n",
        "    raise NotImplementedError(\"Training loop `train`\")\n",
        "    #################################################\n",
        "    ...  # Set gradients to 0\n",
        "    predictions = ...  # Compute model prediction (output)\n",
        "    loss = ...  # Compute the loss\n",
        "    ...  # Compute gradients (backward pass)\n",
        "    ...  # Update parameters (optimizer takes a step)\n",
        "\n",
        "    loss_record.append(loss.item())\n",
        "  return loss_record\n",
        "\n",
        "\n",
        "\n",
        "set_seed(seed=2021)\n",
        "epochs = 1847 # Cauchy, Exercices d'analyse et de physique mathematique (1847)\n",
        "## Uncomment to run\n",
        "# losses = train(inputs, targets, wide_net, loss_function, sgd_optimizer, epochs)\n",
        "# ex3_plot(wide_net, inputs, targets, epochs, losses)"
      ]
    },
    {
      "cell_type": "markdown",
      "metadata": {
        "execution": {},
        "id": "w4ZBL1BdluRV"
      },
      "source": [
        "[*Click for solution*](https://github.com/NeuromatchAcademy/course-content-dl/tree/main/tutorials/W1D2_LinearDeepLearning/solutions/W1D2_Tutorial1_Solution_5901bdf4.py)\n",
        "\n"
      ]
    },
    {
      "cell_type": "code",
      "execution_count": null,
      "metadata": {
        "cellView": "form",
        "execution": {},
        "id": "4i3i0mc4luRV"
      },
      "outputs": [],
      "source": [
        "# @title Submit your feedback\n",
        "content_review(f\"{feedback_prefix}_Training_loop_Exercise\")"
      ]
    },
    {
      "cell_type": "markdown",
      "metadata": {
        "execution": {},
        "id": "80_U9mwHluRW"
      },
      "source": [
        "---\n",
        "# Summary"
      ]
    },
    {
      "cell_type": "markdown",
      "metadata": {
        "execution": {},
        "id": "4OAiskQ3luRW"
      },
      "source": [
        "In this tutorial, we covered one of the most basic concepts of deep learning; the computational graph and how a network learns via gradient descent and the backpropagation algorithm. We have seen all of these using PyTorch modules and we compared the analytical solutions with the ones provided directly by the PyTorch module."
      ]
    },
    {
      "cell_type": "code",
      "execution_count": null,
      "metadata": {
        "cellView": "form",
        "execution": {},
        "id": "hn78PKdUluRW"
      },
      "outputs": [],
      "source": [
        "# @title Video 6: Tutorial 1 Wrap-up\n",
        "from ipywidgets import widgets\n",
        "from IPython.display import YouTubeVideo\n",
        "from IPython.display import IFrame\n",
        "from IPython.display import display\n",
        "\n",
        "\n",
        "class PlayVideo(IFrame):\n",
        "  def __init__(self, id, source, page=1, width=400, height=300, **kwargs):\n",
        "    self.id = id\n",
        "    if source == 'Bilibili':\n",
        "      src = f'https://player.bilibili.com/player.html?bvid={id}&page={page}'\n",
        "    elif source == 'Osf':\n",
        "      src = f'https://mfr.ca-1.osf.io/render?url=https://osf.io/download/{id}/?direct%26mode=render'\n",
        "    super(PlayVideo, self).__init__(src, width, height, **kwargs)\n",
        "\n",
        "\n",
        "def display_videos(video_ids, W=400, H=300, fs=1):\n",
        "  tab_contents = []\n",
        "  for i, video_id in enumerate(video_ids):\n",
        "    out = widgets.Output()\n",
        "    with out:\n",
        "      if video_ids[i][0] == 'Youtube':\n",
        "        video = YouTubeVideo(id=video_ids[i][1], width=W,\n",
        "                             height=H, fs=fs, rel=0)\n",
        "        print(f'Video available at https://youtube.com/watch?v={video.id}')\n",
        "      else:\n",
        "        video = PlayVideo(id=video_ids[i][1], source=video_ids[i][0], width=W,\n",
        "                          height=H, fs=fs, autoplay=False)\n",
        "        if video_ids[i][0] == 'Bilibili':\n",
        "          print(f'Video available at https://www.bilibili.com/video/{video.id}')\n",
        "        elif video_ids[i][0] == 'Osf':\n",
        "          print(f'Video available at https://osf.io/{video.id}')\n",
        "      display(video)\n",
        "    tab_contents.append(out)\n",
        "  return tab_contents\n",
        "\n",
        "\n",
        "video_ids = [('Youtube', 'TvZURbcnXc4'), ('Bilibili', 'BV1Pg41177VU')]\n",
        "tab_contents = display_videos(video_ids, W=854, H=480)\n",
        "tabs = widgets.Tab()\n",
        "tabs.children = tab_contents\n",
        "for i in range(len(tab_contents)):\n",
        "  tabs.set_title(i, video_ids[i][0])\n",
        "display(tabs)"
      ]
    },
    {
      "cell_type": "code",
      "execution_count": null,
      "metadata": {
        "cellView": "form",
        "execution": {},
        "id": "7PdyVWgxluRW"
      },
      "outputs": [],
      "source": [
        "# @title Submit your feedback\n",
        "content_review(f\"{feedback_prefix}_Tutorial_1_WrapUp_Video\")"
      ]
    }
  ],
  "metadata": {
    "colab": {
      "name": "W1D2_Tutorial1",
      "provenance": [],
      "toc_visible": true,
      "gpuType": "T4",
      "include_colab_link": true
    },
    "kernel": {
      "display_name": "Python 3",
      "language": "python",
      "name": "python3"
    },
    "kernelspec": {
      "display_name": "Python 3",
      "name": "python3"
    },
    "language_info": {
      "codemirror_mode": {
        "name": "ipython",
        "version": 3
      },
      "file_extension": ".py",
      "mimetype": "text/x-python",
      "name": "python",
      "nbconvert_exporter": "python",
      "pygments_lexer": "ipython3",
      "version": "3.7.11"
    },
    "accelerator": "GPU",
    "widgets": {
      "application/vnd.jupyter.widget-state+json": {
        "4600bd61477e4b3492fc2a75c8d39382": {
          "model_module": "@jupyter-widgets/controls",
          "model_name": "TabModel",
          "model_module_version": "1.5.0",
          "state": {
            "_dom_classes": [],
            "_model_module": "@jupyter-widgets/controls",
            "_model_module_version": "1.5.0",
            "_model_name": "TabModel",
            "_titles": {
              "0": "Youtube",
              "1": "Bilibili"
            },
            "_view_count": null,
            "_view_module": "@jupyter-widgets/controls",
            "_view_module_version": "1.5.0",
            "_view_name": "TabView",
            "box_style": "",
            "children": [
              "IPY_MODEL_af20d21ab3244b93a3f99ceb3c38b138",
              "IPY_MODEL_a256a65def204b57bd6f771d1ea83753"
            ],
            "layout": "IPY_MODEL_3451da7c1d0842fa966ff909a25c528d",
            "selected_index": 0
          }
        },
        "af20d21ab3244b93a3f99ceb3c38b138": {
          "model_module": "@jupyter-widgets/output",
          "model_name": "OutputModel",
          "model_module_version": "1.0.0",
          "state": {
            "_dom_classes": [],
            "_model_module": "@jupyter-widgets/output",
            "_model_module_version": "1.0.0",
            "_model_name": "OutputModel",
            "_view_count": null,
            "_view_module": "@jupyter-widgets/output",
            "_view_module_version": "1.0.0",
            "_view_name": "OutputView",
            "layout": "IPY_MODEL_5783d98bbbc04e5fadace2001a04ba4e",
            "msg_id": "",
            "outputs": [
              {
                "output_type": "stream",
                "name": "stdout",
                "text": [
                  "Video available at https://youtube.com/watch?v=i7djAv2jnzY\n"
                ]
              },
              {
                "output_type": "display_data",
                "data": {
                  "text/plain": "<IPython.lib.display.YouTubeVideo at 0x7850a6d1c350>",
                  "text/html": "\n        <iframe\n            width=\"854\"\n            height=\"480\"\n            src=\"https://www.youtube.com/embed/i7djAv2jnzY?fs=1&rel=0\"\n            frameborder=\"0\"\n            allowfullscreen\n            \n        ></iframe>\n        ",
                  "image/jpeg": "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\n"
                },
                "metadata": {}
              }
            ]
          }
        },
        "a256a65def204b57bd6f771d1ea83753": {
          "model_module": "@jupyter-widgets/output",
          "model_name": "OutputModel",
          "model_module_version": "1.0.0",
          "state": {
            "_dom_classes": [],
            "_model_module": "@jupyter-widgets/output",
            "_model_module_version": "1.0.0",
            "_model_name": "OutputModel",
            "_view_count": null,
            "_view_module": "@jupyter-widgets/output",
            "_view_module_version": "1.0.0",
            "_view_name": "OutputView",
            "layout": "IPY_MODEL_750c7abd028743b9badff64bc747ae91",
            "msg_id": "",
            "outputs": [
              {
                "output_type": "stream",
                "name": "stdout",
                "text": [
                  "Video available at https://www.bilibili.com/video/BV1Qf4y1578t\n"
                ]
              },
              {
                "output_type": "display_data",
                "data": {
                  "text/plain": "<__main__.PlayVideo at 0x7850a6cf6110>",
                  "text/html": "\n        <iframe\n            width=\"854\"\n            height=\"480\"\n            src=\"https://player.bilibili.com/player.html?bvid=BV1Qf4y1578t&page=1?fs=1&autoplay=False\"\n            frameborder=\"0\"\n            allowfullscreen\n            \n        ></iframe>\n        "
                },
                "metadata": {}
              }
            ]
          }
        },
        "3451da7c1d0842fa966ff909a25c528d": {
          "model_module": "@jupyter-widgets/base",
          "model_name": "LayoutModel",
          "model_module_version": "1.2.0",
          "state": {
            "_model_module": "@jupyter-widgets/base",
            "_model_module_version": "1.2.0",
            "_model_name": "LayoutModel",
            "_view_count": null,
            "_view_module": "@jupyter-widgets/base",
            "_view_module_version": "1.2.0",
            "_view_name": "LayoutView",
            "align_content": null,
            "align_items": null,
            "align_self": null,
            "border": null,
            "bottom": null,
            "display": null,
            "flex": null,
            "flex_flow": null,
            "grid_area": null,
            "grid_auto_columns": null,
            "grid_auto_flow": null,
            "grid_auto_rows": null,
            "grid_column": null,
            "grid_gap": null,
            "grid_row": null,
            "grid_template_areas": null,
            "grid_template_columns": null,
            "grid_template_rows": null,
            "height": null,
            "justify_content": null,
            "justify_items": null,
            "left": null,
            "margin": null,
            "max_height": null,
            "max_width": null,
            "min_height": null,
            "min_width": null,
            "object_fit": null,
            "object_position": null,
            "order": null,
            "overflow": null,
            "overflow_x": null,
            "overflow_y": null,
            "padding": null,
            "right": null,
            "top": null,
            "visibility": null,
            "width": null
          }
        },
        "5783d98bbbc04e5fadace2001a04ba4e": {
          "model_module": "@jupyter-widgets/base",
          "model_name": "LayoutModel",
          "model_module_version": "1.2.0",
          "state": {
            "_model_module": "@jupyter-widgets/base",
            "_model_module_version": "1.2.0",
            "_model_name": "LayoutModel",
            "_view_count": null,
            "_view_module": "@jupyter-widgets/base",
            "_view_module_version": "1.2.0",
            "_view_name": "LayoutView",
            "align_content": null,
            "align_items": null,
            "align_self": null,
            "border": null,
            "bottom": null,
            "display": null,
            "flex": null,
            "flex_flow": null,
            "grid_area": null,
            "grid_auto_columns": null,
            "grid_auto_flow": null,
            "grid_auto_rows": null,
            "grid_column": null,
            "grid_gap": null,
            "grid_row": null,
            "grid_template_areas": null,
            "grid_template_columns": null,
            "grid_template_rows": null,
            "height": null,
            "justify_content": null,
            "justify_items": null,
            "left": null,
            "margin": null,
            "max_height": null,
            "max_width": null,
            "min_height": null,
            "min_width": null,
            "object_fit": null,
            "object_position": null,
            "order": null,
            "overflow": null,
            "overflow_x": null,
            "overflow_y": null,
            "padding": null,
            "right": null,
            "top": null,
            "visibility": null,
            "width": null
          }
        },
        "750c7abd028743b9badff64bc747ae91": {
          "model_module": "@jupyter-widgets/base",
          "model_name": "LayoutModel",
          "model_module_version": "1.2.0",
          "state": {
            "_model_module": "@jupyter-widgets/base",
            "_model_module_version": "1.2.0",
            "_model_name": "LayoutModel",
            "_view_count": null,
            "_view_module": "@jupyter-widgets/base",
            "_view_module_version": "1.2.0",
            "_view_name": "LayoutView",
            "align_content": null,
            "align_items": null,
            "align_self": null,
            "border": null,
            "bottom": null,
            "display": null,
            "flex": null,
            "flex_flow": null,
            "grid_area": null,
            "grid_auto_columns": null,
            "grid_auto_flow": null,
            "grid_auto_rows": null,
            "grid_column": null,
            "grid_gap": null,
            "grid_row": null,
            "grid_template_areas": null,
            "grid_template_columns": null,
            "grid_template_rows": null,
            "height": null,
            "justify_content": null,
            "justify_items": null,
            "left": null,
            "margin": null,
            "max_height": null,
            "max_width": null,
            "min_height": null,
            "min_width": null,
            "object_fit": null,
            "object_position": null,
            "order": null,
            "overflow": null,
            "overflow_x": null,
            "overflow_y": null,
            "padding": null,
            "right": null,
            "top": null,
            "visibility": null,
            "width": null
          }
        }
      }
    }
  },
  "nbformat": 4,
  "nbformat_minor": 0
}